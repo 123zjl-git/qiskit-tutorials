{
 "cells": [
  {
   "cell_type": "markdown",
   "metadata": {},
   "source": [
    "<img src=\"../../images/qiskit-heading.gif\" alt=\"Note: In order for images to show up in this jupyter notebook you need to select File => Trusted Notebook\" width=\"500 px\" align=\"left\">"
   ]
  },
  {
   "cell_type": "markdown",
   "metadata": {},
   "source": [
    "# Quantum Process Tomography\n",
    "\n",
    "* **Last Updated:** Feb 20, 2019\n",
    "* **Requires:** qiskit-terra 0.7, qiskit-ignis 0.1, qiskit-aer 0.1"
   ]
  },
  {
   "cell_type": "markdown",
   "metadata": {},
   "source": [
    "This notebook contains examples for using the ``ignis.verification.tomography`` process tomography module."
   ]
  },
  {
   "cell_type": "code",
   "execution_count": 1,
   "metadata": {},
   "outputs": [],
   "source": [
    "# Needed for functions\n",
    "import numpy as np\n",
    "import time\n",
    "\n",
    "# Import QISKit classes\n",
    "import qiskit\n",
    "from qiskit import QuantumRegister, QuantumCircuit, Aer\n",
    "from qiskit.quantum_info import state_fidelity\n",
    "from qiskit.tools.qi.qi import outer\n",
    "\n",
    "# Tomography functions\n",
    "from qiskit.ignis.verification.tomography import process_tomography_circuits, ProcessTomographyFitter"
   ]
  },
  {
   "cell_type": "markdown",
   "metadata": {},
   "source": [
    "## 1-qubit process tomography example"
   ]
  },
  {
   "cell_type": "code",
   "execution_count": 2,
   "metadata": {},
   "outputs": [
    {
     "data": {
      "text/plain": [
       "{(('Zp',), ('X',)): {'0': 4000},\n",
       " (('Zp',), ('Y',)): {'1': 1999, '0': 2001},\n",
       " (('Zp',), ('Z',)): {'1': 2023, '0': 1977},\n",
       " (('Zm',), ('X',)): {'1': 4000},\n",
       " (('Zm',), ('Y',)): {'1': 1965, '0': 2035},\n",
       " (('Zm',), ('Z',)): {'1': 2044, '0': 1956},\n",
       " (('Xp',), ('X',)): {'1': 2008, '0': 1992},\n",
       " (('Xp',), ('Y',)): {'1': 1963, '0': 2037},\n",
       " (('Xp',), ('Z',)): {'0': 4000},\n",
       " (('Yp',), ('X',)): {'1': 2016, '0': 1984},\n",
       " (('Yp',), ('Y',)): {'1': 4000},\n",
       " (('Yp',), ('Z',)): {'1': 1982, '0': 2018}}"
      ]
     },
     "execution_count": 2,
     "metadata": {},
     "output_type": "execute_result"
    }
   ],
   "source": [
    "# Process tomography of a Hadamard gate\n",
    "q = QuantumRegister(1)\n",
    "circ = QuantumCircuit(q)\n",
    "circ.h(q[0])\n",
    "\n",
    "# Run circuit on unitary simulator to find ideal unitary\n",
    "job = qiskit.execute(circ, Aer.get_backend('unitary_simulator'))\n",
    "ideal_unitary = job.result().get_unitary(circ)\n",
    "# convert to Choi-matrix in column-major convention\n",
    "choi_ideal = outer(ideal_unitary.ravel(order='F'))\n",
    "\n",
    "# Generate process tomography circuits and run on qasm simulator\n",
    "qpt_circs = process_tomography_circuits(circ, q)\n",
    "job = qiskit.execute(qpt_circs, Aer.get_backend('qasm_simulator'), shots=4000)\n",
    "\n",
    "# Extract tomography data so that counts are indexed by measurement configuration\n",
    "qpt_tomo = ProcessTomographyFitter(job.result(), qpt_circs)\n",
    "qpt_tomo.data"
   ]
  },
  {
   "cell_type": "code",
   "execution_count": 5,
   "metadata": {},
   "outputs": [
    {
     "name": "stdout",
     "output_type": "stream",
     "text": [
      "Least-Sq Fitter\n",
      "fit time: 0.027763843536376953\n",
      "fit fidelity: 0.9998798234552455\n",
      "\n",
      "CVXOPT Fitter\n",
      "fit time: 0.10211896896362305\n",
      "fit fidelity: 0.9999436462548462\n"
     ]
    }
   ],
   "source": [
    "# MLE Least-Squares tomographic reconstruction\n",
    "t = time.time()\n",
    "choi_lstsq = qpt_tomo.fit(method='lstsq')\n",
    "print('Least-Sq Fitter')\n",
    "print('fit time:', time.time() - t)\n",
    "print('fit fidelity:', state_fidelity(choi_ideal / 2, choi_lstsq.data / 2))\n",
    "\n",
    "# CVXOPT Semidefinite-Program tomographic reconstruction\n",
    "t = time.time()\n",
    "choi_cvx = qpt_tomo.fit(method='cvx')\n",
    "print('\\nCVXOPT Fitter')\n",
    "print('fit time:', time.time() - t)\n",
    "print('fit fidelity:', state_fidelity(choi_ideal / 2, choi_cvx.data / 2))"
   ]
  },
  {
   "cell_type": "markdown",
   "metadata": {},
   "source": [
    "## 1-qubit process tomography of two-qubit swap gate\n",
    "\n",
    "We will prepare qubit-0 and measure qubit-1 so the reconstructed channel should be an identity"
   ]
  },
  {
   "cell_type": "code",
   "execution_count": 6,
   "metadata": {},
   "outputs": [
    {
     "data": {
      "text/plain": [
       "{(('Zp',), ('X',)): {'1': 1002, '0': 998},\n",
       " (('Zp',), ('Y',)): {'1': 997, '0': 1003},\n",
       " (('Zp',), ('Z',)): {'0': 2000},\n",
       " (('Zm',), ('X',)): {'1': 1018, '0': 982},\n",
       " (('Zm',), ('Y',)): {'1': 974, '0': 1026},\n",
       " (('Zm',), ('Z',)): {'1': 2000},\n",
       " (('Xp',), ('X',)): {'0': 2000},\n",
       " (('Xp',), ('Y',)): {'1': 1019, '0': 981},\n",
       " (('Xp',), ('Z',)): {'1': 1012, '0': 988},\n",
       " (('Yp',), ('X',)): {'1': 989, '0': 1011},\n",
       " (('Yp',), ('Y',)): {'0': 2000},\n",
       " (('Yp',), ('Z',)): {'1': 1012, '0': 988}}"
      ]
     },
     "execution_count": 6,
     "metadata": {},
     "output_type": "execute_result"
    }
   ],
   "source": [
    "# Process tomography of a Hadamard gate\n",
    "q = QuantumRegister(2)\n",
    "circ = QuantumCircuit(q)\n",
    "circ.swap(q[0], q[1])\n",
    "\n",
    "# Ideal channel is a unitary\n",
    "ideal_unitary = np.eye(2)\n",
    "choi_ideal = outer(ideal_unitary.ravel(order='F'))\n",
    "\n",
    "# Generate process tomography circuits and run on qasm simulator\n",
    "# We use the optional prepared_qubits kwarg to specify that the prepared qubit was different to measured qubit\n",
    "qpt_circs = process_tomography_circuits(circ, q[1], prepared_qubits=q[0])\n",
    "job = qiskit.execute(qpt_circs, Aer.get_backend('qasm_simulator'), shots=2000)\n",
    "\n",
    "# Extract tomography data so that counts are indexed by measurement configuration\n",
    "qpt_tomo = ProcessTomographyFitter(job.result(), qpt_circs)\n",
    "qpt_tomo.data"
   ]
  },
  {
   "cell_type": "code",
   "execution_count": 7,
   "metadata": {},
   "outputs": [
    {
     "name": "stdout",
     "output_type": "stream",
     "text": [
      "Least-Sq Fitter\n",
      "fit time: 0.016274452209472656\n"
     ]
    },
    {
     "ename": "ValueError",
     "evalue": "object arrays are not supported",
     "output_type": "error",
     "traceback": [
      "\u001b[0;31m---------------------------------------------------------------------------\u001b[0m",
      "\u001b[0;31mValueError\u001b[0m                                Traceback (most recent call last)",
      "\u001b[0;32m<ipython-input-7-86056ee9ad69>\u001b[0m in \u001b[0;36m<module>\u001b[0;34m\u001b[0m\n\u001b[1;32m      4\u001b[0m \u001b[0mprint\u001b[0m\u001b[0;34m(\u001b[0m\u001b[0;34m'Least-Sq Fitter'\u001b[0m\u001b[0;34m)\u001b[0m\u001b[0;34m\u001b[0m\u001b[0m\n\u001b[1;32m      5\u001b[0m \u001b[0mprint\u001b[0m\u001b[0;34m(\u001b[0m\u001b[0;34m'fit time:'\u001b[0m\u001b[0;34m,\u001b[0m \u001b[0mtime\u001b[0m\u001b[0;34m.\u001b[0m\u001b[0mtime\u001b[0m\u001b[0;34m(\u001b[0m\u001b[0;34m)\u001b[0m \u001b[0;34m-\u001b[0m \u001b[0mt\u001b[0m\u001b[0;34m)\u001b[0m\u001b[0;34m\u001b[0m\u001b[0m\n\u001b[0;32m----> 6\u001b[0;31m \u001b[0mprint\u001b[0m\u001b[0;34m(\u001b[0m\u001b[0;34m'fit fidelity:'\u001b[0m\u001b[0;34m,\u001b[0m \u001b[0mstate_fidelity\u001b[0m\u001b[0;34m(\u001b[0m\u001b[0mchoi_ideal\u001b[0m \u001b[0;34m/\u001b[0m \u001b[0;36m2\u001b[0m\u001b[0;34m,\u001b[0m \u001b[0mchoi_lstsq\u001b[0m \u001b[0;34m/\u001b[0m \u001b[0;36m2\u001b[0m\u001b[0;34m)\u001b[0m\u001b[0;34m)\u001b[0m\u001b[0;34m\u001b[0m\u001b[0m\n\u001b[0m\u001b[1;32m      7\u001b[0m \u001b[0;34m\u001b[0m\u001b[0m\n\u001b[1;32m      8\u001b[0m \u001b[0;31m# CVXOPT Semidefinite-Program tomographic reconstruction\u001b[0m\u001b[0;34m\u001b[0m\u001b[0;34m\u001b[0m\u001b[0m\n",
      "\u001b[0;32m/gpfs/haifa/projects/q/qq/team/yaelbh/envQQ/terra/System1/qiskit/quantum_info/states/measures.py\u001b[0m in \u001b[0;36mstate_fidelity\u001b[0;34m(state1, state2)\u001b[0m\n\u001b[1;32m     57\u001b[0m     \u001b[0;31m# fidelity of two density matrices\u001b[0m\u001b[0;34m\u001b[0m\u001b[0;34m\u001b[0m\u001b[0m\n\u001b[1;32m     58\u001b[0m     \u001b[0ms1sq\u001b[0m \u001b[0;34m=\u001b[0m \u001b[0m_funm_svd\u001b[0m\u001b[0;34m(\u001b[0m\u001b[0ms1\u001b[0m\u001b[0;34m,\u001b[0m \u001b[0mnp\u001b[0m\u001b[0;34m.\u001b[0m\u001b[0msqrt\u001b[0m\u001b[0;34m)\u001b[0m\u001b[0;34m\u001b[0m\u001b[0m\n\u001b[0;32m---> 59\u001b[0;31m     \u001b[0ms2sq\u001b[0m \u001b[0;34m=\u001b[0m \u001b[0m_funm_svd\u001b[0m\u001b[0;34m(\u001b[0m\u001b[0ms2\u001b[0m\u001b[0;34m,\u001b[0m \u001b[0mnp\u001b[0m\u001b[0;34m.\u001b[0m\u001b[0msqrt\u001b[0m\u001b[0;34m)\u001b[0m\u001b[0;34m\u001b[0m\u001b[0m\n\u001b[0m\u001b[1;32m     60\u001b[0m     \u001b[0;32mreturn\u001b[0m \u001b[0mnp\u001b[0m\u001b[0;34m.\u001b[0m\u001b[0mlinalg\u001b[0m\u001b[0;34m.\u001b[0m\u001b[0mnorm\u001b[0m\u001b[0;34m(\u001b[0m\u001b[0ms1sq\u001b[0m\u001b[0;34m.\u001b[0m\u001b[0mdot\u001b[0m\u001b[0;34m(\u001b[0m\u001b[0ms2sq\u001b[0m\u001b[0;34m)\u001b[0m\u001b[0;34m,\u001b[0m \u001b[0mord\u001b[0m\u001b[0;34m=\u001b[0m\u001b[0;34m'nuc'\u001b[0m\u001b[0;34m)\u001b[0m \u001b[0;34m**\u001b[0m \u001b[0;36m2\u001b[0m\u001b[0;34m\u001b[0m\u001b[0m\n\u001b[1;32m     61\u001b[0m \u001b[0;34m\u001b[0m\u001b[0m\n",
      "\u001b[0;32m/gpfs/haifa/projects/q/qq/team/yaelbh/envQQ/terra/System1/qiskit/quantum_info/states/measures.py\u001b[0m in \u001b[0;36m_funm_svd\u001b[0;34m(a, func)\u001b[0m\n\u001b[1;32m     72\u001b[0m         \u001b[0mevaluated\u001b[0m \u001b[0mat\u001b[0m\u001b[0;31m \u001b[0m\u001b[0;31m`\u001b[0m\u001b[0mA\u001b[0m\u001b[0;31m`\u001b[0m\u001b[0;34m.\u001b[0m\u001b[0;34m\u001b[0m\u001b[0m\n\u001b[1;32m     73\u001b[0m     \"\"\"\n\u001b[0;32m---> 74\u001b[0;31m     \u001b[0mU\u001b[0m\u001b[0;34m,\u001b[0m \u001b[0ms\u001b[0m\u001b[0;34m,\u001b[0m \u001b[0mVh\u001b[0m \u001b[0;34m=\u001b[0m \u001b[0mla\u001b[0m\u001b[0;34m.\u001b[0m\u001b[0msvd\u001b[0m\u001b[0;34m(\u001b[0m\u001b[0ma\u001b[0m\u001b[0;34m,\u001b[0m \u001b[0mlapack_driver\u001b[0m\u001b[0;34m=\u001b[0m\u001b[0;34m'gesvd'\u001b[0m\u001b[0;34m)\u001b[0m\u001b[0;34m\u001b[0m\u001b[0m\n\u001b[0m\u001b[1;32m     75\u001b[0m     \u001b[0mS\u001b[0m \u001b[0;34m=\u001b[0m \u001b[0mnp\u001b[0m\u001b[0;34m.\u001b[0m\u001b[0mdiag\u001b[0m\u001b[0;34m(\u001b[0m\u001b[0mfunc\u001b[0m\u001b[0;34m(\u001b[0m\u001b[0ms\u001b[0m\u001b[0;34m)\u001b[0m\u001b[0;34m)\u001b[0m\u001b[0;34m\u001b[0m\u001b[0m\n\u001b[1;32m     76\u001b[0m     \u001b[0;32mreturn\u001b[0m \u001b[0mU\u001b[0m\u001b[0;34m.\u001b[0m\u001b[0mdot\u001b[0m\u001b[0;34m(\u001b[0m\u001b[0mS\u001b[0m\u001b[0;34m)\u001b[0m\u001b[0;34m.\u001b[0m\u001b[0mdot\u001b[0m\u001b[0;34m(\u001b[0m\u001b[0mVh\u001b[0m\u001b[0;34m)\u001b[0m\u001b[0;34m\u001b[0m\u001b[0m\n",
      "\u001b[0;32m/opt/anaconda3/envs/YaelIndicesEnv/lib/python3.6/site-packages/scipy/linalg/decomp_svd.py\u001b[0m in \u001b[0;36msvd\u001b[0;34m(a, full_matrices, compute_uv, overwrite_a, check_finite, lapack_driver)\u001b[0m\n\u001b[1;32m    107\u001b[0m \u001b[0;34m\u001b[0m\u001b[0m\n\u001b[1;32m    108\u001b[0m     \"\"\"\n\u001b[0;32m--> 109\u001b[0;31m     \u001b[0ma1\u001b[0m \u001b[0;34m=\u001b[0m \u001b[0m_asarray_validated\u001b[0m\u001b[0;34m(\u001b[0m\u001b[0ma\u001b[0m\u001b[0;34m,\u001b[0m \u001b[0mcheck_finite\u001b[0m\u001b[0;34m=\u001b[0m\u001b[0mcheck_finite\u001b[0m\u001b[0;34m)\u001b[0m\u001b[0;34m\u001b[0m\u001b[0m\n\u001b[0m\u001b[1;32m    110\u001b[0m     \u001b[0;32mif\u001b[0m \u001b[0mlen\u001b[0m\u001b[0;34m(\u001b[0m\u001b[0ma1\u001b[0m\u001b[0;34m.\u001b[0m\u001b[0mshape\u001b[0m\u001b[0;34m)\u001b[0m \u001b[0;34m!=\u001b[0m \u001b[0;36m2\u001b[0m\u001b[0;34m:\u001b[0m\u001b[0;34m\u001b[0m\u001b[0m\n\u001b[1;32m    111\u001b[0m         \u001b[0;32mraise\u001b[0m \u001b[0mValueError\u001b[0m\u001b[0;34m(\u001b[0m\u001b[0;34m'expected matrix'\u001b[0m\u001b[0;34m)\u001b[0m\u001b[0;34m\u001b[0m\u001b[0m\n",
      "\u001b[0;32m/opt/anaconda3/envs/YaelIndicesEnv/lib/python3.6/site-packages/scipy/_lib/_util.py\u001b[0m in \u001b[0;36m_asarray_validated\u001b[0;34m(a, check_finite, sparse_ok, objects_ok, mask_ok, as_inexact)\u001b[0m\n\u001b[1;32m    240\u001b[0m     \u001b[0;32mif\u001b[0m \u001b[0;32mnot\u001b[0m \u001b[0mobjects_ok\u001b[0m\u001b[0;34m:\u001b[0m\u001b[0;34m\u001b[0m\u001b[0m\n\u001b[1;32m    241\u001b[0m         \u001b[0;32mif\u001b[0m \u001b[0ma\u001b[0m\u001b[0;34m.\u001b[0m\u001b[0mdtype\u001b[0m \u001b[0;32mis\u001b[0m \u001b[0mnp\u001b[0m\u001b[0;34m.\u001b[0m\u001b[0mdtype\u001b[0m\u001b[0;34m(\u001b[0m\u001b[0;34m'O'\u001b[0m\u001b[0;34m)\u001b[0m\u001b[0;34m:\u001b[0m\u001b[0;34m\u001b[0m\u001b[0m\n\u001b[0;32m--> 242\u001b[0;31m             \u001b[0;32mraise\u001b[0m \u001b[0mValueError\u001b[0m\u001b[0;34m(\u001b[0m\u001b[0;34m'object arrays are not supported'\u001b[0m\u001b[0;34m)\u001b[0m\u001b[0;34m\u001b[0m\u001b[0m\n\u001b[0m\u001b[1;32m    243\u001b[0m     \u001b[0;32mif\u001b[0m \u001b[0mas_inexact\u001b[0m\u001b[0;34m:\u001b[0m\u001b[0;34m\u001b[0m\u001b[0m\n\u001b[1;32m    244\u001b[0m         \u001b[0;32mif\u001b[0m \u001b[0;32mnot\u001b[0m \u001b[0mnp\u001b[0m\u001b[0;34m.\u001b[0m\u001b[0missubdtype\u001b[0m\u001b[0;34m(\u001b[0m\u001b[0ma\u001b[0m\u001b[0;34m.\u001b[0m\u001b[0mdtype\u001b[0m\u001b[0;34m,\u001b[0m \u001b[0mnp\u001b[0m\u001b[0;34m.\u001b[0m\u001b[0minexact\u001b[0m\u001b[0;34m)\u001b[0m\u001b[0;34m:\u001b[0m\u001b[0;34m\u001b[0m\u001b[0m\n",
      "\u001b[0;31mValueError\u001b[0m: object arrays are not supported"
     ]
    }
   ],
   "source": [
    "# Least-Squares tomographic reconstruction\n",
    "t = time.time()\n",
    "choi_lstsq = qpt_tomo.fit(method='lstsq')\n",
    "print('Least-Sq Fitter')\n",
    "print('fit time:', time.time() - t)\n",
    "print('fit fidelity:', state_fidelity(choi_ideal / 2, choi_lstsq.data / 2))\n",
    "\n",
    "# CVXOPT Semidefinite-Program tomographic reconstruction\n",
    "t = time.time()\n",
    "choi_cvx = qpt_tomo.fit(method='cvx')\n",
    "print('\\nCVXOPT Fitter')\n",
    "print('fit time:', time.time() - t)\n",
    "print('fit fidelity:', state_fidelity(choi_ideal / 2, choi_cvx / 2))"
   ]
  },
  {
   "cell_type": "markdown",
   "metadata": {},
   "source": [
    "## 2-Qubit entangling circuit"
   ]
  },
  {
   "cell_type": "code",
   "execution_count": 6,
   "metadata": {},
   "outputs": [
    {
     "name": "stdout",
     "output_type": "stream",
     "text": [
      "Least-Sq Fitter\n",
      "fit time: 0.3261604309082031\n",
      "fit fidelity: 0.9823567774143099\n",
      "\n",
      "CVXOPT Fitter\n",
      "fit time: 7.974658012390137\n",
      "fit fidelity: 0.9998769180484732\n"
     ]
    }
   ],
   "source": [
    "# Bell-state entangling circuit\n",
    "q = QuantumRegister(2)\n",
    "circ = QuantumCircuit(q)\n",
    "circ.h(q[0])\n",
    "circ.cx(q[0], q[1])\n",
    "\n",
    "# Run circuit on unitary simulator to find ideal unitary\n",
    "job = qiskit.execute(circ, Aer.get_backend('unitary_simulator'))\n",
    "ideal_unitary = job.result().get_unitary(circ)\n",
    "# convert to Choi-matrix in column-major convention\n",
    "choi_ideal = outer(ideal_unitary.ravel(order='F'))\n",
    "\n",
    "# Generate process tomography circuits and run on qasm simulator\n",
    "qpt_circs = process_tomography_circuits(circ, q)\n",
    "job = qiskit.execute(qpt_circs, Aer.get_backend('qasm_simulator'), shots=2000)\n",
    "\n",
    "# Extract tomography data so that counts are indexed by measurement configuration\n",
    "qpt_tomo = ProcessTomographyFitter(job.result(), qpt_circs)\n",
    "\n",
    "t = time.time()\n",
    "choi_lstsq = qpt_tomo.fit(method='lstsq')\n",
    "print('Least-Sq Fitter')\n",
    "print('fit time:', time.time() - t)\n",
    "print('fit fidelity:', state_fidelity(choi_ideal / 4, choi_lstsq / 4))\n",
    "\n",
    "t = time.time()\n",
    "choi_cvx = qpt_tomo.fit(method='cvx')\n",
    "print('\\nCVXOPT Fitter')\n",
    "print('fit time:', time.time() - t)\n",
    "print('fit fidelity:', state_fidelity(choi_ideal / 4, choi_cvx / 4))"
   ]
  },
  {
   "cell_type": "markdown",
   "metadata": {},
   "source": [
    "## Using SIC-POVM preparation basis"
   ]
  },
  {
   "cell_type": "code",
   "execution_count": 7,
   "metadata": {},
   "outputs": [
    {
     "data": {
      "text/plain": [
       "{(('S0',), ('X',)): {'0': 2000},\n",
       " (('S0',), ('Y',)): {'0': 1009, '1': 991},\n",
       " (('S0',), ('Z',)): {'0': 1018, '1': 982},\n",
       " (('S1',), ('X',)): {'0': 691, '1': 1309},\n",
       " (('S1',), ('Y',)): {'0': 963, '1': 1037},\n",
       " (('S1',), ('Z',)): {'0': 1949, '1': 51},\n",
       " (('S2',), ('X',)): {'0': 665, '1': 1335},\n",
       " (('S2',), ('Y',)): {'0': 1823, '1': 177},\n",
       " (('S2',), ('Z',)): {'0': 517, '1': 1483},\n",
       " (('S3',), ('X',)): {'0': 636, '1': 1364},\n",
       " (('S3',), ('Y',)): {'0': 195, '1': 1805},\n",
       " (('S3',), ('Z',)): {'0': 516, '1': 1484}}"
      ]
     },
     "execution_count": 7,
     "metadata": {},
     "output_type": "execute_result"
    }
   ],
   "source": [
    "# Process tomography of a Hadamard gate\n",
    "q = QuantumRegister(1)\n",
    "circ = QuantumCircuit(q)\n",
    "circ.h(q[0])\n",
    "\n",
    "# Run circuit on unitary simulator to find ideal unitary\n",
    "job = qiskit.execute(circ, Aer.get_backend('unitary_simulator'))\n",
    "ideal_unitary = job.result().get_unitary(circ)\n",
    "# convert to Choi-matrix in column-major convention\n",
    "choi_ideal = outer(ideal_unitary.ravel(order='F'))\n",
    "\n",
    "# Generate process tomography circuits and run on qasm simulator\n",
    "qpt_circs = process_tomography_circuits(circ, q, prep_labels='SIC', prep_basis='SIC')\n",
    "job = qiskit.execute(qpt_circs, Aer.get_backend('qasm_simulator'), shots=2000)\n",
    "\n",
    "# Extract tomography data so that counts are indexed by measurement configuration\n",
    "qpt_tomo = ProcessTomographyFitter(job.result(), qpt_circs, prep_basis='SIC')\n",
    "qpt_tomo.data"
   ]
  },
  {
   "cell_type": "code",
   "execution_count": 8,
   "metadata": {},
   "outputs": [
    {
     "name": "stdout",
     "output_type": "stream",
     "text": [
      "Least-Sq Fitter\n",
      "fit time: 0.020174026489257812\n",
      "fit fidelity: 0.9949564246491261\n",
      "\n",
      "CVXOPT Fitter\n",
      "fit time: 0.14652347564697266\n",
      "fit fidelity: 0.9999150987701407\n"
     ]
    }
   ],
   "source": [
    "# MLE Least-Squares tomographic reconstruction\n",
    "t = time.time()\n",
    "choi_lstsq = qpt_tomo.fit(method='lstsq')\n",
    "print('Least-Sq Fitter')\n",
    "print('fit time:', time.time() - t)\n",
    "print('fit fidelity:', state_fidelity(choi_ideal / 2, choi_lstsq / 2))\n",
    "\n",
    "# CVXOPT Semidefinite-Program tomographic reconstruction\n",
    "t = time.time()\n",
    "choi_cvx = qpt_tomo.fit(method='cvx')\n",
    "\n",
    "print('\\nCVXOPT Fitter')\n",
    "print('fit time:', time.time() - t)\n",
    "print('fit fidelity:', state_fidelity(choi_ideal / 2, choi_cvx / 2))"
   ]
  }
 ],
 "metadata": {
  "kernelspec": {
   "display_name": "Python 3",
   "language": "python",
   "name": "python3"
  },
  "language_info": {
   "codemirror_mode": {
    "name": "ipython",
    "version": 3
   },
   "file_extension": ".py",
   "mimetype": "text/x-python",
   "name": "python",
   "nbconvert_exporter": "python",
   "pygments_lexer": "ipython3",
   "version": "3.6.5"
  }
 },
 "nbformat": 4,
 "nbformat_minor": 2
}
