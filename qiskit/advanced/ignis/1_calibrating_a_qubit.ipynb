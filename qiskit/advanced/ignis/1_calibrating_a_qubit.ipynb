{
 "cells": [
  {
   "cell_type": "markdown",
   "metadata": {},
   "source": [
    "<img src=\"../../../images/qiskit_header.png\" alt=\"Note: In order for images to show up in this jupyter notebook you need to select File => Trusted Notebook\" align=\"middle\">"
   ]
  },
  {
   "cell_type": "markdown",
   "metadata": {
    "slideshow": {
     "slide_type": "slide"
    }
   },
   "source": [
    "# Calibrating a Qubit"
   ]
  },
  {
   "cell_type": "code",
   "execution_count": 1,
   "metadata": {},
   "outputs": [],
   "source": [
    "import numpy as np\n",
    "import matplotlib.pyplot as plt\n",
    "from scipy.optimize import curve_fit\n",
    "\n",
    "from qiskit import IBMQ\n",
    "import qiskit.pulse as pulse\n",
    "import qiskit.pulse.pulse_lib as pulse_lib\n",
    "from qiskit.compiler import assemble\n",
    "from qiskit.qobj.utils import MeasLevel, MeasReturnType"
   ]
  },
  {
   "cell_type": "markdown",
   "metadata": {
    "slideshow": {
     "slide_type": "subslide"
    }
   },
   "source": [
    "### Loading pulse backend\n",
    "To run an OpenPulse experiment, at first we need to load a backend object of your quantum computing system with `open_pulse = True`. Then you will be able to program a `pulse` experiment using the pulse module. For more information on how to use the `pulse` module see this [tutorial](../terra/5_pulse_schedules.ipynb)."
   ]
  },
  {
   "cell_type": "markdown",
   "metadata": {},
   "source": [
    "In this example we use `ibmq_armonk`, a one qubit system publically available on the IBM Q Experience."
   ]
  },
  {
   "cell_type": "code",
   "execution_count": null,
   "metadata": {
    "slideshow": {
     "slide_type": "subslide"
    }
   },
   "outputs": [],
   "source": [
    "IBMQ.load_account()\n",
    "ibmq_provider = IBMQ.get_provider(\n",
    "    hub='provide_your_hub_name_here',\n",
    "    group='provide_your_group_name_here',\n",
    "    project='provide_your_project_name_here'\n",
    ")\n",
    "backend = ibmq_provider.get_backend('ibmq_armonk')"
   ]
  },
  {
   "cell_type": "code",
   "execution_count": 3,
   "metadata": {},
   "outputs": [],
   "source": [
    "config = backend.configuration()\n",
    "defaults = backend.defaults()"
   ]
  },
  {
   "cell_type": "markdown",
   "metadata": {},
   "source": [
    "### Create pulses"
   ]
  },
  {
   "cell_type": "markdown",
   "metadata": {
    "slideshow": {
     "slide_type": "subslide"
    }
   },
   "source": [
    "User defined pulses can be created by using the `pulse.function` decorator. A python callback function which returns an `array_like` object can be used to create pulses. The first argument of the function should be `duration` specifing the number of data points. You are also able to get standard pulse templates from `pulse_lib`, and able to find calibrated pulses provided by the backend in `CmdDef`. In this notebook, we use a Gaussian pulse template from `pulse_lib.gaussian` and default measurement pulses from `CmdDef`."
   ]
  },
  {
   "cell_type": "code",
   "execution_count": 4,
   "metadata": {},
   "outputs": [],
   "source": [
    "circ_inst_map = defaults.circuit_instruction_map\n",
    "\n",
    "measure = circ_inst_map.get('measure', qubits=config.meas_map[0])"
   ]
  },
  {
   "cell_type": "code",
   "execution_count": 5,
   "metadata": {},
   "outputs": [],
   "source": [
    "# auto-phase the output measurement signal\n",
    "\n",
    "def get_amplitude(vec):\n",
    "    i_signal = np.imag(vec)\n",
    "    r_signal = np.real(vec)\n",
    "\n",
    "    mvec = [np.mean(r_signal), np.mean(i_signal)]\n",
    "\n",
    "    src_mat = np.vstack((r_signal - mvec[0], i_signal - mvec[1])).T\n",
    "    (_, _, v_mat) = np.linalg.svd(src_mat)\n",
    "\n",
    "    dvec = v_mat[0, 0:2]\n",
    "\n",
    "    if dvec.dot(mvec) < 0:\n",
    "        dvec = -dvec\n",
    "\n",
    "    return src_mat.dot(dvec)"
   ]
  },
  {
   "cell_type": "markdown",
   "metadata": {},
   "source": [
    "In this notebook, we apply the backend default setting for drive and measurement pulse frequency. These frequencies are calibrated to be centered at resonanse frequency of corresponding qubit and readout resonator. To change this setting, you can refer to the [qiskit community tutorials](https://github.com/Qiskit/qiskit-community-tutorials)."
   ]
  },
  {
   "cell_type": "markdown",
   "metadata": {
    "slideshow": {
     "slide_type": "slide"
    }
   },
   "source": [
    "## _Running Rabi Experiment_"
   ]
  },
  {
   "cell_type": "markdown",
   "metadata": {
    "slideshow": {
     "slide_type": "subslide"
    }
   },
   "source": [
    "In this experiment, we apply a Rabi drive pulse to qubit0 and measure a signal from the qubit by changing the amplitude of the pulse (`drive_amps`) from 0 to 0.05. The returned signal is integrated and averaged over 512 shot. A `boxcar` kernel is used to process measurement data (**note**: currently the hardware overrides this specification, to be implemented in future versions). The result is stored in `memory_slot[0]`."
   ]
  },
  {
   "cell_type": "code",
   "execution_count": 6,
   "metadata": {
    "slideshow": {
     "slide_type": "subslide"
    }
   },
   "outputs": [],
   "source": [
    "# qubit to use for exeperiment\n",
    "qubit = 0\n",
    "\n",
    "# exp configuration\n",
    "exps = 64\n",
    "shots = 512\n",
    "\n",
    "# Rabi pulse\n",
    "drive_amps = np.linspace(0, 1.0, exps)\n",
    "drive_samples = 2048\n",
    "drive_sigma = 256\n",
    "\n",
    "# scaling factor for data returned by system\n",
    "scale_factor=1e-10"
   ]
  },
  {
   "cell_type": "markdown",
   "metadata": {
    "slideshow": {
     "slide_type": "subslide"
    }
   },
   "source": [
    "Pulse commands are registered to `Schedule`s with information of `channel` and `start_time`. The channel information is provided by `PulseChannelSpec`. You can create your `Schedule` by using schedule composition methods or their syntactic sugar as shown below:  \n",
    "\n",
    "- `|` (`union`): combine two `Schedule`s in parallel.\n",
    "- `+` (`append`): add a `Schedule` right after a `Schedule` to be appended.\n",
    "- `<<` (`shift`): shift `start_time` of `Schedule`.\n",
    "\n",
    "All details are available in [Pulse Schedules](../terra/5_pulse_schedules.ipynb).\n",
    "Created `Schedule`s can be combined into a single job."
   ]
  },
  {
   "cell_type": "code",
   "execution_count": 7,
   "metadata": {
    "slideshow": {
     "slide_type": "subslide"
    }
   },
   "outputs": [],
   "source": [
    "# Create schedule\n",
    "schedules = []\n",
    "for ii, drive_amp in enumerate(drive_amps):\n",
    "    # drive pulse\n",
    "    rabi_pulse = pulse_lib.gaussian(duration=drive_samples, amp=drive_amp, sigma=drive_sigma, name='rabi_pulse_%d' % ii)\n",
    "    \n",
    "    # add commands to schedule\n",
    "    schedule = pulse.Schedule(name='Rabi Experiment at drive amp = %s' % drive_amp)\n",
    "    \n",
    "    schedule |= rabi_pulse(pulse.DriveChannel(qubit))\n",
    "    schedule |= measure << schedule.duration\n",
    " \n",
    "    schedules.append(schedule)"
   ]
  },
  {
   "cell_type": "markdown",
   "metadata": {},
   "source": [
    "We may plot any of the experiment schedules with:"
   ]
  },
  {
   "cell_type": "code",
   "execution_count": 8,
   "metadata": {},
   "outputs": [
    {
     "data": {
      "image/png": "[encoded data removed]",
      "text/plain": [
       "<Figure size 720x864 with 1 Axes>"
      ]
     },
     "execution_count": 8,
     "metadata": {},
     "output_type": "execute_result"
    }
   ],
   "source": [
    "schedules[-1].draw(channels=[pulse.DriveChannel(qubit), pulse.MeasureChannel(qubit)],\n",
    "                   label=True, plot_range=(0, 4096))"
   ]
  },
  {
   "cell_type": "markdown",
   "metadata": {
    "slideshow": {
     "slide_type": "subslide"
    }
   },
   "source": [
    "After `Schedule`s are now build for the Rabi experiment. We now assemble the Qobj to be sent to the quantum computing system. We use `meas_level=MeasLevel.KERNELED` (otherwise known as measurement level `meas_level=1`)  to get the default kernel integrated results from the system, and we automatically average them with `meas_return=MeasReturnType.AVERAGE` (otherwise known as `meas_return='avg'`)."
   ]
  },
  {
   "cell_type": "code",
   "execution_count": 9,
   "metadata": {},
   "outputs": [],
   "source": [
    "rabi_qobj = assemble(schedules, backend, \n",
    "                     meas_level=MeasLevel.KERNELED, \n",
    "                     meas_return=MeasReturnType.AVERAGE, \n",
    "                     shots=shots)"
   ]
  },
  {
   "cell_type": "markdown",
   "metadata": {},
   "source": [
    "After building our rabi experiment Qobj we now submit it to the backend to be run."
   ]
  },
  {
   "cell_type": "code",
   "execution_count": 10,
   "metadata": {},
   "outputs": [],
   "source": [
    "job = backend.run(rabi_qobj)"
   ]
  },
  {
   "cell_type": "markdown",
   "metadata": {},
   "source": [
    "We receive a job object for our experiment which we may be used to monitor and get the results of the experiment."
   ]
  },
  {
   "cell_type": "code",
   "execution_count": 11,
   "metadata": {},
   "outputs": [
    {
     "data": {
      "text/plain": [
       "'5df01a6e60dba60011df07e4'"
      ]
     },
     "execution_count": 11,
     "metadata": {},
     "output_type": "execute_result"
    }
   ],
   "source": [
    "job.job_id()"
   ]
  },
  {
   "cell_type": "code",
   "execution_count": 12,
   "metadata": {},
   "outputs": [
    {
     "data": {
      "text/plain": [
       "<JobStatus.VALIDATING: 'job is being validated'>"
      ]
     },
     "execution_count": 12,
     "metadata": {},
     "output_type": "execute_result"
    }
   ],
   "source": [
    "job.status()"
   ]
  },
  {
   "cell_type": "markdown",
   "metadata": {},
   "source": [
    "We now ask for the result from the quantum computing system, which will block until completion (or timeout)."
   ]
  },
  {
   "cell_type": "code",
   "execution_count": 13,
   "metadata": {
    "slideshow": {
     "slide_type": "subslide"
    }
   },
   "outputs": [],
   "source": [
    "rabi_result = job.result(timeout=3600)"
   ]
  },
  {
   "cell_type": "markdown",
   "metadata": {
    "slideshow": {
     "slide_type": "slide"
    }
   },
   "source": [
    "### Analyze the result"
   ]
  },
  {
   "cell_type": "markdown",
   "metadata": {
    "slideshow": {
     "slide_type": "subslide"
    }
   },
   "source": [
    "The result for our experiment is stored in `memory_slot[qubit]`. The returned data are the integrated values of the received and mixed down stimulus signal applied to the measured resonator averaged over all shots. Looking at the signal amplitude, we will observe an oscillation of the signal as a function of the drive amplitude. This is known as a Rabi oscillation and correspond to the qubit being periodically driven to its excited state. This is how we control our qubits."
   ]
  },
  {
   "cell_type": "markdown",
   "metadata": {},
   "source": [
    "Below we extract the data from the returned system `memory`. "
   ]
  },
  {
   "cell_type": "code",
   "execution_count": 14,
   "metadata": {
    "slideshow": {
     "slide_type": "subslide"
    }
   },
   "outputs": [],
   "source": [
    "qubit_rabi_data = np.ones(exps, dtype=np.complex_)\n",
    "for i in range(exps):\n",
    "    qubit_rabi_data[i] = rabi_result.get_memory(i)[qubit]*scale_factor"
   ]
  },
  {
   "cell_type": "markdown",
   "metadata": {},
   "source": [
    "We now plot and fit the extracted signal to a sinusoid."
   ]
  },
  {
   "cell_type": "code",
   "execution_count": 15,
   "metadata": {
    "slideshow": {
     "slide_type": "subslide"
    }
   },
   "outputs": [
    {
     "name": "stdout",
     "output_type": "stream",
     "text": [
      "Pi Amplitude 0.305795\n"
     ]
    },
    {
     "data": {
      "image/png": "[encoded data removed]",
      "text/plain": [
       "<Figure size 432x288 with 1 Axes>"
      ]
     },
     "metadata": {
      "needs_background": "light"
     },
     "output_type": "display_data"
    }
   ],
   "source": [
    "rabi_amp_data = get_amplitude(qubit_rabi_data)\n",
    "\n",
    "fit_func = lambda x,A,B,Omega,phi: (A*np.cos(2*np.pi*x/Omega+phi)+B)\n",
    "\n",
    "#Fit the data\n",
    "fitparams, conv = curve_fit(fit_func, drive_amps, rabi_amp_data, [7.0,0.0,1.0,0])\n",
    "\n",
    "#get the pi amplitude\n",
    "pi_amp = (np.pi-fitparams[3])*fitparams[2]/4/np.pi\n",
    "\n",
    "plt.scatter(drive_amps, rabi_amp_data)\n",
    "plt.plot(drive_amps, fit_func(drive_amps, *fitparams), color='red')\n",
    "plt.axvline(pi_amp, color='black', linestyle='dashed')\n",
    "plt.xlim(0, 1)\n",
    "plt.ylim(-8, 8)\n",
    "plt.xlabel('Pulse amplitude, a.u.', fontsize=20)\n",
    "plt.ylabel('Signal, a.u.', fontsize=20)\n",
    "plt.title('Rough Pi Amplitude Calibration', fontsize=20)\n",
    "\n",
    "print('Pi Amplitude %f'%(pi_amp))"
   ]
  },
  {
   "cell_type": "markdown",
   "metadata": {},
   "source": [
    "From the fit we obtain the Rabi oscillation frequency. We may use this to extract the amplitude of a $\\pi$ pulse. This is the required amplitude to drive the qubit from the ground state ($|0\\rangle$) to the excited state ($|1\\rangle$)."
   ]
  },
  {
   "cell_type": "markdown",
   "metadata": {},
   "source": [
    "## _Measuring the IQ Distribution from the 0 and 1 States_"
   ]
  },
  {
   "cell_type": "markdown",
   "metadata": {},
   "source": [
    "In this experiment, we observe a change of measured signals depending on a quantum state of qubit0. By setting `drive_amp` to `pi_amp` we previously obtained, we can apply a $\\pi$-pulse to the qubit0. To observe a distribution on the IQ plane, we set `meas_return` to `single` ."
   ]
  },
  {
   "cell_type": "code",
   "execution_count": 17,
   "metadata": {},
   "outputs": [],
   "source": [
    "# Create schedule\n",
    "rabi_pulse = pulse_lib.gaussian(duration=drive_samples,\n",
    "                                amp=pi_amp,\n",
    "                                sigma=drive_sigma,\n",
    "                                name='pi_pulse')\n",
    "    \n",
    "# excited\n",
    "excited_exp = pulse.Schedule(name='pi_exp')\n",
    "excited_exp |= rabi_pulse(pulse.DriveChannel(qubit))\n",
    "excited_exp |= measure << rabi_pulse.duration\n",
    "\n",
    "# ground\n",
    "ground_exp = pulse.Schedule(name='no_pi_exp')\n",
    "ground_exp |= measure << rabi_pulse.duration\n",
    "\n",
    "excited_exp_schedules = [ground_exp, excited_exp]"
   ]
  },
  {
   "cell_type": "code",
   "execution_count": 18,
   "metadata": {},
   "outputs": [],
   "source": [
    "excited_exp_qobj = assemble(excited_exp_schedules, backend, meas_level=1,\n",
    "                            meas_return='single', shots=shots)"
   ]
  },
  {
   "cell_type": "code",
   "execution_count": null,
   "metadata": {},
   "outputs": [],
   "source": [
    "excited_exp_job = backend.run(excited_exp_qobj)"
   ]
  },
  {
   "cell_type": "code",
   "execution_count": null,
   "metadata": {},
   "outputs": [],
   "source": [
    "excited_exp_job.status()"
   ]
  },
  {
   "cell_type": "code",
   "execution_count": null,
   "metadata": {
    "slideshow": {
     "slide_type": "subslide"
    }
   },
   "outputs": [],
   "source": [
    "excited_exp_result = excited_exp_job.result(timeout=3600)"
   ]
  },
  {
   "cell_type": "markdown",
   "metadata": {},
   "source": [
    "### Analyze the result"
   ]
  },
  {
   "cell_type": "code",
   "execution_count": null,
   "metadata": {},
   "outputs": [],
   "source": [
    "excited_exp_result.get_memory(0)[:, 0].shape"
   ]
  },
  {
   "cell_type": "code",
   "execution_count": null,
   "metadata": {},
   "outputs": [],
   "source": [
    "ground_data = excited_exp_result.get_memory(0)[:, qubit]*scale_factor\n",
    "excited_data = excited_exp_result.get_memory(1)[:, qubit]*scale_factor\n"
   ]
  },
  {
   "cell_type": "code",
   "execution_count": null,
   "metadata": {},
   "outputs": [],
   "source": [
    "plt.scatter(np.real(ground_data), np.imag(ground_data), s=5, cmap='viridis',c='blue',alpha=0.5, label='|0>')\n",
    "plt.scatter(np.real(excited_data), np.imag(excited_data), s=5, cmap='viridis',c='green',alpha=0.5, label='|1>')\n",
    "ground_center = np.mean(ground_data)\n",
    "excited_center = np.mean(excited_data)\n",
    "\n",
    "plt.scatter(np.real(ground_center), np.imag(ground_center), c='blue', s=200, alpha=1.0)\n",
    "plt.scatter(np.real(excited_center), np.imag(excited_center), c='green', s=200, alpha=1.0)\n",
    "\n",
    "plt.title('Kernel integrated I-Q scatter plot', fontsize=20)\n",
    "plt.legend(loc='upper right')\n",
    "plt.xlabel('I (a.u.)', fontsize=16)\n",
    "plt.ylabel('Q (a.u.)', fontsize=16)"
   ]
  },
  {
   "cell_type": "code",
   "execution_count": null,
   "metadata": {
    "ExecuteTime": {
     "end_time": "2019-08-22T01:29:36.602627Z",
     "start_time": "2019-08-22T01:29:36.594016Z"
    }
   },
   "outputs": [],
   "source": [
    "import qiskit.tools.jupyter\n",
    "%qiskit_version_table\n",
    "%qiskit_copyright"
   ]
  }
 ],
 "metadata": {
  "kernelspec": {
   "display_name": "Python 3",
   "language": "python",
   "name": "python3"
  },
  "language_info": {
   "codemirror_mode": {
    "name": "ipython",
    "version": 3
   },
   "file_extension": ".py",
   "mimetype": "text/x-python",
   "name": "python",
   "nbconvert_exporter": "python",
   "pygments_lexer": "ipython3",
   "version": "3.7.4"
  },
  "varInspector": {
   "cols": {
    "lenName": 16,
    "lenType": 16,
    "lenVar": 40
   },
   "kernels_config": {
    "python": {
     "delete_cmd_postfix": "",
     "delete_cmd_prefix": "del ",
     "library": "var_list.py",
     "varRefreshCmd": "print(var_dic_list())"
    },
    "r": {
     "delete_cmd_postfix": ") ",
     "delete_cmd_prefix": "rm(",
     "library": "var_list.r",
     "varRefreshCmd": "cat(var_dic_list()) "
    }
   },
   "types_to_exclude": [
    "module",
    "function",
    "builtin_function_or_method",
    "instance",
    "_Feature"
   ],
   "window_display": false
  }
 },
 "nbformat": 4,
 "nbformat_minor": 2
}
