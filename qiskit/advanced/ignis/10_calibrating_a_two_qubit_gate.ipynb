{
 "cells": [
  {
   "cell_type": "markdown",
   "metadata": {},
   "source": [
    "<img src=\"../../../images/qiskit_header.png\" alt=\"Note: In order for images to show up in this jupyter notebook you need to select File => Trusted Notebook\" align=\"middle\">"
   ]
  },
  {
   "cell_type": "markdown",
   "metadata": {
    "slideshow": {
     "slide_type": "slide"
    }
   },
   "source": [
    "# Calibrating a Qubit"
   ]
  },
  {
   "cell_type": "code",
   "execution_count": 1,
   "metadata": {},
   "outputs": [],
   "source": [
    "import numpy as np\n",
    "import matplotlib.pyplot as plt\n",
    "from scipy.optimize import curve_fit\n",
    "\n",
    "from qiskit import IBMQ\n",
    "import qiskit.pulse as pulse\n",
    "import qiskit.pulse.pulse_lib as pulse_lib\n",
    "from qiskit.compiler import assemble\n",
    "from qiskit.qobj.utils import MeasLevel, MeasReturnType"
   ]
  },
  {
   "cell_type": "markdown",
   "metadata": {},
   "source": [
    "In this example we use `ibmq_almaden`, a 20 qubit client-only system as we require two qubits to perform our experiment."
   ]
  },
  {
   "cell_type": "code",
   "execution_count": null,
   "metadata": {
    "slideshow": {
     "slide_type": "subslide"
    }
   },
   "outputs": [],
   "source": [
    "IBMQ.load_account()\n",
    "ibmq_provider = IBMQ.get_provider(\n",
    "    hub='provide_your_hub_name_here',\n",
    "    group='provide_your_group_name_here',\n",
    "    project='provide_your_project_name_here'\n",
    ")\n",
    "backend = ibmq_provider.get_backend('ibmq_almaden')"
   ]
  },
  {
   "cell_type": "code",
   "execution_count": 7,
   "metadata": {},
   "outputs": [],
   "source": [
    "config = backend.configuration()\n",
    "defaults = backend.defaults()"
   ]
  },
  {
   "cell_type": "markdown",
   "metadata": {},
   "source": [
    "# Measuring CR Rabi oscillation\n",
    "\n",
    "In this section, we measure cross resonance Rabi oscillation on qubit0 and qubit1. The basic idea of cross resonance is applying a microwave pulse to a control qubit, but the pulse frequency is identical to a resonance frequency of target qubit. Because the oscillator frequency of drive channel used in previous experiments is adjusted to be at the resonance frequency of corresponding qubit, a cross resonance pulse should be applied from another channel to have different oscillator frequency. This is realized by a control channel (`U channel`) in this experiment.  \n",
    "It is to be noted that a role of control channels is not only applying CR pulses, but also anything as described in `config.hamiltonian`, and it strongly depends on the design of quantum computing system."
   ]
  },
  {
   "cell_type": "code",
   "execution_count": 8,
   "metadata": {},
   "outputs": [],
   "source": [
    "# qubit to use for exeperiment\n",
    "control_qubit = 1\n",
    "target_qubit = 0\n",
    "control_channel_index = 1\n",
    "\n",
    "# exp configuration\n",
    "exps = 30\n",
    "shots = 512\n",
    "\n",
    "# Rabi pulse\n",
    "cr_amps = np.linspace(0, 0.2, exps)\n",
    "cr_samples = 200\n",
    "cr_sigma = 4\n",
    "cr_rise_fall = 16\n",
    "\n",
    "# scaling factor for data returned by backend\n",
    "# note: You may have to adjust this for the backend you use\n",
    "scale_factor= 1e-14"
   ]
  },
  {
   "cell_type": "markdown",
   "metadata": {},
   "source": [
    "You can check if your control qubit and target qubit are connected by bus"
   ]
  },
  {
   "cell_type": "code",
   "execution_count": 9,
   "metadata": {},
   "outputs": [
    {
     "data": {
      "text/plain": [
       "True"
      ]
     },
     "execution_count": 9,
     "metadata": {},
     "output_type": "execute_result"
    }
   ],
   "source": [
    "[control_qubit, target_qubit] in config.coupling_map"
   ]
  },
  {
   "cell_type": "markdown",
   "metadata": {},
   "source": [
    "Usually we use a qubit with higher frequency as a control."
   ]
  },
  {
   "cell_type": "code",
   "execution_count": 10,
   "metadata": {},
   "outputs": [
    {
     "data": {
      "text/plain": [
       "True"
      ]
     },
     "execution_count": 10,
     "metadata": {},
     "output_type": "execute_result"
    }
   ],
   "source": [
    "defaults.qubit_freq_est[control_qubit] > defaults.qubit_freq_est[target_qubit]"
   ]
  },
  {
   "cell_type": "markdown",
   "metadata": {},
   "source": [
    "For above qubit configuration, control channel 0 is available to realize CR pulse. For other configurations, you can refer to the `InstructionScheduleMap` which may be found in `defaults.circuit_instruction_map` to find proper control channel index."
   ]
  },
  {
   "cell_type": "code",
   "execution_count": 11,
   "metadata": {},
   "outputs": [
    {
     "data": {
      "text/plain": [
       "[UchannelLO(q=0, scale=(1+0j))]"
      ]
     },
     "execution_count": 11,
     "metadata": {},
     "output_type": "execute_result"
    }
   ],
   "source": [
    "config.u_channel_lo[control_channel_index]"
   ]
  },
  {
   "cell_type": "markdown",
   "metadata": {},
   "source": [
    "In this experiment, we use two pulse echoed CR sequence to eliminate unwanted interaction."
   ]
  },
  {
   "cell_type": "code",
   "execution_count": 12,
   "metadata": {},
   "outputs": [],
   "source": [
    "# Create schedule\n",
    "schedules = []\n",
    "for ii, cr_amp in enumerate(cr_amps):\n",
    "    # drive pulse\n",
    "    cr_rabi_pulse_p = pulse_lib.gaussian_square(duration=cr_samples,\n",
    "                                                amp=cr_amp,\n",
    "                                                sigma=cr_sigma,\n",
    "                                                risefall=cr_rise_fall,\n",
    "                                                name='cr_rabi_pulse_p%d' % ii)\n",
    "    cr_rabi_pulse_m = pulse_lib.gaussian_square(duration=cr_samples,\n",
    "                                                amp=-cr_amp,\n",
    "                                                sigma=cr_sigma,\n",
    "                                                risefall=cr_rise_fall,\n",
    "                                                name='cr_rabi_pulse_m%d' % ii)\n",
    "    \n",
    "    control_channel = pulse.ControlChannel(control_channel_index)\n",
    "    \n",
    "    # We get the state preparation and measurement pulses we need from the\n",
    "    # defaults `circuit_instruction_map`\n",
    "    pi_pulse_q0 = defaults.circuit_instruction_map.get('u3', (control_qubit,), np.pi, 0, np.pi)\n",
    "    measure = defaults.circuit_instruction_map.get('measure', config.meas_map[0])\n",
    "    \n",
    "    # add commands to schedule\n",
    "    schedule = pulse.Schedule(name='CR Rabi Experiment at drive amp = %s' % cr_amp)\n",
    "    \n",
    "    schedule |= cr_rabi_pulse_p(control_channel)\n",
    "    schedule |= pi_pulse_q0 << schedule.duration\n",
    "    schedule |= cr_rabi_pulse_m(control_channel) << schedule.duration\n",
    "    schedule |= measure << schedule.duration\n",
    " \n",
    "    schedules.append(schedule)"
   ]
  },
  {
   "cell_type": "code",
   "execution_count": 13,
   "metadata": {},
   "outputs": [
    {
     "data": {
      "image/png": "[encoded data removed]",
      "text/plain": [
       "<Figure size 720x864 with 2 Axes>"
      ]
     },
     "execution_count": 13,
     "metadata": {},
     "output_type": "execute_result"
    }
   ],
   "source": [
    "schedules[1].draw(channels_to_plot=[pulse.DriveChannel(control_qubit),\n",
    "                                    pulse.DriveChannel(target_qubit),\n",
    "                                    control_channel,\n",
    "                                    pulse.MeasureChannel(control_qubit),\n",
    "                                    pulse.MeasureChannel(target_qubit)],\n",
    "                   scaling=10.0, label=False, plot_range=(0, 700))"
   ]
  },
  {
   "cell_type": "code",
   "execution_count": 14,
   "metadata": {},
   "outputs": [],
   "source": [
    "cr_rabi_qobj = assemble(schedules, backend, meas_level=MeasLevel.KERNELED, \n",
    "                        meas_return=MeasReturnType.AVERAGE, shots=shots)"
   ]
  },
  {
   "cell_type": "code",
   "execution_count": 15,
   "metadata": {},
   "outputs": [],
   "source": [
    "job = backend.run(cr_rabi_qobj)"
   ]
  },
  {
   "cell_type": "code",
   "execution_count": 16,
   "metadata": {},
   "outputs": [
    {
     "data": {
      "text/plain": [
       "'5df01b0e03329400119bf8c8'"
      ]
     },
     "execution_count": 16,
     "metadata": {},
     "output_type": "execute_result"
    }
   ],
   "source": [
    "job.job_id()"
   ]
  },
  {
   "cell_type": "code",
   "execution_count": 17,
   "metadata": {},
   "outputs": [
    {
     "data": {
      "text/plain": [
       "<JobStatus.VALIDATING: 'job is being validated'>"
      ]
     },
     "execution_count": 17,
     "metadata": {},
     "output_type": "execute_result"
    }
   ],
   "source": [
    "job.status()"
   ]
  },
  {
   "cell_type": "code",
   "execution_count": 18,
   "metadata": {},
   "outputs": [],
   "source": [
    "cr_rabi_result = job.result(timeout=3600)"
   ]
  },
  {
   "cell_type": "markdown",
   "metadata": {},
   "source": [
    "### Analyze the result"
   ]
  },
  {
   "cell_type": "code",
   "execution_count": 19,
   "metadata": {},
   "outputs": [],
   "source": [
    "target_qubit_rabi_data = np.ones(exps, dtype=np.complex_)\n",
    "control_qubit_rabi_data = np.ones(exps, dtype=np.complex_)\n",
    "\n",
    "for i in range(exps):\n",
    "    target_qubit_rabi_data[i] = cr_rabi_result.get_memory(i)[target_qubit]\n",
    "    control_qubit_rabi_data[i] = cr_rabi_result.get_memory(i)[control_qubit]"
   ]
  },
  {
   "cell_type": "markdown",
   "metadata": {},
   "source": [
    "You can observe oscillation of measured signal only of the target qubit."
   ]
  },
  {
   "cell_type": "code",
   "execution_count": 20,
   "metadata": {},
   "outputs": [],
   "source": [
    "# auto-phase the output measurement signal\n",
    "\n",
    "def get_amplitude(vec):\n",
    "    i_signal = np.imag(vec)\n",
    "    r_signal = np.real(vec)\n",
    "\n",
    "    mvec = [np.mean(r_signal), np.mean(i_signal)]\n",
    "\n",
    "    src_mat = np.vstack((r_signal - mvec[0], i_signal - mvec[1])).T\n",
    "    (_, _, v_mat) = np.linalg.svd(src_mat)\n",
    "\n",
    "    dvec = v_mat[0, 0:2]\n",
    "\n",
    "    if dvec.dot(mvec) < 0:\n",
    "        dvec = -dvec\n",
    "\n",
    "    return src_mat.dot(dvec)"
   ]
  },
  {
   "cell_type": "code",
   "execution_count": 23,
   "metadata": {},
   "outputs": [
    {
     "name": "stdout",
     "output_type": "stream",
     "text": [
      "0.027191350692821387\n"
     ]
    },
    {
     "data": {
      "image/png": "[encoded data removed]",
      "text/plain": [
       "<Figure size 432x288 with 1 Axes>"
      ]
     },
     "metadata": {
      "needs_background": "light"
     },
     "output_type": "display_data"
    }
   ],
   "source": [
    "target_rabi_amp_data = get_amplitude(target_qubit_rabi_data)*scale_factor\n",
    "control_rabi_amp_data = get_amplitude(control_qubit_rabi_data)*scale_factor\n",
    "\n",
    "fit_func = lambda x,A,B,T,phi: (A*np.cos(2*np.pi*x/T+phi)+B)\n",
    "\n",
    "#Fit the data\n",
    "fitparams, conv = curve_fit(fit_func, cr_amps, target_rabi_amp_data, [3.0,0.0,0.1,0])\n",
    "\n",
    "#get the pi amplitude\n",
    "cr_pi_2_amp = (np.pi-fitparams[3])*fitparams[2]/4/np.pi\n",
    "\n",
    "plt.plot(cr_amps, fit_func(cr_amps, *fitparams), color='red')\n",
    "plt.axvline(cr_pi_2_amp, color='black', linestyle='dashed')\n",
    "plt.scatter(cr_amps, target_rabi_amp_data, label='target qubit')\n",
    "plt.scatter(cr_amps, control_rabi_amp_data, label='control qubit')\n",
    "plt.xlim(0, 0.2)\n",
    "plt.ylim(-5, 5)\n",
    "plt.legend()\n",
    "plt.xlabel('CR pulse amplitude, a.u.', fontsize=20)\n",
    "plt.ylabel('Signal, a.u.', fontsize=20)\n",
    "plt.title('CR Rabi oscillation', fontsize=20)\n",
    "\n",
    "print(cr_pi_2_amp)"
   ]
  },
  {
   "cell_type": "markdown",
   "metadata": {},
   "source": [
    "From the fit we obtain the CR Rabi oscillation frequency. We may use this to extract the amplitude of a CR π/2 pulse, which is the foundation of the CNOT gate."
   ]
  },
  {
   "cell_type": "code",
   "execution_count": 24,
   "metadata": {
    "ExecuteTime": {
     "end_time": "2019-08-22T01:29:36.602627Z",
     "start_time": "2019-08-22T01:29:36.594016Z"
    }
   },
   "outputs": [
    {
     "data": {
      "text/html": [
       "<h3>Version Information</h3><table><tr><th>Qiskit Software</th><th>Version</th></tr><tr><td>Qiskit</td><td>None</td></tr><tr><td>Terra</td><td>0.11.0</td></tr><tr><td>Aer</td><td>0.3.4</td></tr><tr><td>Ignis</td><td>0.2.0</td></tr><tr><td>Aqua</td><td>None</td></tr><tr><td>IBM Q Provider</td><td>0.4.3</td></tr><tr><th>System information</th></tr><tr><td>Python</td><td>3.7.4 (default, Aug 13 2019, 15:17:50) \n",
       "[Clang 4.0.1 (tags/RELEASE_401/final)]</td></tr><tr><td>OS</td><td>Darwin</td></tr><tr><td>CPUs</td><td>4</td></tr><tr><td>Memory (Gb)</td><td>16.0</td></tr><tr><td colspan='2'>Tue Dec 10 17:25:11 2019 EST</td></tr></table>"
      ],
      "text/plain": [
       "<IPython.core.display.HTML object>"
      ]
     },
     "metadata": {},
     "output_type": "display_data"
    },
    {
     "data": {
      "text/html": [
       "<div style='width: 100%; background-color:#d5d9e0;padding-left: 10px; padding-bottom: 10px; padding-right: 10px; padding-top: 5px'><h3>This code is a part of Qiskit</h3><p>&copy; Copyright IBM 2017, 2019.</p><p>This code is licensed under the Apache License, Version 2.0. You may<br>obtain a copy of this license in the LICENSE.txt file in the root directory<br> of this source tree or at http://www.apache.org/licenses/LICENSE-2.0.<p>Any modifications or derivative works of this code must retain this<br>copyright notice, and modified files need to carry a notice indicating<br>that they have been altered from the originals.</p></div>"
      ],
      "text/plain": [
       "<IPython.core.display.HTML object>"
      ]
     },
     "metadata": {},
     "output_type": "display_data"
    }
   ],
   "source": [
    "import qiskit.tools.jupyter\n",
    "%qiskit_version_table\n",
    "%qiskit_copyright"
   ]
  }
 ],
 "metadata": {
  "kernelspec": {
   "display_name": "Python 3",
   "language": "python",
   "name": "python3"
  },
  "language_info": {
   "codemirror_mode": {
    "name": "ipython",
    "version": 3
   },
   "file_extension": ".py",
   "mimetype": "text/x-python",
   "name": "python",
   "nbconvert_exporter": "python",
   "pygments_lexer": "ipython3",
   "version": "3.7.4"
  }
 },
 "nbformat": 4,
 "nbformat_minor": 2
}
