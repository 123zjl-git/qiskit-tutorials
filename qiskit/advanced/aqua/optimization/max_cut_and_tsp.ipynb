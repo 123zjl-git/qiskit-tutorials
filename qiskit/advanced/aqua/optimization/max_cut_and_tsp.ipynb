{
 "cells": [
  {
   "attachments": {
    "qiskit_header.png": {
     "image/png": "[encoded data removed]"
    }
   },
   "cell_type": "markdown",
   "metadata": {},
   "source": [
    "![qiskit_header.png](attachment:qiskit_header.png)"
   ]
  },
  {
   "cell_type": "markdown",
   "metadata": {},
   "source": [
    "# Qiskit Aqua: Experimenting with Max-Cut problem and Traveling Salesman problem with variational quantum eigensolver"
   ]
  },
  {
   "cell_type": "markdown",
   "metadata": {},
   "source": [
    "## Introduction\n",
    "\n",
    "Many problems in quantitative fields such as finance and engineering are optimization problems. Optimization problems lie at the core of complex decision-making and definition of strategies. \n",
    "\n",
    "Optimization (or combinatorial optimization) means searching for an optimal solution in a finite or countably infinite set of potential solutions. Optimality is defined with respect to some criterion function, which is to be minimized or maximized. This is typically called cost function or objective function. \n",
    "\n",
    "**Typical optimization problems**\n",
    "\n",
    "Minimization: cost, distance, length of a traversal, weight, processing time, material, energy consumption, number of objects\n",
    "\n",
    "Maximization: profit, value, output, return, yield, utility, efficiency, capacity, number of objects \n",
    "\n",
    "We consider here max-cut problems of practical interest in many fields, and show how they can be nmapped on quantum computers.\n",
    "\n",
    "\n",
    "### Weighted Max-Cut\n",
    "\n",
    "Max-Cut is an NP-complete problem, with applications in clustering, network science, and statistical physics. To grasp how practical applications are mapped into given Max-Cut instances, consider a system of many people that can interact and influence each other. Individuals can be represented by vertices of a graph, and their interactions seen as pairwise connections between vertices of the graph, or edges. With this representation in mind, it is easy to model typical marketing problems. For example, suppose that it is assumed that individuals will influence each other's buying decisions, and knowledge is given about how strong they will influence each other. The influence can be modeled by weights assigned on each edge of the graph. It is possible then to predict the outcome of a marketing strategy in which products are offered for free to some individuals, and then ask which is the optimal subset of individuals that should get the free products, in order to maximize revenues.\n",
    "\n",
    "The formal definition of this problem is the following:\n",
    "\n",
    "Consider an $n$-node undirected graph *G = (V, E)* where *|V| = n* with edge weights $w_{ij}>0$, $w_{ij}=w_{ji}$, for $(i, j)\\in E$. A cut is defined as a partition of the original set V into two subsets. The cost function to be optimized is in this case the sum of weights of edges connecting points in the two different subsets, *crossing* the cut. By assigning $x_i=0$ or $x_i=1$ to each node $i$, one tries to maximize the global profit function (here and in the following summations run over indices 0,1,...n-1)\n",
    "\n",
    "$$\\tilde{C}(\\textbf{x}) = \\sum_{i,j} w_{ij} x_i (1-x_j).$$\n",
    "\n",
    "In our simple marketing model, $w_{ij}$ represents the probability that the person $j$ will buy a product after $i$ gets a free one. Note that the weights $w_{ij}$ can in principle be greater than $1$, corresponding to the case where the individual $j$ will buy more than one product. Maximizing the total buying probability corresponds to maximizing the total future revenues. In the case where the profit probability will be greater than the cost of the initial free samples, the strategy is a convenient one. An extension to this model has the nodes themselves carry weights, which can be regarded, in our marketing model, as the likelihood that a person granted with a free sample of the product will buy it again in the future. With this additional information in our model, the objective function to maximize becomes \n",
    "\n",
    "$$C(\\textbf{x}) = \\sum_{i,j} w_{ij} x_i (1-x_j)+\\sum_i w_i x_i. $$\n",
    " \n",
    "In order to find a solution to this problem on a quantum computer, one needs first to map it to an Ising Hamiltonian. This can be done with the assignment $x_i\\rightarrow (1-Z_i)/2$, where $Z_i$ is the Pauli Z operator that has eigenvalues $\\pm 1$. Doing this we find that \n",
    "\n",
    "$$C(\\textbf{Z}) = \\sum_{i,j} \\frac{w_{ij}}{4} (1-Z_i)(1+Z_j) + \\sum_i \\frac{w_i}{2} (1-Z_i) = -\\frac{1}{2}\\left( \\sum_{i<j} w_{ij} Z_i Z_j +\\sum_i w_i Z_i\\right)+\\mathrm{const},$$\n",
    "\n",
    "where const = $\\sum_{i<j}w_{ij}/2+\\sum_i w_i/2 $. In other terms, the weighted Max-Cut problem is equivalent to minimizing the Ising Hamiltonian \n",
    "\n",
    "$$ H = \\sum_i w_i Z_i + \\sum_{i<j} w_{ij} Z_iZ_j.$$\n",
    "\n",
    "Aqua can generate the Ising Hamiltonian for the first profit function $\\tilde{C}$.\n",
    "\n",
    "\n",
    "### Approximate Universal Quantum Computing for Optimization Problems\n",
    "\n",
    "There has been a considerable amount of interest in recent times about the use of quantum computers to find a solution to combinatorial problems. It is important to say that, given the classical nature of combinatorial problems, exponential speedup in using quantum computers compared to the best classical algorithms is not guaranteed. However, due to the nature and importance of the target problems, it is worth investigating heuristic approaches on a quantum computer that could indeed speed up some problem instances. Here we demonstrate an approach that is based on the Quantum Approximate Optimization Algorithm by Farhi, Goldstone, and Gutman (2014). We frame the algorithm in the context of *approximate quantum computing*, given its heuristic nature. \n",
    "\n",
    "The Algorithm works as follows:\n",
    "1. Choose the $w_i$ and $w_{ij}$ in the target Ising problem. In principle, even higher powers of Z are allowed.\n",
    "2. Choose the depth of the quantum circuit $m$. Note that the depth can be modified adaptively.\n",
    "3. Choose a set of controls $\\theta$ and make a trial function $|\\psi(\\boldsymbol\\theta)\\rangle$, built using a quantum circuit made of C-Phase gates and single-qubit Y rotations, parameterized by the components of $\\boldsymbol\\theta$. \n",
    "4. Evaluate $C(\\boldsymbol\\theta) = \\langle\\psi(\\boldsymbol\\theta)~|H|~\\psi(\\boldsymbol\\theta)\\rangle = \\sum_i w_i \\langle\\psi(\\boldsymbol\\theta)~|Z_i|~\\psi(\\boldsymbol\\theta)\\rangle+ \\sum_{i<j} w_{ij} \\langle\\psi(\\boldsymbol\\theta)~|Z_iZ_j|~\\psi(\\boldsymbol\\theta)\\rangle$ by sampling the outcome of the circuit in the Z-basis and adding the expectation values of the individual Ising terms together. In general, different control points around $\\boldsymbol\\theta$ have to be estimated, depending on the classical optimizer chosen. \n",
    "5. Use a classical optimizer to choose a new set of controls.\n",
    "6. Continue until $C(\\boldsymbol\\theta)$ reaches a minimum, close enough to the solution $\\boldsymbol\\theta^*$.\n",
    "7. Use the last $\\boldsymbol\\theta$ to generate a final set of samples from the distribution $|\\langle z_i~|\\psi(\\boldsymbol\\theta)\\rangle|^2\\;\\forall i$ to obtain the answer.\n",
    "    \n",
    "It is our belief the difficulty of finding good heuristic algorithms will come down to the choice of an appropriate trial wavefunction. For example, one could consider a trial function whose entanglement best aligns with the target problem, or simply make the amount of entanglement a variable. In this tutorial, we will consider a simple trial function of the form\n",
    "\n",
    "$$|\\psi(\\theta)\\rangle  = [U_\\mathrm{single}(\\boldsymbol\\theta) U_\\mathrm{entangler}]^m |+\\rangle$$\n",
    "\n",
    "where $U_\\mathrm{entangler}$ is a collection of C-Phase gates (fully entangling gates), and $U_\\mathrm{single}(\\theta) = \\prod_{i=1}^n Y(\\theta_{i})$, where $n$ is the number of qubits and $m$ is the depth of the quantum circuit. The motivation for this choice is that for these classical problems this choice allows us to search over the space of quantum states that have only real coefficients, still exploiting the entanglement to potentially converge faster to the solution.\n",
    "\n",
    "One advantage of using this sampling method compared to adiabatic approaches is that the target Ising Hamiltonian does not have to be implemented directly on hardware, allowing this algorithm not to be limited to the connectivity of the device. Furthermore, higher-order terms in the cost function, such as $Z_iZ_jZ_k$, can also be sampled efficiently, whereas in adiabatic or annealing approaches they are generally impractical to deal with. \n",
    "\n",
    "\n",
    "References:\n",
    "- A. Lucas, Frontiers in Physics 2, 5 (2014)\n",
    "- E. Farhi, J. Goldstone, S. Gutmann e-print arXiv 1411.4028 (2014)\n",
    "- D. Wecker, M. B. Hastings, M. Troyer Phys. Rev. A 94, 022309 (2016)\n",
    "- E. Farhi, J. Goldstone, S. Gutmann, H. Neven e-print arXiv 1703.06199 (2017)"
   ]
  },
  {
   "cell_type": "code",
   "execution_count": 2,
   "metadata": {
    "ExecuteTime": {
     "end_time": "2019-12-12T17:59:38.109248Z",
     "start_time": "2019-12-12T17:59:38.098188Z"
    }
   },
   "outputs": [],
   "source": [
    "# useful additional packages \n",
    "import matplotlib.pyplot as plt\n",
    "import matplotlib.axes as axes\n",
    "%matplotlib inline\n",
    "import numpy as np\n",
    "import networkx as nx\n",
    "\n",
    "from qiskit import Aer\n",
    "from qiskit.tools.visualization import plot_histogram\n",
    "from qiskit.aqua import run_algorithm\n",
    "from qiskit.aqua.input import EnergyInput\n",
    "from qiskit.aqua.translators.ising import max_cut, tsp\n",
    "from qiskit.aqua.algorithms import VQE, ExactEigensolver\n",
    "from qiskit.aqua.components.optimizers import SPSA\n",
    "from qiskit.aqua.components.variational_forms import RY\n",
    "from qiskit.aqua import QuantumInstance\n",
    "\n",
    "# setup aqua logging\n",
    "import logging\n",
    "from qiskit.aqua import set_qiskit_aqua_logging\n",
    "# set_qiskit_aqua_logging(logging.DEBUG)  # choose INFO, DEBUG to see the log"
   ]
  },
  {
   "cell_type": "markdown",
   "metadata": {},
   "source": [
    "### [Optional] Setup token to run the experiment on a real device\n",
    "If you would like to run the experiment on a real device, you need to setup your account first.\n",
    "\n",
    "Note: If you do not store your token yet, use `IBMQ.save_account('MY_API_TOKEN')` to store it first."
   ]
  },
  {
   "cell_type": "code",
   "execution_count": 3,
   "metadata": {
    "ExecuteTime": {
     "end_time": "2019-12-12T17:59:38.838143Z",
     "start_time": "2019-12-12T17:59:38.836008Z"
    }
   },
   "outputs": [],
   "source": [
    "from qiskit import IBMQ\n",
    "# provider = IBMQ.load_account()"
   ]
  },
  {
   "cell_type": "markdown",
   "metadata": {},
   "source": [
    "## Max-Cut problem"
   ]
  },
  {
   "cell_type": "code",
   "execution_count": 4,
   "metadata": {
    "ExecuteTime": {
     "end_time": "2019-12-12T17:59:40.984512Z",
     "start_time": "2019-12-12T17:59:40.783157Z"
    }
   },
   "outputs": [
    {
     "data": {
      "image/png": "[encoded data removed]",
      "text/plain": [
       "<Figure size 432x288 with 1 Axes>"
      ]
     },
     "metadata": {},
     "output_type": "display_data"
    }
   ],
   "source": [
    "# Generating a graph of 4 nodes \n",
    "\n",
    "n=4 # Number of nodes in graph\n",
    "G=nx.Graph()\n",
    "G.add_nodes_from(np.arange(0,n,1))\n",
    "elist=[(0,1,1.0),(0,2,1.0),(0,3,1.0),(1,2,1.0),(2,3,1.0)]\n",
    "# tuple is (i,j,weight) where (i,j) is the edge\n",
    "G.add_weighted_edges_from(elist)\n",
    "\n",
    "colors = ['r' for node in G.nodes()]\n",
    "pos = nx.spring_layout(G)\n",
    "default_axes = plt.axes(frameon=True)\n",
    "nx.draw_networkx(G, node_color=colors, node_size=600, alpha=.8, ax=default_axes, pos=pos)"
   ]
  },
  {
   "cell_type": "code",
   "execution_count": 5,
   "metadata": {
    "ExecuteTime": {
     "end_time": "2019-12-12T17:59:41.709471Z",
     "start_time": "2019-12-12T17:59:41.702848Z"
    }
   },
   "outputs": [
    {
     "name": "stdout",
     "output_type": "stream",
     "text": [
      "[[0. 1. 1. 1.]\n",
      " [1. 0. 1. 0.]\n",
      " [1. 1. 0. 1.]\n",
      " [1. 0. 1. 0.]]\n"
     ]
    }
   ],
   "source": [
    "# Computing the weight matrix from the random graph\n",
    "w = np.zeros([n,n])\n",
    "for i in range(n):\n",
    "    for j in range(n):\n",
    "        temp = G.get_edge_data(i,j,default=0)\n",
    "        if temp != 0:\n",
    "            w[i,j] = temp['weight'] \n",
    "print(w)"
   ]
  },
  {
   "cell_type": "markdown",
   "metadata": {},
   "source": [
    "### Brute force approach\n",
    "\n",
    "Try all possible $2^n$ combinations. For $n = 4$, as in this example, one deals with only 16 combinations, but for n = 1000, one has 1.071509e+30 combinations, which is impractical to deal with by using a brute force approach. "
   ]
  },
  {
   "cell_type": "code",
   "execution_count": 6,
   "metadata": {
    "ExecuteTime": {
     "end_time": "2019-12-12T17:59:42.618252Z",
     "start_time": "2019-12-12T17:59:42.418721Z"
    }
   },
   "outputs": [
    {
     "name": "stdout",
     "output_type": "stream",
     "text": [
      "case = [0, 0, 0, 0] cost = 0.0\n",
      "case = [1, 0, 0, 0] cost = 3.0\n",
      "case = [0, 1, 0, 0] cost = 2.0\n",
      "case = [1, 1, 0, 0] cost = 3.0\n",
      "case = [0, 0, 1, 0] cost = 3.0\n",
      "case = [1, 0, 1, 0] cost = 4.0\n",
      "case = [0, 1, 1, 0] cost = 3.0\n",
      "case = [1, 1, 1, 0] cost = 2.0\n",
      "case = [0, 0, 0, 1] cost = 2.0\n",
      "case = [1, 0, 0, 1] cost = 3.0\n",
      "case = [0, 1, 0, 1] cost = 4.0\n",
      "case = [1, 1, 0, 1] cost = 3.0\n",
      "case = [0, 0, 1, 1] cost = 3.0\n",
      "case = [1, 0, 1, 1] cost = 2.0\n",
      "case = [0, 1, 1, 1] cost = 3.0\n",
      "case = [1, 1, 1, 1] cost = 0.0\n",
      "\n",
      "Best solution = [1, 0, 1, 0] cost = 4.0\n"
     ]
    },
    {
     "data": {
      "image/png": "[encoded data removed]",
      "text/plain": [
       "<Figure size 432x288 with 1 Axes>"
      ]
     },
     "metadata": {},
     "output_type": "display_data"
    }
   ],
   "source": [
    "best_cost_brute = 0\n",
    "for b in range(2**n):\n",
    "    x = [int(t) for t in reversed(list(bin(b)[2:].zfill(n)))]\n",
    "    cost = 0\n",
    "    for i in range(n):\n",
    "        for j in range(n):\n",
    "            cost = cost + w[i,j]*x[i]*(1-x[j])\n",
    "    if best_cost_brute < cost:\n",
    "        best_cost_brute = cost\n",
    "        xbest_brute = x \n",
    "    print('case = ' + str(x)+ ' cost = ' + str(cost))\n",
    "\n",
    "colors = ['r' if xbest_brute[i] == 0 else 'b' for i in range(n)]\n",
    "nx.draw_networkx(G, node_color=colors, node_size=600, alpha=.8, pos=pos)\n",
    "print('\\nBest solution = ' + str(xbest_brute) + ' cost = ' + str(best_cost_brute))    "
   ]
  },
  {
   "cell_type": "markdown",
   "metadata": {},
   "source": [
    "### Mapping to the Ising problem"
   ]
  },
  {
   "cell_type": "code",
   "execution_count": 7,
   "metadata": {
    "ExecuteTime": {
     "end_time": "2019-12-12T17:59:42.814360Z",
     "start_time": "2019-12-12T17:59:42.806413Z"
    }
   },
   "outputs": [],
   "source": [
    "qubitOp, offset = max_cut.get_max_cut_qubitops(w)\n",
    "algo_input = EnergyInput(qubitOp)"
   ]
  },
  {
   "cell_type": "markdown",
   "metadata": {},
   "source": [
    "### [Optional] Using DOcplex for mapping to the Ising problem\n",
    "Using ```docplex.get_qubitops``` is a different way to create an Ising Hamiltonian of Max-Cut. ```docplex.get_qubitops``` can create a corresponding Ising Hamiltonian from an optimization model of Max-Cut. An example of using ```docplex.get_qubitops``` is as below. "
   ]
  },
  {
   "cell_type": "code",
   "execution_count": 8,
   "metadata": {
    "ExecuteTime": {
     "end_time": "2019-12-12T17:59:43.518965Z",
     "start_time": "2019-12-12T17:59:43.130559Z"
    }
   },
   "outputs": [],
   "source": [
    "from docplex.mp.model import Model\n",
    "from qiskit.aqua.translators.ising import docplex\n",
    "\n",
    "# Create an instance of a model and variables.\n",
    "mdl = Model(name='max_cut')\n",
    "x = {i: mdl.binary_var(name='x_{0}'.format(i)) for i in range(n)}\n",
    "\n",
    "# Object function\n",
    "max_cut_func = mdl.sum(w[i,j]* x[i] * ( 1 - x[j] ) for i in range(n) for j in range(n))\n",
    "mdl.maximize(max_cut_func)\n",
    "\n",
    "# No constraints for Max-Cut problems."
   ]
  },
  {
   "cell_type": "code",
   "execution_count": 9,
   "metadata": {
    "ExecuteTime": {
     "end_time": "2019-12-12T17:59:43.600910Z",
     "start_time": "2019-12-12T17:59:43.595066Z"
    }
   },
   "outputs": [],
   "source": [
    "qubitOp_docplex, offset_docplex = docplex.get_qubitops(mdl)"
   ]
  },
  {
   "cell_type": "markdown",
   "metadata": {},
   "source": [
    "### Checking that the full Hamiltonian gives the right cost "
   ]
  },
  {
   "cell_type": "code",
   "execution_count": 10,
   "metadata": {
    "ExecuteTime": {
     "end_time": "2019-12-12T17:59:47.642069Z",
     "start_time": "2019-12-12T17:59:47.435702Z"
    }
   },
   "outputs": [
    {
     "name": "stdout",
     "output_type": "stream",
     "text": [
      "energy: -1.5\n",
      "max-cut objective: -4.0\n",
      "solution: [0. 1. 0. 1.]\n",
      "solution objective: 4.0\n"
     ]
    },
    {
     "data": {
      "image/png": "[encoded data removed]",
      "text/plain": [
       "<Figure size 432x288 with 1 Axes>"
      ]
     },
     "metadata": {},
     "output_type": "display_data"
    }
   ],
   "source": [
    "#Making the Hamiltonian in its full form and getting the lowest eigenvalue and eigenvector\n",
    "ee = ExactEigensolver(qubitOp, k=1)\n",
    "result = ee.run()\n",
    "\n",
    "\"\"\"\n",
    "algorithm_cfg = {\n",
    "    'name': 'ExactEigensolver',\n",
    "}\n",
    "\n",
    "params = {\n",
    "    'problem': {'name': 'ising'},\n",
    "    'algorithm': algorithm_cfg\n",
    "}\n",
    "result = run_algorithm(params,algo_input)\n",
    "\"\"\"\n",
    "x = max_cut.sample_most_likely(result['eigvecs'][0])\n",
    "print('energy:', result['energy'])\n",
    "print('max-cut objective:', result['energy'] + offset)\n",
    "print('solution:', max_cut.get_graph_solution(x))\n",
    "print('solution objective:', max_cut.max_cut_value(x, w))\n",
    "\n",
    "colors = ['r' if max_cut.get_graph_solution(x)[i] == 0 else 'b' for i in range(n)]\n",
    "nx.draw_networkx(G, node_color=colors, node_size=600, alpha = .8, pos=pos)"
   ]
  },
  {
   "cell_type": "markdown",
   "metadata": {},
   "source": [
    "### Running it on quantum computer\n",
    "We run the optimization routine using a feedback loop with a quantum computer that uses trial functions built with Y single-qubit rotations, $U_\\mathrm{single}(\\theta) = \\prod_{i=1}^n Y(\\theta_{i})$, and entangler steps $U_\\mathrm{entangler}$."
   ]
  },
  {
   "cell_type": "code",
   "execution_count": 11,
   "metadata": {
    "ExecuteTime": {
     "end_time": "2019-12-12T18:00:12.595984Z",
     "start_time": "2019-12-12T17:59:52.126693Z"
    },
    "scrolled": true
   },
   "outputs": [
    {
     "name": "stdout",
     "output_type": "stream",
     "text": [
      "energy: -1.4997714562104303\n",
      "time: 20.23039197921753\n",
      "max-cut objective: -3.9997714562104303\n",
      "solution: [1. 0. 1. 0.]\n",
      "solution objective: 4.0\n"
     ]
    },
    {
     "data": {
      "image/png": "[encoded data removed]",
      "text/plain": [
       "<Figure size 432x288 with 1 Axes>"
      ]
     },
     "metadata": {},
     "output_type": "display_data"
    }
   ],
   "source": [
    "seed = 10598\n",
    "\n",
    "spsa = SPSA(max_trials=300)\n",
    "ry = RY(qubitOp.num_qubits, depth=5, entanglement='linear')\n",
    "vqe = VQE(qubitOp, ry, spsa)\n",
    "\n",
    "backend = Aer.get_backend('statevector_simulator')\n",
    "quantum_instance = QuantumInstance(backend, seed_simulator=seed, seed_transpiler=seed)\n",
    "\n",
    "result = vqe.run(quantum_instance)\n",
    "\n",
    "\"\"\"declarative approach\n",
    "algorithm_cfg = {\n",
    "    'name': 'VQE'\n",
    "}\n",
    "\n",
    "optimizer_cfg = {\n",
    "    'name': 'SPSA',\n",
    "    'max_trials': 300\n",
    "}\n",
    "\n",
    "var_form_cfg = {\n",
    "    'name': 'RY',\n",
    "    'depth': 5,\n",
    "    'entanglement': 'linear'\n",
    "}\n",
    "\n",
    "params = {\n",
    "    'problem': {'name': 'ising', 'random_seed': seed},\n",
    "    'algorithm': algorithm_cfg,\n",
    "    'optimizer': optimizer_cfg,\n",
    "    'variational_form': var_form_cfg,\n",
    "    'backend': {provider': 'qiskit.BasicAer', 'name': 'statevector_simulator'}\n",
    "}\n",
    "\n",
    "result = run_algorithm(params, algo_input)\n",
    "\"\"\"\n",
    "\n",
    "x = max_cut.sample_most_likely(result['eigvecs'][0])\n",
    "print('energy:', result['energy'])\n",
    "print('time:', result['eval_time'])\n",
    "print('max-cut objective:', result['energy'] + offset)\n",
    "print('solution:', max_cut.get_graph_solution(x))\n",
    "print('solution objective:', max_cut.max_cut_value(x, w))\n",
    "\n",
    "colors = ['r' if max_cut.get_graph_solution(x)[i] == 0 else 'b' for i in range(n)]\n",
    "nx.draw_networkx(G, node_color=colors, node_size=600, alpha = .8, pos=pos)"
   ]
  },
  {
   "cell_type": "code",
   "execution_count": 12,
   "metadata": {
    "ExecuteTime": {
     "end_time": "2019-12-12T18:00:40.238107Z",
     "start_time": "2019-12-12T18:00:12.618707Z"
    }
   },
   "outputs": [
    {
     "name": "stdout",
     "output_type": "stream",
     "text": [
      "energy: -1.5\n",
      "time: 27.385574102401733\n",
      "max-cut objective: -4.0\n",
      "solution: [0 1 0 1]\n",
      "solution objective: 4.0\n"
     ]
    },
    {
     "data": {
      "image/png": "[encoded data removed]",
      "text/plain": [
       "<Figure size 432x288 with 1 Axes>"
      ]
     },
     "metadata": {},
     "output_type": "display_data"
    }
   ],
   "source": [
    "# run quantum algorithm with shots\n",
    "seed = 10598\n",
    "\n",
    "spsa = SPSA(max_trials=300)\n",
    "ry = RY(qubitOp.num_qubits, depth=5, entanglement='linear')\n",
    "vqe = VQE(qubitOp, ry, spsa)\n",
    "\n",
    "backend = BasicAer.get_backend('qasm_simulator')\n",
    "quantum_instance = QuantumInstance(backend, shots=1024, seed_simulator=seed, seed_transpiler=seed)\n",
    "\n",
    "result = vqe.run(quantum_instance)\n",
    "\n",
    "\"\"\"declarative approach, update the param from the previous cell.\n",
    "params['backend']['provider'] = 'qiskit.BasicAer'\n",
    "params['backend']['name'] = 'qasm_simulator'\n",
    "params['backend']['shots'] = 1024\n",
    "result = run_algorithm(params, algo_input)\n",
    "\"\"\"\n",
    "\n",
    "x = max_cut.sample_most_likely(result['eigvecs'][0])\n",
    "print('energy:', result['energy'])\n",
    "print('time:', result['eval_time'])\n",
    "print('max-cut objective:', result['energy'] + offset)\n",
    "print('solution:', max_cut.get_graph_solution(x))\n",
    "print('solution objective:', max_cut.max_cut_value(x, w))\n",
    "plot_histogram(result['eigvecs'][0])\n",
    "\n",
    "colors = ['r' if max_cut.get_graph_solution(x)[i] == 0 else 'b' for i in range(n)]\n",
    "nx.draw_networkx(G, node_color=colors, node_size=600, alpha = .8, pos=pos)"
   ]
  },
  {
   "cell_type": "markdown",
   "metadata": {},
   "source": [
    "### [Optional] Checking that the full Hamiltonian made by ```docplex.get_qubitops```  gives the right cost"
   ]
  },
  {
   "cell_type": "code",
   "execution_count": 13,
   "metadata": {
    "ExecuteTime": {
     "end_time": "2019-12-12T18:00:40.513151Z",
     "start_time": "2019-12-12T18:00:40.259077Z"
    }
   },
   "outputs": [
    {
     "name": "stdout",
     "output_type": "stream",
     "text": [
      "energy: -1.5\n",
      "max-cut objective: -4.0\n",
      "solution: [0. 1. 0. 1.]\n",
      "solution objective: 4.0\n"
     ]
    },
    {
     "data": {
      "image/png": "[encoded data removed]",
      "text/plain": [
       "<Figure size 432x288 with 1 Axes>"
      ]
     },
     "metadata": {},
     "output_type": "display_data"
    }
   ],
   "source": [
    "#Making the Hamiltonian in its full form and getting the lowest eigenvalue and eigenvector\n",
    "ee = ExactEigensolver(qubitOp_docplex, k=1)\n",
    "result = ee.run()\n",
    "\n",
    "x = docplex.sample_most_likely(result['eigvecs'][0])\n",
    "print('energy:', result['energy'])\n",
    "print('max-cut objective:', result['energy'] + offset_docplex)\n",
    "print('solution:', max_cut.get_graph_solution(x))\n",
    "print('solution objective:', max_cut.max_cut_value(x, w))\n",
    "\n",
    "colors = ['r' if max_cut.get_graph_solution(x)[i] == 0 else 'b' for i in range(n)]\n",
    "nx.draw_networkx(G, node_color=colors, node_size=600, alpha = .8, pos=pos)"
   ]
  },
  {
   "cell_type": "markdown",
   "metadata": {},
   "source": [
    "## Traveling Salesman Problem\n",
    "\n",
    "In addition to being a notorious NP-complete problem that has drawn the attention of computer scientists and mathematicians for over two centuries, the Traveling Salesman Problem (TSP) has important bearings on finance and marketing, as its name suggests. Colloquially speaking, the traveling salesman is a person that goes from city to city to sell merchandise. The objective in this case is to find the shortest path that would enable the salesman to visit all the cities and return to its hometown, i.e. the city where he started traveling. By doing this, the salesman gets to maximize potential sales in the least amount of time. \n",
    "\n",
    "The problem derives its importance from its \"hardness\" and ubiquitous equivalence to other relevant combinatorial optimization problems that arise in practice.\n",
    " \n",
    "The mathematical formulation with some early analysis was proposed by W.R. Hamilton in the early 19th century. Mathematically the problem is, as in the case of Max-Cut, best abstracted in terms of graphs. The TSP on the nodes of a graph asks for the shortest *Hamiltonian cycle* that can be taken through each of the nodes. A Hamilton cycle is a closed path that uses every vertex of a graph once. The general solution is unknown and an algorithm that finds it efficiently (e.g., in polynomial time) is not expected to exist.\n",
    "\n",
    "Find the shortest Hamiltonian cycle in a graph $G=(V,E)$ with $n=|V|$ nodes and distances, $w_{ij}$ (distance from vertex $i$ to vertex $j$). A Hamiltonian cycle is described by $N^2$ variables $x_{i,p}$, where $i$ represents the node and $p$ represents its order in a prospective cycle. The decision variable takes the value 1 if the solution occurs at node $i$ at time order $p$. We require that every node can only appear once in the cycle, and for each time a node has to occur. This amounts to the two constraints (here and in the following, whenever not specified, the summands run over 0,1,...N-1)\n",
    "\n",
    "$$\\sum_{i} x_{i,p} = 1 ~~\\forall p$$\n",
    "$$\\sum_{p} x_{i,p} = 1 ~~\\forall i.$$\n",
    "\n",
    "For nodes in our prospective ordering, if $x_{i,p}$ and $x_{j,p+1}$ are both 1, then there should be an energy penalty if $(i,j) \\notin E$ (not connected in the graph). The form of this penalty is \n",
    "\n",
    "$$\\sum_{i,j\\notin E}\\sum_{p} x_{i,p}x_{j,p+1}>0,$$ \n",
    "\n",
    "where it is assumed the boundary condition of the Hamiltonian cycles $(p=N)\\equiv (p=0)$. However, here it will be assumed a fully connected graph and not include this term. The distance that needs to be minimized is \n",
    "\n",
    "$$C(\\textbf{x})=\\sum_{i,j}w_{ij}\\sum_{p} x_{i,p}x_{j,p+1}.$$\n",
    "\n",
    "Putting this all together in a single objective function to be minimized, we get the following:\n",
    "\n",
    "$$C(\\textbf{x})=\\sum_{i,j}w_{ij}\\sum_{p} x_{i,p}x_{j,p+1}+ A\\sum_p\\left(1- \\sum_i x_{i,p}\\right)^2+A\\sum_i\\left(1- \\sum_p x_{i,p}\\right)^2,$$\n",
    "\n",
    "where $A$ is a free parameter. One needs to ensure that $A$ is large enough so that these constraints are respected. One way to do this is to choose $A$ such that $A > \\mathrm{max}(w_{ij})$.\n",
    "\n",
    "Once again, it is easy to map the problem in this form to a quantum computer, and the solution will be found by minimizing a Ising Hamiltonian. "
   ]
  },
  {
   "cell_type": "code",
   "execution_count": 14,
   "metadata": {
    "ExecuteTime": {
     "end_time": "2019-12-12T18:01:21.087401Z",
     "start_time": "2019-12-12T18:01:20.890621Z"
    }
   },
   "outputs": [
    {
     "name": "stdout",
     "output_type": "stream",
     "text": [
      "distance\n",
      " [[ 0. 37. 77.]\n",
      " [37.  0. 40.]\n",
      " [77. 40.  0.]]\n"
     ]
    },
    {
     "data": {
      "image/png": "[encoded data removed]",
      "text/plain": [
       "<Figure size 432x288 with 1 Axes>"
      ]
     },
     "metadata": {},
     "output_type": "display_data"
    }
   ],
   "source": [
    "# Generating a graph of 3 nodes\n",
    "n = 3\n",
    "num_qubits = n ** 2\n",
    "ins = tsp.random_tsp(n)\n",
    "G = nx.Graph()\n",
    "G.add_nodes_from(np.arange(0, n, 1))\n",
    "colors = ['r' for node in G.nodes()]\n",
    "pos = {k: v for k, v in enumerate(ins.coord)}\n",
    "default_axes = plt.axes(frameon=True)\n",
    "nx.draw_networkx(G, node_color=colors, node_size=600, alpha=.8, ax=default_axes, pos=pos)\n",
    "print('distance\\n', ins.w)"
   ]
  },
  {
   "cell_type": "markdown",
   "metadata": {},
   "source": [
    "### Brute force approach"
   ]
  },
  {
   "cell_type": "code",
   "execution_count": 15,
   "metadata": {
    "ExecuteTime": {
     "end_time": "2019-12-12T18:01:21.923866Z",
     "start_time": "2019-12-12T18:01:21.722088Z"
    }
   },
   "outputs": [
    {
     "name": "stdout",
     "output_type": "stream",
     "text": [
      "order = (0, 1, 2) Distance = 154.0\n",
      "Best order from brute force = (0, 1, 2) with total distance = 154.0\n"
     ]
    },
    {
     "data": {
      "image/png": "[encoded data removed]",
      "text/plain": [
       "<Figure size 432x288 with 1 Axes>"
      ]
     },
     "metadata": {},
     "output_type": "display_data"
    }
   ],
   "source": [
    "from itertools import permutations\n",
    "\n",
    "def brute_force_tsp(w, N):\n",
    "    a=list(permutations(range(1,N)))\n",
    "    last_best_distance = 1e10\n",
    "    for i in a:\n",
    "        distance = 0\n",
    "        pre_j = 0\n",
    "        for j in i:\n",
    "            distance = distance + w[j,pre_j]\n",
    "            pre_j = j\n",
    "        distance = distance + w[pre_j,0]\n",
    "        order = (0,) + i\n",
    "        if distance < last_best_distance:\n",
    "            best_order = order\n",
    "            last_best_distance = distance\n",
    "            print('order = ' + str(order) + ' Distance = ' + str(distance))\n",
    "    return last_best_distance, best_order\n",
    "  \n",
    "best_distance, best_order = brute_force_tsp(ins.w, ins.dim)\n",
    "print('Best order from brute force = ' + str(best_order) + ' with total distance = ' + str(best_distance))\n",
    "\n",
    "def draw_tsp_solution(G, order, colors, pos):\n",
    "    G2 = G.copy()\n",
    "    n = len(order)\n",
    "    for i in range(n):\n",
    "        j = (i + 1) % n\n",
    "        G2.add_edge(order[i], order[j])\n",
    "    default_axes = plt.axes(frameon=True)\n",
    "    nx.draw_networkx(G2, node_color=colors, node_size=600, alpha=.8, ax=default_axes, pos=pos)\n",
    "\n",
    "draw_tsp_solution(G, best_order, colors, pos)"
   ]
  },
  {
   "cell_type": "markdown",
   "metadata": {},
   "source": [
    "### Mapping to the Ising problem"
   ]
  },
  {
   "cell_type": "code",
   "execution_count": 16,
   "metadata": {
    "ExecuteTime": {
     "end_time": "2019-12-12T18:01:23.125345Z",
     "start_time": "2019-12-12T18:01:23.103970Z"
    }
   },
   "outputs": [],
   "source": [
    "qubitOp, offset = tsp.get_tsp_qubitops(ins)\n",
    "algo_input = EnergyInput(qubitOp)"
   ]
  },
  {
   "cell_type": "markdown",
   "metadata": {},
   "source": [
    "### [Optional] Using DOcplex for mapping to the Ising problem\n",
    "Using ```docplex.get_qubitops``` is a different way to create an Ising Hamiltonian of TSP. ```docplex.get_qubitops``` can create a corresponding Ising Hamiltonian from an optimization model of TSP. An example of using ```docplex.get_qubitops``` is as below. "
   ]
  },
  {
   "cell_type": "code",
   "execution_count": 17,
   "metadata": {
    "ExecuteTime": {
     "end_time": "2019-12-12T18:01:23.539137Z",
     "start_time": "2019-12-12T18:01:23.526739Z"
    }
   },
   "outputs": [],
   "source": [
    "# Create an instance of a model and variables\n",
    "mdl = Model(name='tsp')\n",
    "x = {(i,p): mdl.binary_var(name='x_{0}_{1}'.format(i,p)) for i in range(n) for p in range(n)}\n",
    "\n",
    "# Object function\n",
    "tsp_func = mdl.sum(ins.w[i,j] * x[(i,p)] * x[(j,(p+1)%n)] for i in range(n) for j in range(n) for p in range(n))\n",
    "mdl.minimize(tsp_func)\n",
    "\n",
    "# Constrains\n",
    "for i in range(n):\n",
    "    mdl.add_constraint(mdl.sum(x[(i,p)] for p in range(n)) == 1)\n",
    "for p in range(n):\n",
    "    mdl.add_constraint(mdl.sum(x[(i,p)] for i in range(n)) == 1)"
   ]
  },
  {
   "cell_type": "code",
   "execution_count": 18,
   "metadata": {
    "ExecuteTime": {
     "end_time": "2019-12-12T18:01:24.017655Z",
     "start_time": "2019-12-12T18:01:23.985994Z"
    }
   },
   "outputs": [],
   "source": [
    "qubitOp_docplex, offset_docplex = docplex.get_qubitops(mdl)"
   ]
  },
  {
   "cell_type": "markdown",
   "metadata": {},
   "source": [
    "### Checking that the full Hamiltonian gives the right cost "
   ]
  },
  {
   "cell_type": "code",
   "execution_count": 19,
   "metadata": {
    "ExecuteTime": {
     "end_time": "2019-12-12T18:01:24.809497Z",
     "start_time": "2019-12-12T18:01:24.598234Z"
    }
   },
   "outputs": [
    {
     "name": "stdout",
     "output_type": "stream",
     "text": [
      "energy: -600077.0\n",
      "tsp objective: 154.0\n",
      "feasible: True\n",
      "solution: [0, 1, 2]\n",
      "solution objective: 154.0\n"
     ]
    },
    {
     "data": {
      "image/png": "[encoded data removed]",
      "text/plain": [
       "<Figure size 432x288 with 1 Axes>"
      ]
     },
     "metadata": {},
     "output_type": "display_data"
    }
   ],
   "source": [
    "#Making the Hamiltonian in its full form and getting the lowest eigenvalue and eigenvector\n",
    "ee = ExactEigensolver(qubitOp, k=1)\n",
    "result = ee.run()\n",
    "\n",
    "\"\"\"\n",
    "algorithm_cfg = {\n",
    "    'name': 'ExactEigensolver',\n",
    "}\n",
    "\n",
    "params = {\n",
    "    'problem': {'name': 'ising'},\n",
    "    'algorithm': algorithm_cfg\n",
    "}\n",
    "result = run_algorithm(params,algo_input)\n",
    "\"\"\"\n",
    "print('energy:', result['energy'])\n",
    "print('tsp objective:', result['energy'] + offset)\n",
    "x = tsp.sample_most_likely(result['eigvecs'][0])\n",
    "print('feasible:', tsp.tsp_feasible(x))\n",
    "z = tsp.get_tsp_solution(x)\n",
    "print('solution:', z)\n",
    "print('solution objective:', tsp.tsp_value(z, ins.w))\n",
    "draw_tsp_solution(G, z, colors, pos)"
   ]
  },
  {
   "cell_type": "markdown",
   "metadata": {},
   "source": [
    "### Running it on quantum computer\n",
    "We run the optimization routine using a feedback loop with a quantum computer that uses trial functions built with Y single-qubit rotations, $U_\\mathrm{single}(\\theta) = \\prod_{i=1}^n Y(\\theta_{i})$, and entangler steps $U_\\mathrm{entangler}$."
   ]
  },
  {
   "cell_type": "code",
   "execution_count": 21,
   "metadata": {
    "ExecuteTime": {
     "end_time": "2019-12-12T18:03:05.816636Z",
     "start_time": "2019-12-12T18:02:14.760335Z"
    },
    "scrolled": true
   },
   "outputs": [
    {
     "name": "stdout",
     "output_type": "stream",
     "text": [
      "energy: -592830.143529644\n",
      "time: 50.77348875999451\n",
      "feasible: True\n",
      "solution: [1, 0, 2]\n",
      "solution objective: 154.0\n"
     ]
    },
    {
     "data": {
      "image/png": "[encoded data removed]",
      "text/plain": [
       "<Figure size 432x288 with 1 Axes>"
      ]
     },
     "metadata": {},
     "output_type": "display_data"
    }
   ],
   "source": [
    "seed = 10598\n",
    "\n",
    "spsa = SPSA(max_trials=300)\n",
    "ry = RY(qubitOp.num_qubits, depth=5, entanglement='linear')\n",
    "vqe = VQE(qubitOp, ry, spsa)\n",
    "\n",
    "backend = BasicAer.get_backend('statevector_simulator')\n",
    "quantum_instance = QuantumInstance(backend, seed_simulator=seed, seed_transpiler=seed)\n",
    "\n",
    "result = vqe.run(quantum_instance)\n",
    "\"\"\"\n",
    "algorithm_cfg = {\n",
    "    'name': 'VQE'\n",
    "}\n",
    "\n",
    "optimizer_cfg = {\n",
    "    'name': 'SPSA',\n",
    "    'max_trials': 300\n",
    "}\n",
    "\n",
    "var_form_cfg = {\n",
    "    'name': 'RY',\n",
    "    'depth': 5,\n",
    "    'entanglement': 'linear'\n",
    "}\n",
    "\n",
    "params = {\n",
    "    'problem': {'name': 'ising', 'random_seed': seed},\n",
    "    'algorithm': algorithm_cfg,\n",
    "    'optimizer': optimizer_cfg,\n",
    "    'variational_form': var_form_cfg,\n",
    "    'backend': {'provider': 'qiskit.Aer', 'name': 'statevector_simulator'}\n",
    "}\n",
    "result = run_algorithm(parahms,algo_input)\n",
    "\"\"\"\n",
    "print('energy:', result['energy'])\n",
    "print('time:', result['eval_time'])\n",
    "#print('tsp objective:', result['energy'] + offset)\n",
    "x = tsp.sample_most_likely(result['eigvecs'][0])\n",
    "print('feasible:', tsp.tsp_feasible(x))\n",
    "z = tsp.get_tsp_solution(x)\n",
    "print('solution:', z)\n",
    "print('solution objective:', tsp.tsp_value(z, ins.w))\n",
    "draw_tsp_solution(G, z, colors, pos)"
   ]
  },
  {
   "cell_type": "code",
   "execution_count": 22,
   "metadata": {
    "ExecuteTime": {
     "end_time": "2019-12-12T18:21:15.090052Z",
     "start_time": "2019-12-12T18:03:05.895711Z"
    }
   },
   "outputs": [
    {
     "name": "stdout",
     "output_type": "stream",
     "text": [
      "energy: -596561.46484375\n",
      "time: 1088.9133131504059\n",
      "feasible: True\n",
      "solution: [2, 0, 1]\n",
      "solution objective: 154.0\n"
     ]
    },
    {
     "data": {
      "image/png": "[encoded data removed]",
      "text/plain": [
       "<Figure size 432x288 with 1 Axes>"
      ]
     },
     "metadata": {},
     "output_type": "display_data"
    }
   ],
   "source": [
    "# run quantum algorithm with shots\n",
    "\n",
    "seed = 10598\n",
    "\n",
    "spsa = SPSA(max_trials=300)\n",
    "ry = RY(qubitOp.num_qubits, depth=5, entanglement='linear')\n",
    "vqe = VQE(qubitOp, ry, spsa)\n",
    "\n",
    "backend = Aer.get_backend('qasm_simulator')\n",
    "quantum_instance = QuantumInstance(backend, shots=1024, seed_simulator=seed, seed_transpiler=seed)\n",
    "\n",
    "result = vqe.run(quantum_instance)\n",
    "\n",
    "\"\"\"update params in the previous cell\n",
    "params['backend']['provider'] = 'qiskit.BasicAer'\n",
    "params['backend']['name'] = 'qasm_simulator'\n",
    "params['backend']['shots'] = 1024\n",
    "result = run_algorithm(params,algo_input)\n",
    "\"\"\"\n",
    "print('energy:', result['energy'])\n",
    "print('time:', result['eval_time'])\n",
    "#print('tsp objective:', result['energy'] + offset)\n",
    "x = tsp.sample_most_likely(result['eigvecs'][0])\n",
    "print('feasible:', tsp.tsp_feasible(x))\n",
    "z = tsp.get_tsp_solution(x)\n",
    "print('solution:', z)\n",
    "print('solution objective:', tsp.tsp_value(z, ins.w))\n",
    "plot_histogram(result['eigvecs'][0])\n",
    "draw_tsp_solution(G, z, colors, pos)"
   ]
  },
  {
   "cell_type": "markdown",
   "metadata": {},
   "source": [
    "### [Optional] Checking that the full Hamiltonian made by ```docplex.get_qubitops```  gives the right cost"
   ]
  },
  {
   "cell_type": "code",
   "execution_count": 23,
   "metadata": {
    "ExecuteTime": {
     "end_time": "2019-12-12T18:21:15.324815Z",
     "start_time": "2019-12-12T18:21:15.110374Z"
    }
   },
   "outputs": [
    {
     "name": "stdout",
     "output_type": "stream",
     "text": [
      "energy: -5627.0\n",
      "tsp objective: 154.0\n",
      "feasible: True\n",
      "solution: [0, 1, 2]\n",
      "solution objective: 154.0\n"
     ]
    },
    {
     "data": {
      "image/png": "[encoded data removed]",
      "text/plain": [
       "<Figure size 432x288 with 1 Axes>"
      ]
     },
     "metadata": {},
     "output_type": "display_data"
    }
   ],
   "source": [
    "ee = ExactEigensolver(qubitOp_docplex, k=1)\n",
    "result = ee.run()\n",
    "\n",
    "print('energy:', result['energy'])\n",
    "print('tsp objective:', result['energy'] + offset_docplex)\n",
    "\n",
    "x = docplex.sample_most_likely(result['eigvecs'][0])\n",
    "print('feasible:', tsp.tsp_feasible(x))\n",
    "z = tsp.get_tsp_solution(x)\n",
    "print('solution:', z)\n",
    "print('solution objective:', tsp.tsp_value(z, ins.w))\n",
    "draw_tsp_solution(G, z, colors, pos)"
   ]
  },
  {
   "cell_type": "code",
   "execution_count": 24,
   "metadata": {
    "ExecuteTime": {
     "end_time": "2019-12-12T18:21:15.433023Z",
     "start_time": "2019-12-12T18:21:15.363917Z"
    }
   },
   "outputs": [
    {
     "data": {
      "text/html": [
       "<h3>Version Information</h3><table><tr><th>Qiskit Software</th><th>Version</th></tr><tr><td>Qiskit</td><td>0.14.0</td></tr><tr><td>Terra</td><td>0.11.0</td></tr><tr><td>Aer</td><td>0.3.4</td></tr><tr><td>Ignis</td><td>0.2.0</td></tr><tr><td>Aqua</td><td>0.6.1</td></tr><tr><td>IBM Q Provider</td><td>0.4.4</td></tr><tr><th>System information</th></tr><tr><td>Python</td><td>3.7.5 (default, Oct 25 2019, 10:52:18) \n",
       "[Clang 4.0.1 (tags/RELEASE_401/final)]</td></tr><tr><td>OS</td><td>Darwin</td></tr><tr><td>CPUs</td><td>4</td></tr><tr><td>Memory (Gb)</td><td>16.0</td></tr><tr><td colspan='2'>Thu Dec 12 13:21:15 2019 EST</td></tr></table>"
      ],
      "text/plain": [
       "<IPython.core.display.HTML object>"
      ]
     },
     "metadata": {},
     "output_type": "display_data"
    },
    {
     "data": {
      "text/html": [
       "<div style='width: 100%; background-color:#d5d9e0;padding-left: 10px; padding-bottom: 10px; padding-right: 10px; padding-top: 5px'><h3>This code is a part of Qiskit</h3><p>&copy; Copyright IBM 2017, 2019.</p><p>This code is licensed under the Apache License, Version 2.0. You may<br>obtain a copy of this license in the LICENSE.txt file in the root directory<br> of this source tree or at http://www.apache.org/licenses/LICENSE-2.0.<p>Any modifications or derivative works of this code must retain this<br>copyright notice, and modified files need to carry a notice indicating<br>that they have been altered from the originals.</p></div>"
      ],
      "text/plain": [
       "<IPython.core.display.HTML object>"
      ]
     },
     "metadata": {},
     "output_type": "display_data"
    }
   ],
   "source": [
    "import qiskit.tools.jupyter\n",
    "%qiskit_version_table\n",
    "%qiskit_copyright"
   ]
  },
  {
   "cell_type": "code",
   "execution_count": null,
   "metadata": {},
   "outputs": [],
   "source": []
  }
 ],
 "metadata": {
  "anaconda-cloud": {},
  "kernelspec": {
   "display_name": "Python 3",
   "language": "python",
   "name": "python3"
  },
  "language_info": {
   "codemirror_mode": {
    "name": "ipython",
    "version": 3
   },
   "file_extension": ".py",
   "mimetype": "text/x-python",
   "name": "python",
   "nbconvert_exporter": "python",
   "pygments_lexer": "ipython3",
   "version": "3.7.5"
  },
  "varInspector": {
   "cols": {
    "lenName": 16,
    "lenType": 16,
    "lenVar": 40
   },
   "kernels_config": {
    "python": {
     "delete_cmd_postfix": "",
     "delete_cmd_prefix": "del ",
     "library": "var_list.py",
     "varRefreshCmd": "print(var_dic_list())"
    },
    "r": {
     "delete_cmd_postfix": ") ",
     "delete_cmd_prefix": "rm(",
     "library": "var_list.r",
     "varRefreshCmd": "cat(var_dic_list()) "
    }
   },
   "types_to_exclude": [
    "module",
    "function",
    "builtin_function_or_method",
    "instance",
    "_Feature"
   ],
   "window_display": false
  }
 },
 "nbformat": 4,
 "nbformat_minor": 1
}
