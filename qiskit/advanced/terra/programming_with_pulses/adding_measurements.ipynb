{
 "cells": [
  {
   "cell_type": "markdown",
   "metadata": {},
   "source": [
    "# Adding measurements to `Schedule`s\n",
    "\n",
    "Measurement is clearly a very important part of building a Pulse schedule -- this is how we get the results of our program execution! The powerful low-level control we are granted by Pulse gives us more freedom than `QuantumCircuit`s in specifying how the measurement should be done, enabling the user to explore readout error mitigation. This power of course comes with responsibility: we have to understand how measurement works, and accomodate certain hardware constraints.\n",
    "\n",
    "On this page, we will explore in depth how to create measurements, using several different approaches of increasing complexity.\n",
    "\n",
    "**Note: Pulse allows you to receive raw, kerneled, and disciminated readout data (whereas circuits will only return discriminated data). Documentation for these options can be found here-COMING SOON.**\n",
    "\n",
    "### Quick reference for adding a backend-default measurement\n",
    "There is a feature that allows you to add measurements as easily to `Schedule`s as to `QuantumCircuit`s, with just the qubits you want to measure (below, qubits 0 and 1) and your OpenPulse-enabled `backend`:\n",
    "\n",
    "```\n",
    "# Appending a measurement schedule to a Schedule, sched\n",
    "from qiskit.pulse import measure\n",
    "sched += measure([0, 1], backend) << sched.duration\n",
    "```\n",
    "The `backend` contains a default definition for measurement. Compare this to adding measurements to a `QuantumCircuit`, `qc`:\n",
    "```\n",
    "qc.measure(quantum_reg[0], classical_reg[0])\n",
    "qc.measure(quantum_reg[1], classical_reg[1])\n",
    "```\n",
    "\n",
    "### Basic measurement pattern\n",
    "Let's use the default measurement feature to inspect a measurement and learn what each pulse does."
   ]
  },
  {
   "cell_type": "code",
   "execution_count": 3,
   "metadata": {},
   "outputs": [
    {
     "data": {
      "image/png": "[encoded data removed]",
      "text/plain": [
       "<Figure size 720x864 with 1 Axes>"
      ]
     },
     "execution_count": 3,
     "metadata": {},
     "output_type": "execute_result"
    }
   ],
   "source": [
    "from qiskit import IBMQ\n",
    "from qiskit.pulse import Schedule\n",
    "from qiskit.scheduler.utils import measure_all\n",
    "\n",
    "backend = IBMQ.load_account().backends(open_pulse=True)[0]\n",
    "\n",
    "sched = Schedule(name=\"Measurement scheduling example\")\n",
    "sched += measure_all(backend)\n",
    "\n",
    "sched.draw()"
   ]
  },
  {
   "cell_type": "markdown",
   "metadata": {},
   "source": [
    "Each qubit has two channels related to readout. These are the readout transmit `MeasureChannel`s, and the readout receive `AcquireChannel`s. In superconducting qubit architectures, qubits are coupled to readout resonators. The coupling hybridizes the state between the qubit and the readout resonator. The `MeasureChannel` and `AcquireChannel`s label signal lines which connect to the readout resonator. When a stimulus pulse is sent to the The effect is that the signal reflected  \n",
    "\n",
    "#### Additional options on `measure`\n",
    "\n",
    "`qubit_mem_slots`\n",
    "TODO explain how to do qubit mapping to mem slots"
   ]
  },
  {
   "cell_type": "code",
   "execution_count": 2,
   "metadata": {},
   "outputs": [
    {
     "data": {
      "text/plain": [
       "((0,\n",
       "  AcquireInstruction(Acquire(duration=16000, kernel=acq0, discriminator=None, name=\"None\"), AcquireChannel(0), MemorySlot(1))),\n",
       " (0,\n",
       "  PulseInstruction(SamplePulse(samples=array([0.00295201+0.j, 0.00597357+0.j, 0.00906536+0.j, ...,\n",
       "         0.00906536+0.j, 0.00597357+0.j, 0.00295201+0.j]), name=\"M_m0_5e3c\"), MeasureChannel(0))))"
      ]
     },
     "execution_count": 2,
     "metadata": {},
     "output_type": "execute_result"
    }
   ],
   "source": [
    "from qiskit.scheduler.utils import measure\n",
    "\n",
    "sched = measure(qubits=[0], backend=backend, qubit_mem_slots={0: 1})\n",
    "\n",
    "sched.instructions"
   ]
  },
  {
   "cell_type": "markdown",
   "metadata": {},
   "source": [
    "TODO other custom args for `measure`\n",
    "\n",
    "`inst_map`\n",
    "\n",
    "`meas_map`"
   ]
  },
  {
   "cell_type": "markdown",
   "metadata": {},
   "source": [
    "### Measurement map `meas_map`\n",
    "\n",
    "Due to control rack hardware constraints, some qubits may need to be acquired together. This can be the case for qubits whose readout channels are multiplexed. The OpenPulse backend will provide a `meas_map` to notify the user of this.\n",
    "\n",
    "For instance, if we see this for a 5-qubit `backend`\n",
    "\n",
    "```\n",
    "backend.configuration().meas_map\n",
    "\n",
    "Out: [[0, 1, 2, 3, 4]]\n",
    "```\n",
    "\n",
    "then we know that all the qubits on this device must be acquired together. On the other hand, if we see this\n",
    "\n",
    "```\n",
    "Out: [[0], [1], [2], [3, 4]]\n",
    "```\n",
    "\n",
    "this tells us that qubits 0, 1 and 2 can be acquired independently, but qubits 3 and 4 must be acquired together."
   ]
  },
  {
   "cell_type": "markdown",
   "metadata": {},
   "source": [
    "## From pulses"
   ]
  },
  {
   "cell_type": "code",
   "execution_count": 5,
   "metadata": {},
   "outputs": [
    {
     "data": {
      "image/png": "[encoded data removed]",
      "text/plain": [
       "<Figure size 720x864 with 1 Axes>"
      ]
     },
     "execution_count": 5,
     "metadata": {},
     "output_type": "execute_result"
    }
   ],
   "source": [
    "from qiskit.pulse import GaussianSquare, MeasureChannel, Acquire, AcquireChannel, MemorySlot\n",
    "\n",
    "duration = 1200\n",
    "\n",
    "measure_tx = GaussianSquare(duration=duration, amp=0.2, sigma=10, width=duration - 50)(MeasureChannel(0))\n",
    "measure_tx += GaussianSquare(duration=duration, amp=0.2, sigma=10, width=duration - 50)(MeasureChannel(1))\n",
    "\n",
    "acquire = Acquire(duration)\n",
    "measure_rx = acquire(AcquireChannel(0), MemorySlot(0))\n",
    "measure_rx += acquire(AcquireChannel(1), MemorySlot(1))\n",
    "\n",
    "measure_sched = measure_tx + measure_rx\n",
    "\n",
    "measure_sched.draw()"
   ]
  },
  {
   "cell_type": "code",
   "execution_count": null,
   "metadata": {},
   "outputs": [],
   "source": []
  }
 ],
 "metadata": {
  "kernelspec": {
   "display_name": "Python 3",
   "language": "python",
   "name": "python3"
  },
  "language_info": {
   "codemirror_mode": {
    "name": "ipython",
    "version": 3
   },
   "file_extension": ".py",
   "mimetype": "text/x-python",
   "name": "python",
   "nbconvert_exporter": "python",
   "pygments_lexer": "ipython3",
   "version": "3.7.6"
  }
 },
 "nbformat": 4,
 "nbformat_minor": 2
}
