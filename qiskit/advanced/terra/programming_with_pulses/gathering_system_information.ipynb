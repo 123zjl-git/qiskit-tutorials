{
 "cells": [
  {
   "cell_type": "markdown",
   "metadata": {},
   "source": [
    "# Obtaining information about your `backend`\n",
    "\n",
    "#### _Note: All the attributes of the backend are described in detail in the [Qiskit Backend Specifications](https://arxiv.org/pdf/1809.03452.pdf). This page reviews a subset of the spec._\n",
    "\n",
    "Programming a quantum computer at the microwave pulse level requires more information about the device than is required at the circuit level. A quantum circuit is built for an abstract quantum computer -- it will yield the same quantum state on any quantum computer (except for varying performance levels). A pulse schedule, on the other hand, is so specific to the device, that running one program on two different backends is not expected to have the same result, even on perfectly noiseless systems.\n",
    "\n",
    "As a basic example, imagine a drive pulse `q0_X180` calibrated on qubit 0 to enact an $X180$ pulse, which flips the state of qubit 0. If we use the samples from that pulse on qubit 1 on the same device, or qubit 0 on another device, we do not know what the resulting state will be -- but we can be pretty sure it won't be an $X180$ operation. The qubits are each unique, with various drive coupling strengths. If we have specified a frequency for the drive pulse, it's very probable that pulse would have little effect on another qubit, which has its own resonant frequency.\n",
    "\n",
    "With that, we have motivated why information from the backend may be very useful at times for building Pulse schedules. The information included in a `backend` is broken into three main parts:\n",
    "\n",
    " - **Configuration**: static backend features\n",
    " - **Properties**: measured and reported backend characteristics\n",
    " - **Defaults**: default settings for the OpenPulse-enabled backend\n",
    " \n",
    "which are each covered in the following sections. While all three of these contain interesting data for Pulse users, the defaults are _only_ provided for backends enabled with OpenPulse.\n",
    "\n",
    "The first thing you'll need to do is grab a backend to inspect."
   ]
  },
  {
   "cell_type": "code",
   "execution_count": 1,
   "metadata": {},
   "outputs": [],
   "source": [
    "from qiskit import IBMQ\n",
    "\n",
    "provider = IBMQ.load_account()\n",
    "# We are interested in one that has all the OpenPulse related attributes\n",
    "backend = provider.backends(open_pulse=True)[0]"
   ]
  },
  {
   "cell_type": "markdown",
   "metadata": {},
   "source": [
    "## Configuration\n",
    "\n",
    "The configuration is where you'll find data about the static setup of the device, such as its name, version, the number of qubits, and the types of features it supports.\n",
    "\n",
    "Let's build a description of our backend using information from the `backend`'s config."
   ]
  },
  {
   "cell_type": "code",
   "execution_count": 2,
   "metadata": {},
   "outputs": [
    {
     "name": "stdout",
     "output_type": "stream",
     "text": [
      "This backend is called ibmq_armonk, and is on version 1.1.0. It has 1 qubit. It supports OpenPulse programs. The basis gates supported on this device are ['id', 'u1', 'u2', 'u3'].\n"
     ]
    }
   ],
   "source": [
    "config = backend.configuration()\n",
    "\n",
    "# Basic Features\n",
    "print(f\"This backend is called {config.backend_name}, and is on version {config.backend_version}. \"\n",
    "      f\"It has {config.n_qubits} qubit{'' if config.n_qubits == 1 else 's'}. It \"\n",
    "      f\"{'supports' if config.open_pulse else 'does not support'} OpenPulse programs. The basis \"\n",
    "      f\"gates supported on this device are {config.basis_gates}.\")"
   ]
  },
  {
   "cell_type": "markdown",
   "metadata": {},
   "source": [
    "Neat! All of the above configuration is available for any backend, whether enabled with OpenPulse or not, although it is not an exhaustive list. There are additional attributes available on Pulse backends. Let's go into a bit more detail with those.\n",
    "\n",
    "The **timescale**, `dt`, is backend dependent. Think of this as the inverse sampling rate of the control rack's arbitrary waveform generators. Each sample point and duration in a Pulse `Schedule` is given in units of this timescale."
   ]
  },
  {
   "cell_type": "code",
   "execution_count": 3,
   "metadata": {},
   "outputs": [
    {
     "name": "stderr",
     "output_type": "stream",
     "text": [
      "/Users/lauren@ibm.com/code/qiskit-terra/qiskit/providers/models/backendconfiguration.py:355: UserWarning: `dt` and `dtm` now have units of seconds(s) rather than nanoseconds(ns).\n",
      "  warnings.warn('`dt` and `dtm` now have units of seconds(s) rather '\n"
     ]
    },
    {
     "data": {
      "text/plain": [
       "2.2222222222222221e-10"
      ]
     },
     "execution_count": 3,
     "metadata": {},
     "output_type": "execute_result"
    }
   ],
   "source": [
    "config.dt  # units of seconds"
   ]
  },
  {
   "cell_type": "markdown",
   "metadata": {},
   "source": [
    "The configuration also provides information that is useful for building measurements. Pulse supports three measurement levels: `0: RAW`, `1: KERNELED`, and `2: DISCRIMINATED`. The `meas_levels` attribute tells us which of those are supported by this backend. To learn how to execute programs with these different levels, see this page -- COMING SOON."
   ]
  },
  {
   "cell_type": "code",
   "execution_count": 4,
   "metadata": {},
   "outputs": [
    {
     "data": {
      "text/plain": [
       "[1, 2]"
      ]
     },
     "execution_count": 4,
     "metadata": {},
     "output_type": "execute_result"
    }
   ],
   "source": [
    "config.meas_levels"
   ]
  },
  {
   "cell_type": "markdown",
   "metadata": {},
   "source": [
    "For backends which support measurement level 0, the sampling rate of the control rack's analog-to-digital converters (ADCs) also becomes relevant. The configuration also has this info, where `dtm` is the time per sample returned:"
   ]
  },
  {
   "cell_type": "code",
   "execution_count": 5,
   "metadata": {},
   "outputs": [
    {
     "data": {
      "text/plain": [
       "2.2222222222222221e-10"
      ]
     },
     "execution_count": 5,
     "metadata": {},
     "output_type": "execute_result"
    }
   ],
   "source": [
    "config.dtm"
   ]
  },
  {
   "cell_type": "markdown",
   "metadata": {},
   "source": [
    "The measurement map, explained in detail on [this page (IN REVIEW)](adding_measurements.ipynb), is also found here."
   ]
  },
  {
   "cell_type": "code",
   "execution_count": 6,
   "metadata": {},
   "outputs": [
    {
     "data": {
      "text/plain": [
       "[[0]]"
      ]
     },
     "execution_count": 6,
     "metadata": {},
     "output_type": "execute_result"
    }
   ],
   "source": [
    "config.meas_map"
   ]
  },
  {
   "cell_type": "markdown",
   "metadata": {},
   "source": [
    "The configuration also supplies convenient methods for getting channels for your schedule programs. For instance:"
   ]
  },
  {
   "cell_type": "code",
   "execution_count": 7,
   "metadata": {},
   "outputs": [
    {
     "data": {
      "text/plain": [
       "DriveChannel(0)"
      ]
     },
     "execution_count": 7,
     "metadata": {},
     "output_type": "execute_result"
    }
   ],
   "source": [
    "config.drive(0)"
   ]
  },
  {
   "cell_type": "code",
   "execution_count": 8,
   "metadata": {},
   "outputs": [
    {
     "data": {
      "text/plain": [
       "MeasureChannel(0)"
      ]
     },
     "execution_count": 8,
     "metadata": {},
     "output_type": "execute_result"
    }
   ],
   "source": [
    "config.measure(0)"
   ]
  },
  {
   "cell_type": "code",
   "execution_count": 9,
   "metadata": {},
   "outputs": [
    {
     "data": {
      "text/plain": [
       "AcquireChannel(0)"
      ]
     },
     "execution_count": 9,
     "metadata": {},
     "output_type": "execute_result"
    }
   ],
   "source": [
    "config.acquire(0)"
   ]
  },
  {
   "cell_type": "markdown",
   "metadata": {},
   "source": [
    "It is a matter of style and personal preference whether you use `config.drive(0)` or `DriveChannel(0)`.\n",
    "\n",
    "## Properties\n",
    "\n",
    "The `backend` properties contain data that was measured and optionally reported by the provider. Let's see what kind of information is reported for qubit 0."
   ]
  },
  {
   "cell_type": "code",
   "execution_count": 10,
   "metadata": {},
   "outputs": [],
   "source": [
    "props = backend.properties()"
   ]
  },
  {
   "cell_type": "code",
   "execution_count": 11,
   "metadata": {},
   "outputs": [
    {
     "name": "stdout",
     "output_type": "stream",
     "text": [
      "Qubit 0 has a \n",
      "  - T1 time of 179.20855318949387 microseconds\n",
      "  - T2 time of 207.08071658715147 microseconds\n",
      "  - U2 gate error of 0.0006168554137126238\n",
      "  - U2 gate duration of 142.22222222222226 nanoseconds\n",
      "  - resonant frequency of 4.9742936409604575 GHz\n"
     ]
    }
   ],
   "source": [
    "def describe_qubit(qubit, properties):\n",
    "    \"\"\"Print a string describing some of reported properties of the given qubit.\"\"\"\n",
    "\n",
    "    # Conversion factors from standard SI units\n",
    "    us = 1e6\n",
    "    ns = 1e9\n",
    "    GHz = 1e-9\n",
    "\n",
    "    print(f\"Qubit {qubit} has a \\n\"\n",
    "          f\"  - T1 time of {properties.t1(qubit) * us} microseconds\\n\"\n",
    "          f\"  - T2 time of {properties.t2(qubit) * us} microseconds\\n\"\n",
    "          f\"  - U2 gate error of {properties.gate_error('u2', qubit)}\\n\"\n",
    "          f\"  - U2 gate duration of {properties.gate_length('u2', qubit) * ns} nanoseconds\\n\"\n",
    "          f\"  - resonant frequency of {properties.frequency(qubit) * GHz} GHz\")\n",
    "\n",
    "describe_qubit(0, props)"
   ]
  },
  {
   "cell_type": "markdown",
   "metadata": {},
   "source": [
    "Properties are not guaranteed to be reported, but backends without Pulse access typically also provide this data.\n",
    "\n",
    "## Defaults\n",
    "\n",
    "Unlike the other two sections, `PulseDefaults` are only available for Pulse-enabled backends. It contains the default program settings run on the device."
   ]
  },
  {
   "cell_type": "code",
   "execution_count": 12,
   "metadata": {},
   "outputs": [],
   "source": [
    "defaults = backend.defaults()"
   ]
  },
  {
   "cell_type": "markdown",
   "metadata": {},
   "source": [
    "### Drive frequencies\n",
    "\n",
    "Defaults contains the default frequency settings for the drive and measurement signal channels:"
   ]
  },
  {
   "cell_type": "code",
   "execution_count": 13,
   "metadata": {},
   "outputs": [
    {
     "name": "stdout",
     "output_type": "stream",
     "text": [
      "DriveChannel(0) defaults to a modulation frequency of 4.974293640960457 GHz.\n",
      "MeasureChannel(0) defaults to a modulation frequency of 6.993427855 GHz.\n"
     ]
    },
    {
     "name": "stderr",
     "output_type": "stream",
     "text": [
      "/Users/lauren@ibm.com/code/qiskit-terra/qiskit/providers/models/pulsedefaults.py:155: UserWarning: `qubit_freq_est` and `meas_freq_est` now have units of Hertz(Hz) rather than gigahertz(GHz).\n",
      "  warnings.warn('`qubit_freq_est` and `meas_freq_est` now have units of '\n"
     ]
    }
   ],
   "source": [
    "q0_freq = defaults.qubit_freq_est[0]  # Hz\n",
    "q0_meas_freq = defaults.meas_freq_est[0]  # Hz\n",
    "\n",
    "GHz = 1e-9\n",
    "print(f\"DriveChannel(0) defaults to a modulation frequency of {q0_freq*GHz} GHz.\")\n",
    "print(f\"MeasureChannel(0) defaults to a modulation frequency of {q0_meas_freq*GHz} GHz.\")"
   ]
  },
  {
   "cell_type": "markdown",
   "metadata": {},
   "source": [
    "### Pulse Schedule definitions for QuantumCircuit instructions\n",
    "\n",
    "Finally, one of the most important aspects of the `backend` for `Schedule` building is the `InstructionScheduleMap`. This is a basic mapping from a circuit operation's name and qubit to the default pulse-level implementation of that instruction. "
   ]
  },
  {
   "cell_type": "code",
   "execution_count": 14,
   "metadata": {},
   "outputs": [
    {
     "name": "stdout",
     "output_type": "stream",
     "text": [
      "<InstructionScheduleMap(1Q instructions:\n",
      "  q0: {'MEAS', 'measure', 'id', 'u1', 'u3', 'x', 'u2'}\n",
      "Multi qubit instructions:\n",
      ")>\n"
     ]
    }
   ],
   "source": [
    "inst_map = defaults.instruction_schedule_map\n",
    "print(inst_map)"
   ]
  },
  {
   "cell_type": "markdown",
   "metadata": {},
   "source": [
    "Rather than build a measurement schedule from scratch, let's see what was calibrated by the backend to measure the qubits on this device:"
   ]
  },
  {
   "cell_type": "code",
   "execution_count": 15,
   "metadata": {},
   "outputs": [
    {
     "data": {
      "image/png": "[encoded data removed]",
      "text/plain": [
       "<Figure size 720x864 with 1 Axes>"
      ]
     },
     "execution_count": 15,
     "metadata": {},
     "output_type": "execute_result"
    }
   ],
   "source": [
    "measure_schedule = inst_map.get('measure', [q for q in range(config.n_qubits)])\n",
    "measure_schedule.draw()"
   ]
  },
  {
   "cell_type": "markdown",
   "metadata": {},
   "source": [
    "This can easily be appended to your own Pulse `Schedule` (`sched += inst_map.get('measure', <qubits>) << sched.duration`)!\n",
    "\n",
    "Likewise, each qubit will have a `Schedule` defined for each basis gate, and they can be appended directly to any `Schedule` you build."
   ]
  },
  {
   "cell_type": "code",
   "execution_count": 16,
   "metadata": {},
   "outputs": [
    {
     "data": {
      "text/plain": [
       "False"
      ]
     },
     "execution_count": 16,
     "metadata": {},
     "output_type": "execute_result"
    }
   ],
   "source": [
    "# You can use `has` to see if an operation is defined. Ex: Does qubit 3 have an x gate defined?\n",
    "inst_map.has('x', 3)"
   ]
  },
  {
   "cell_type": "code",
   "execution_count": 17,
   "metadata": {},
   "outputs": [
    {
     "data": {
      "text/plain": [
       "Schedule((0, FrameChangeInstruction(FrameChange(phase=-3.142, name=\"fc0\"), DriveChannel(0))), name=\"u1\")"
      ]
     },
     "execution_count": 17,
     "metadata": {},
     "output_type": "execute_result"
    }
   ],
   "source": [
    "# Some circuit operations take parameters. U1 takes a rotation angle:\n",
    "inst_map.get('u1', 0, P0=3.1415)"
   ]
  },
  {
   "cell_type": "markdown",
   "metadata": {},
   "source": [
    "While building your schedule, you can also use `inst_map.add(name, qubits, schedule)` to store useful `Schedule`s that you've made yourself. "
   ]
  },
  {
   "cell_type": "code",
   "execution_count": null,
   "metadata": {},
   "outputs": [],
   "source": []
  }
 ],
 "metadata": {
  "kernelspec": {
   "display_name": "Python 3",
   "language": "python",
   "name": "python3"
  },
  "language_info": {
   "codemirror_mode": {
    "name": "ipython",
    "version": 3
   },
   "file_extension": ".py",
   "mimetype": "text/x-python",
   "name": "python",
   "nbconvert_exporter": "python",
   "pygments_lexer": "ipython3",
   "version": "3.7.6"
  }
 },
 "nbformat": 4,
 "nbformat_minor": 2
}
