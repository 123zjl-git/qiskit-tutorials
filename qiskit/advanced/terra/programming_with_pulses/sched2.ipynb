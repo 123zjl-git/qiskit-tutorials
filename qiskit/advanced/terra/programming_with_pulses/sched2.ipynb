{
 "cells": [
  {
   "cell_type": "markdown",
   "metadata": {
    "slideshow": {
     "slide_type": "slide"
    }
   },
   "source": [
    "# Qiskit - Custom Unitary\n",
    "\n",
    "\n",
    "Thomas Alexander"
   ]
  },
  {
   "cell_type": "markdown",
   "metadata": {},
   "source": [
    "### Normal imports"
   ]
  },
  {
   "cell_type": "code",
   "execution_count": 1,
   "metadata": {
    "slideshow": {
     "slide_type": "subslide"
    }
   },
   "outputs": [],
   "source": [
    "import warnings\n",
    "warnings.filterwarnings('ignore')\n",
    "\n",
    "import copy\n",
    "import matplotlib.pyplot as plt\n",
    "import numpy as np\n",
    "from scipy.optimize import curve_fit\n",
    "\n",
    "import qiskit\n",
    "from qiskit import IBMQ, execute\n",
    "import qiskit.pulse as pulse\n",
    "from qiskit.pulse import pulse_lib, schedule"
   ]
  },
  {
   "cell_type": "markdown",
   "metadata": {
    "slideshow": {
     "slide_type": "slide"
    }
   },
   "source": [
    "## Load backends per-usual"
   ]
  },
  {
   "cell_type": "code",
   "execution_count": 2,
   "metadata": {
    "slideshow": {
     "slide_type": "-"
    }
   },
   "outputs": [],
   "source": [
    "IBMQ.load_account()\n",
    "provider = IBMQ.get_provider(hub='ibm-q', group='open', project='main')\n",
    "backend = provider.get_backend('ibmq_armonk')"
   ]
  },
  {
   "cell_type": "code",
   "execution_count": 3,
   "metadata": {
    "slideshow": {
     "slide_type": "-"
    }
   },
   "outputs": [],
   "source": [
    "config = backend.configuration()"
   ]
  },
  {
   "cell_type": "code",
   "execution_count": 4,
   "metadata": {
    "slideshow": {
     "slide_type": "-"
    }
   },
   "outputs": [],
   "source": [
    "defaults = backend.defaults()"
   ]
  },
  {
   "cell_type": "code",
   "execution_count": 5,
   "metadata": {
    "slideshow": {
     "slide_type": "-"
    }
   },
   "outputs": [],
   "source": [
    "inst_map = defaults.instruction_schedule_map"
   ]
  },
  {
   "cell_type": "markdown",
   "metadata": {
    "slideshow": {
     "slide_type": "slide"
    }
   },
   "source": [
    "## Calibrate our x90/180 pulses first\n",
    "Lets run through a Rabi experiment with pulse, from program building to data analysis\n",
    "\n",
    "First we need to define some relevant parameters"
   ]
  },
  {
   "cell_type": "code",
   "execution_count": 6,
   "metadata": {
    "slideshow": {
     "slide_type": "-"
    }
   },
   "outputs": [],
   "source": [
    "qubit = 0\n",
    "shots = 256"
   ]
  },
  {
   "cell_type": "code",
   "execution_count": 7,
   "metadata": {
    "slideshow": {
     "slide_type": "-"
    }
   },
   "outputs": [],
   "source": [
    "drive_samples = 1024\n",
    "drive_sigma = drive_samples / 4"
   ]
  },
  {
   "cell_type": "code",
   "execution_count": 8,
   "metadata": {
    "slideshow": {
     "slide_type": "-"
    }
   },
   "outputs": [],
   "source": [
    "meas_samples = 16000\n",
    "meas_amp = 0.6\n",
    "meas_sigma = 48\n",
    "meas_risefall = 448"
   ]
  },
  {
   "cell_type": "markdown",
   "metadata": {
    "slideshow": {
     "slide_type": "subslide"
    }
   },
   "source": [
    "### Circuit instructions are composite in pulse"
   ]
  },
  {
   "cell_type": "markdown",
   "metadata": {
    "slideshow": {
     "slide_type": "subslide"
    }
   },
   "source": [
    "### Define our measurement schedule"
   ]
  },
  {
   "cell_type": "code",
   "execution_count": 9,
   "metadata": {
    "slideshow": {
     "slide_type": "skip"
    }
   },
   "outputs": [
    {
     "data": {
      "image/png": "[encoded data removed]",
      "text/plain": [
       "<Figure size 720x864 with 1 Axes>"
      ]
     },
     "execution_count": 9,
     "metadata": {},
     "output_type": "execute_result"
    }
   ],
   "source": [
    "# First we need to define our measurement operation that we can reuse\n",
    "measure = pulse.Schedule()\n",
    "measure_pulse = pulse_lib.gaussian_square(meas_samples, meas_amp, meas_sigma, meas_risefall)\n",
    "acquire = pulse.Acquire(meas_samples)\n",
    "\n",
    "measure += measure_pulse(pulse.MeasureChannel(0))\n",
    "measure += acquire(pulse.AcquireChannel(0), pulse.MemorySlot(0))\n",
    "measure.draw()"
   ]
  },
  {
   "cell_type": "markdown",
   "metadata": {
    "slideshow": {
     "slide_type": "slide"
    }
   },
   "source": [
    "# Let's build our experiment!"
   ]
  },
  {
   "cell_type": "markdown",
   "metadata": {
    "slideshow": {
     "slide_type": "-"
    }
   },
   "source": [
    "define some parameters for the Rabi experiment"
   ]
  },
  {
   "cell_type": "code",
   "execution_count": 10,
   "metadata": {
    "slideshow": {
     "slide_type": "-"
    }
   },
   "outputs": [],
   "source": [
    "# Rabi experiment parameters\n",
    "n_rabi_points = 50\n",
    "\n",
    "# Drive amplitude values to iterate over: 64 amplitudes evenly spaced from 0 to 0.1\n",
    "drive_amp_min = 0\n",
    "drive_amp_max = 0.70\n",
    "rabi_amps = np.linspace(drive_amp_min, drive_amp_max, n_rabi_points)"
   ]
  },
  {
   "cell_type": "markdown",
   "metadata": {
    "slideshow": {
     "slide_type": "-"
    }
   },
   "source": [
    "we construct our Rabi pulse program"
   ]
  },
  {
   "cell_type": "code",
   "execution_count": 13,
   "metadata": {
    "slideshow": {
     "slide_type": "skip"
    }
   },
   "outputs": [],
   "source": [
    "rabi_schedules = []\n",
    "\n",
    "drive_channel = pulse.DriveChannel(qubit)\n",
    "\n",
    "for drive_amp in rabi_amps:\n",
    "    sched = pulse.Schedule()\n",
    "    rabi_pulse = pulse_lib.gaussian(drive_samples, drive_amp, drive_sigma)\n",
    "    sched += rabi_pulse(drive_channel)\n",
    "    sched += measure << sched.duration\n",
    "    rabi_schedules.append(sched)"
   ]
  },
  {
   "cell_type": "markdown",
   "metadata": {},
   "source": [
    "Plot our Rabi schedule"
   ]
  },
  {
   "cell_type": "code",
   "execution_count": 14,
   "metadata": {
    "slideshow": {
     "slide_type": "subslide"
    }
   },
   "outputs": [
    {
     "data": {
      "image/png": "[encoded data removed]",
      "text/plain": [
       "<Figure size 720x864 with 1 Axes>"
      ]
     },
     "execution_count": 14,
     "metadata": {},
     "output_type": "execute_result"
    }
   ],
   "source": [
    "rabi_schedules[-1].draw()"
   ]
  },
  {
   "cell_type": "markdown",
   "metadata": {
    "slideshow": {
     "slide_type": "slide"
    }
   },
   "source": [
    "## Execute our Experiment"
   ]
  },
  {
   "cell_type": "code",
   "execution_count": 15,
   "metadata": {
    "slideshow": {
     "slide_type": "skip"
    }
   },
   "outputs": [
    {
     "name": "stdout",
     "output_type": "stream",
     "text": [
      "5e548517e0084d0018790c3a\n"
     ]
    }
   ],
   "source": [
    "rabi_job = qiskit.execute(rabi_schedules, backend, meas_level=1, meas_return='avg', shots=shots)\n",
    "print(rabi_job.job_id())\n",
    "rabi_result = rabi_job.result()"
   ]
  },
  {
   "cell_type": "markdown",
   "metadata": {
    "slideshow": {
     "slide_type": "subslide"
    }
   },
   "source": [
    "### get our results"
   ]
  },
  {
   "cell_type": "code",
   "execution_count": 16,
   "metadata": {
    "slideshow": {
     "slide_type": "-"
    }
   },
   "outputs": [],
   "source": [
    "rabi_data = np.asarray([rabi_result.get_memory(i) for i in range(n_rabi_points)]).reshape(-1)"
   ]
  },
  {
   "cell_type": "code",
   "execution_count": 30,
   "metadata": {
    "slideshow": {
     "slide_type": "-"
    }
   },
   "outputs": [
    {
     "data": {
      "image/png": "[encoded data removed]",
      "text/plain": [
       "<Figure size 720x576 with 1 Axes>"
      ]
     },
     "metadata": {
      "needs_background": "light"
     },
     "output_type": "display_data"
    }
   ],
   "source": [
    "def sinusoid(x, A, B, drive_period, phi):\n",
    "    return (A*np.cos(2*np.pi*x/drive_period - phi) + B)\n",
    "\n",
    "fit_params, y_fit = curve_fit(sinusoid,\n",
    "                              rabi_amps,\n",
    "                              rabi_data,\n",
    "                              [1.0e14, -0.5e14, -0.5, 0])\n",
    "plt.figure(figsize=(10, 8))\n",
    "plt.scatter(rabi_amps, rabi_data, color='black')\n",
    "plt.plot(rabi_amps, sinusoid(rabi_amps, *fit_params), color='red')\n",
    "plt.xlabel(\"Drive amp [a.u.]\", fontsize=15)\n",
    "plt.ylabel(\"Measured signal [a.u.]\", fontsize=15)\n",
    "plt.show()"
   ]
  },
  {
   "cell_type": "code",
   "execution_count": 31,
   "metadata": {
    "slideshow": {
     "slide_type": "subslide"
    }
   },
   "outputs": [
    {
     "name": "stdout",
     "output_type": "stream",
     "text": [
      "π Amplitude = 0.37368506750784397\n",
      "π/2 Amplitude = 0.18684253375392199\n"
     ]
    }
   ],
   "source": [
    "_,_,drive_period,_ = fit_params\n",
    "pi_amp = abs(drive_period / 2)\n",
    "pi2_amp = pi_amp /2 \n",
    "print(f\"π Amplitude = {pi_amp}\")\n",
    "print(f\"π/2 Amplitude = {pi2_amp}\")"
   ]
  },
  {
   "cell_type": "markdown",
   "metadata": {
    "slideshow": {
     "slide_type": "subslide"
    }
   },
   "source": [
    "### Our $\\pi$ and $\\pi/2$ pulses!\n",
    "Let's define our pulse, with the amplitude we just found, so we can use it in later experiments."
   ]
  },
  {
   "cell_type": "code",
   "execution_count": 32,
   "metadata": {
    "slideshow": {
     "slide_type": "-"
    }
   },
   "outputs": [
    {
     "data": {
      "image/png": "[encoded data removed]",
      "text/plain": [
       "<Figure size 504x360 with 1 Axes>"
      ]
     },
     "execution_count": 32,
     "metadata": {},
     "output_type": "execute_result"
    }
   ],
   "source": [
    "x180_pulse = pulse_lib.gaussian(duration=drive_samples,\n",
    "                              amp=pi_amp, \n",
    "                              sigma=bdrive_sigma,\n",
    "                              name='x180')\n",
    "x180_pulse.draw()"
   ]
  },
  {
   "cell_type": "code",
   "execution_count": 36,
   "metadata": {},
   "outputs": [],
   "source": [
    "x90p_pulse = pulse_lib.gaussian(duration=drive_samples,\n",
    "                                amp=pi2_amp, \n",
    "                                sigma=drive_sigma,\n",
    "                                name='x90p')\n",
    "x90m_pulse = pulse_lib.gaussian(duration=drive_samples,\n",
    "                                amp=-pi2_amp, \n",
    "                                sigma=drive_sigma,\n",
    "                                name='x90m')"
   ]
  },
  {
   "cell_type": "markdown",
   "metadata": {
    "slideshow": {
     "slide_type": "subslide"
    }
   },
   "source": [
    "## What if we want to use our own calibrated x90p/m gates?\n",
    "lets start with a new instruction map"
   ]
  },
  {
   "cell_type": "code",
   "execution_count": 37,
   "metadata": {
    "slideshow": {
     "slide_type": "-"
    }
   },
   "outputs": [],
   "source": [
    "our_inst_map = copy.deepcopy(inst_map)"
   ]
  },
  {
   "cell_type": "markdown",
   "metadata": {
    "slideshow": {
     "slide_type": "subslide"
    }
   },
   "source": [
    "### and create a parameterized schedule"
   ]
  },
  {
   "cell_type": "code",
   "execution_count": 38,
   "metadata": {
    "slideshow": {
     "slide_type": "-"
    }
   },
   "outputs": [
    {
     "data": {
      "image/png": "[encoded data removed]",
      "text/plain": [
       "<Figure size 720x864 with 2 Axes>"
      ]
     },
     "execution_count": 38,
     "metadata": {},
     "output_type": "execute_result"
    }
   ],
   "source": [
    "from qiskit.pulse.schedule import ParameterizedSchedule\n",
    "\n",
    "def u3_q0_fun(P1, P2, P3):\n",
    "    schedule = pulse.Schedule()\n",
    "    schedule += pulse.FrameChange(-P3)(drive_channel)\n",
    "    schedule += x90p_pulse(drive_channel)\n",
    "    schedule += pulse.FrameChange(-P1)(drive_channel)\n",
    "    schedule += x90m_pulse(drive_channel)\n",
    "    schedule += pulse.FrameChange(-P2)(drive_channel)\n",
    "    return schedule\n",
    "\n",
    "u3_q0 = ParameterizedSchedule(u3_q0_fun, parameters=('P1', 'P2', 'P3'))\n",
    "u3_q0(np.pi, -np.pi/2, np.pi/2).draw()"
   ]
  },
  {
   "cell_type": "markdown",
   "metadata": {
    "slideshow": {
     "slide_type": "subslide"
    }
   },
   "source": [
    "### add it to our map replacing the old pulse definition"
   ]
  },
  {
   "cell_type": "code",
   "execution_count": 41,
   "metadata": {
    "slideshow": {
     "slide_type": "-"
    }
   },
   "outputs": [
    {
     "name": "stdout",
     "output_type": "stream",
     "text": [
      "True\n"
     ]
    }
   ],
   "source": [
    "our_inst_map.add('u3', (0,), u3_q0)\n",
    "print(u3_q0(np.pi, -np.pi/2, np.pi/2) == our_inst_map.get('u3', (0,), np.pi, -np.pi/2, np.pi/2))"
   ]
  },
  {
   "cell_type": "markdown",
   "metadata": {
    "slideshow": {
     "slide_type": "slide"
    }
   },
   "source": [
    "## Scheduling a circuit into a pulse schedule\n",
    "first build our circuit"
   ]
  },
  {
   "cell_type": "code",
   "execution_count": 43,
   "metadata": {
    "slideshow": {
     "slide_type": "-"
    }
   },
   "outputs": [
    {
     "data": {
      "text/html": [
       "<pre style=\"word-wrap: normal;white-space: pre;background: #fff0;line-height: 1.1;font-family: &quot;Courier New&quot;,Courier,monospace\">        ┌────────┐┌─┐\n",
       "q_0: |0>┤ Rx(pi) ├┤M├\n",
       "        └────────┘└╥┘\n",
       " c_0: 0 ═══════════╩═\n",
       "                     </pre>"
      ],
      "text/plain": [
       "        ┌────────┐┌─┐\n",
       "q_0: |0>┤ Rx(pi) ├┤M├\n",
       "        └────────┘└╥┘\n",
       " c_0: 0 ═══════════╩═\n",
       "                     "
      ]
     },
     "execution_count": 43,
     "metadata": {},
     "output_type": "execute_result"
    }
   ],
   "source": [
    "qc = qiskit.QuantumCircuit(1, 1)\n",
    "qc.rx(np.pi, 0)\n",
    "qc.measure(0, 0)\n",
    "qc.draw()"
   ]
  },
  {
   "cell_type": "markdown",
   "metadata": {
    "slideshow": {
     "slide_type": "subslide"
    }
   },
   "source": [
    "### Transpile for our device"
   ]
  },
  {
   "cell_type": "code",
   "execution_count": 44,
   "metadata": {
    "slideshow": {
     "slide_type": "-"
    }
   },
   "outputs": [
    {
     "data": {
      "text/html": [
       "<pre style=\"word-wrap: normal;white-space: pre;background: #fff0;line-height: 1.1;font-family: &quot;Courier New&quot;,Courier,monospace\">        ┌───────────────────┐┌─┐\n",
       "q_0: |0>┤ U3(pi,-pi/2,pi/2) ├┤M├\n",
       "        └───────────────────┘└╥┘\n",
       " c_0: 0 ══════════════════════╩═\n",
       "                                </pre>"
      ],
      "text/plain": [
       "        ┌───────────────────┐┌─┐\n",
       "q_0: |0>┤ U3(pi,-pi/2,pi/2) ├┤M├\n",
       "        └───────────────────┘└╥┘\n",
       " c_0: 0 ══════════════════════╩═\n",
       "                                "
      ]
     },
     "execution_count": 44,
     "metadata": {},
     "output_type": "execute_result"
    }
   ],
   "source": [
    "qc_transpiled = qiskit.transpile(qc, backend)\n",
    "qc_transpiled.draw()"
   ]
  },
  {
   "cell_type": "markdown",
   "metadata": {
    "slideshow": {
     "slide_type": "subslide"
    }
   },
   "source": [
    "### We can now schedule our circuit with our new pulse"
   ]
  },
  {
   "cell_type": "code",
   "execution_count": 45,
   "metadata": {
    "slideshow": {
     "slide_type": "-"
    }
   },
   "outputs": [
    {
     "data": {
      "image/png": "[encoded data removed]",
      "text/plain": [
       "<Figure size 720x864 with 2 Axes>"
      ]
     },
     "execution_count": 45,
     "metadata": {},
     "output_type": "execute_result"
    }
   ],
   "source": [
    "our_scheduled_qc = qiskit.schedule(qc_transpiled, backend, inst_map=our_inst_map, method='alap')\n",
    "our_scheduled_qc.draw()"
   ]
  },
  {
   "cell_type": "markdown",
   "metadata": {
    "slideshow": {
     "slide_type": "subslide"
    }
   },
   "source": [
    "### Run our circuit with our scheduled pulse"
   ]
  },
  {
   "cell_type": "code",
   "execution_count": 46,
   "metadata": {
    "slideshow": {
     "slide_type": "-"
    }
   },
   "outputs": [
    {
     "name": "stdout",
     "output_type": "stream",
     "text": [
      "5e5489a2c3e1b80018b1affb\n"
     ]
    }
   ],
   "source": [
    "our_scheduled_qc_job = qiskit.execute(our_scheduled_qc, backend, shots=shots)\n",
    "print(our_scheduled_qc_job.job_id())\n",
    "our_scheduled_qc_result = our_scheduled_qc_job.result()"
   ]
  },
  {
   "cell_type": "code",
   "execution_count": 47,
   "metadata": {
    "slideshow": {
     "slide_type": "-"
    }
   },
   "outputs": [
    {
     "name": "stdout",
     "output_type": "stream",
     "text": [
      "{'0': 14, '1': 242}\n"
     ]
    }
   ],
   "source": [
    "our_scheduled_qc_counts = our_scheduled_qc_result.get_counts(0)\n",
    "print(our_scheduled_qc_counts)"
   ]
  },
  {
   "cell_type": "code",
   "execution_count": 50,
   "metadata": {
    "slideshow": {
     "slide_type": "subslide"
    }
   },
   "outputs": [
    {
     "data": {
      "image/png": "[encoded data removed]",
      "text/plain": [
       "<Figure size 504x360 with 1 Axes>"
      ]
     },
     "execution_count": 50,
     "metadata": {},
     "output_type": "execute_result"
    }
   ],
   "source": [
    "qiskit.visualization.plot_histogram([our_scheduled_qc_counts])"
   ]
  },
  {
   "cell_type": "markdown",
   "metadata": {
    "slideshow": {
     "slide_type": "slide"
    }
   },
   "source": [
    "## What about designing a new gate in qiskit?\n",
    "\n",
    "First we build our perfect gate as a schecule"
   ]
  },
  {
   "cell_type": "code",
   "execution_count": 79,
   "metadata": {
    "slideshow": {
     "slide_type": "-"
    }
   },
   "outputs": [],
   "source": [
    "my_perfect_2q_gate_schedule = pulse.Schedule(name='my_perfect_2q_gate')\n",
    "\n",
    "random_pulse = lambda x: pulse.SamplePulse(np.random.random(max(x, 1)))\n",
    "\n",
    "def my_perfect_2q_gate_schedule_fun(x):\n",
    "    sched = pulse.Schedule()\n",
    "    sched += random_pulse(x)(pulse.DriveChannel(0))\n",
    "    sched += random_pulse(x)(pulse.ControlChannel(0))\n",
    "    sched += random_pulse(x)(pulse.DriveChannel(1))\n",
    "    return sched\n",
    "\n",
    "my_perfect_2q_gate_schedule = ParameterizedSchedule(my_perfect_2q_gate_schedule_fun, parameters=('x'))"
   ]
  },
  {
   "cell_type": "markdown",
   "metadata": {
    "slideshow": {
     "slide_type": "subslide"
    }
   },
   "source": [
    "### Add the schedule to our circuit instruction mapping"
   ]
  },
  {
   "cell_type": "code",
   "execution_count": 80,
   "metadata": {
    "slideshow": {
     "slide_type": "-"
    }
   },
   "outputs": [],
   "source": [
    "our_inst_map.add('my_perfect_2q_gate', (0, 1), my_perfect_2q_gate_schedule)"
   ]
  },
  {
   "cell_type": "markdown",
   "metadata": {
    "slideshow": {
     "slide_type": "-"
    }
   },
   "source": [
    "and create a circuit gate that we can add to a circuit setting our gate length to 100"
   ]
  },
  {
   "cell_type": "code",
   "execution_count": 81,
   "metadata": {
    "slideshow": {
     "slide_type": "-"
    }
   },
   "outputs": [],
   "source": [
    "my_perfect_2q_gate = qiskit.circuit.Gate('my_perfect_2q_gate', 2, [100])"
   ]
  },
  {
   "cell_type": "markdown",
   "metadata": {
    "slideshow": {
     "slide_type": "subslide"
    }
   },
   "source": [
    "### We then build our circuit as normal"
   ]
  },
  {
   "cell_type": "code",
   "execution_count": 82,
   "metadata": {
    "slideshow": {
     "slide_type": "-"
    }
   },
   "outputs": [
    {
     "data": {
      "text/plain": [
       "<qiskit.circuit.instructionset.InstructionSet at 0x12f21bcd0>"
      ]
     },
     "execution_count": 82,
     "metadata": {},
     "output_type": "execute_result"
    }
   ],
   "source": [
    "my_perfect_2q_circ = qiskit.QuantumCircuit(2, 2)\n",
    "my_perfect_2q_circ.h(0)\n",
    "my_perfect_2q_circ.append(my_perfect_2q_gate, [0, 1])\n",
    "my_perfect_2q_circ.h(0)\n",
    "my_perfect_2q_circ.measure(0, 0)"
   ]
  },
  {
   "cell_type": "markdown",
   "metadata": {
    "slideshow": {
     "slide_type": "-"
    }
   },
   "source": [
    "Don't forget to add it to our basis gates!"
   ]
  },
  {
   "cell_type": "code",
   "execution_count": 83,
   "metadata": {
    "slideshow": {
     "slide_type": "subslide"
    }
   },
   "outputs": [
    {
     "data": {
      "text/html": [
       "<pre style=\"word-wrap: normal;white-space: pre;background: #fff0;line-height: 1.1;font-family: &quot;Courier New&quot;,Courier,monospace\">            ┌──────────┐┌──────────────────────────┐┌──────────┐┌─┐\n",
       "q_0 -> 0 |0>┤ U2(0,pi) ├┤0                         ├┤ U2(0,pi) ├┤M├\n",
       "            └──────────┘│  My_perfect_2q_gate(100) │└──────────┘└╥┘\n",
       "q_1 -> 1 |0>────────────┤1                         ├─────────────╫─\n",
       "                        └──────────────────────────┘             ║ \n",
       "     c_0: 0 ═════════════════════════════════════════════════════╩═\n",
       "                                                                   \n",
       "     c_1: 0 ═══════════════════════════════════════════════════════\n",
       "                                                                   </pre>"
      ],
      "text/plain": [
       "            ┌──────────┐┌──────────────────────────┐┌──────────┐┌─┐\n",
       "q_0 -> 0 |0>┤ U2(0,pi) ├┤0                         ├┤ U2(0,pi) ├┤M├\n",
       "            └──────────┘│  My_perfect_2q_gate(100) │└──────────┘└╥┘\n",
       "q_1 -> 1 |0>────────────┤1                         ├─────────────╫─\n",
       "                        └──────────────────────────┘             ║ \n",
       "     c_0: 0 ═════════════════════════════════════════════════════╩═\n",
       "                                                                   \n",
       "     c_1: 0 ═══════════════════════════════════════════════════════\n",
       "                                                                   "
      ]
     },
     "execution_count": 83,
     "metadata": {},
     "output_type": "execute_result"
    }
   ],
   "source": [
    "my_perfect_2q_circ_transpiled = qiskit.transpile(my_perfect_2q_circ, coupling_map=[[0, 1]], \n",
    "                                                 basis_gates=config.basis_gates+['my_perfect_2q_gate'])\n",
    "my_perfect_2q_circ_transpiled.draw()"
   ]
  },
  {
   "cell_type": "markdown",
   "metadata": {
    "slideshow": {
     "slide_type": "subslide"
    }
   },
   "source": [
    "### We can then schedule our circuit by passing it our modified map"
   ]
  },
  {
   "cell_type": "code",
   "execution_count": 84,
   "metadata": {},
   "outputs": [],
   "source": [
    "my_perfect_2q_pulse_program = qiskit.schedule(my_perfect_2q_circ_transpiled, \n",
    "                                              inst_map=our_inst_map, \n",
    "                                              meas_map=[[0]])"
   ]
  },
  {
   "cell_type": "code",
   "execution_count": 85,
   "metadata": {
    "slideshow": {
     "slide_type": "-"
    }
   },
   "outputs": [
    {
     "data": {
      "image/png": "[encoded data removed]",
      "text/plain": [
       "<Figure size 720x864 with 2 Axes>"
      ]
     },
     "execution_count": 85,
     "metadata": {},
     "output_type": "execute_result"
    }
   ],
   "source": [
    "my_perfect_2q_pulse_program.draw(plot_range=(0, 2000))"
   ]
  }
 ],
 "metadata": {
  "celltoolbar": "Slideshow",
  "kernelspec": {
   "display_name": "Python 3",
   "language": "python",
   "name": "python3"
  },
  "language_info": {
   "codemirror_mode": {
    "name": "ipython",
    "version": 3
   },
   "file_extension": ".py",
   "mimetype": "text/x-python",
   "name": "python",
   "nbconvert_exporter": "python",
   "pygments_lexer": "ipython3",
   "version": "3.7.4"
  }
 },
 "nbformat": 4,
 "nbformat_minor": 2
}