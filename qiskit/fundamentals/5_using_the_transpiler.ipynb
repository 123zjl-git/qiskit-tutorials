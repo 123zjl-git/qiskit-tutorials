{
 "cells": [
  {
   "cell_type": "markdown",
   "metadata": {},
   "source": [
    "<img src=\"../../images/qiskit_header.png\" alt=\"Note: In order for images to show up in this jupyter notebook you need to select File => Trusted Notebook\" align=\"middle\">"
   ]
  },
  {
   "cell_type": "markdown",
   "metadata": {},
   "source": [
    "# Circuit Rewriting using the Transpiler\n",
    "\n",
    "Previously we have performed basic operations on circuits, and ran those circuits on real quantum devices using the `execute` function.  `execute` is a helper function that performs three tasks for the user:\n",
    "\n",
    "1) Circuits are rewritten to match the constraints of a given backend and optimized.\n",
    "\n",
    "2) The rewritten circuits are packaged for submission.\n",
    "\n",
    "3) The packaged circuits are submitted to the device.\n",
    "\n",
    "The first step is called transpilation, and is the fundamental step required for running circuits on real quantum devices.  The qiskit function that does this is `transpile`, which takes a single, or list of input circuits, as well as a collection of parameters, and returns a modified list of circuits.  Using this `transpile` function is the goal of this tutorial.\n",
    "\n",
    "For those wishing to bypass this in-depth discussion of what happens during the transpilation process, we note that the standard way of calling the `transpile` function is:\n",
    "\n",
    "```python\n",
    "new_circuits = transpile(circuits, backend, optimization_level=1)\n",
    "```\n",
    "\n",
    "where `circuits` is a single or list of input circuits, `backend` is the target device, and `optimization_level` selects between four different `[0,1,2,3]` preset methods of circuit rewriting and optimization.  By default, `optimization_level=1`."
   ]
  },
  {
   "cell_type": "markdown",
   "metadata": {
    "ExecuteTime": {
     "end_time": "2019-08-09T14:50:04.434271Z",
     "start_time": "2019-08-09T14:50:04.429464Z"
    }
   },
   "source": [
    "# Table of contents\n",
    "\n",
    "1) [Introduction](#introduction)\n",
    "\n",
    "\n",
    "2) [Basis Gates](#basis)\n",
    "\n",
    "\n",
    "3) [Initial Layout](#layout)\n",
    "\n",
    "\n",
    "4) [Mapping Circuits to Hardware](#mapping)\n",
    "\n",
    "\n",
    "5) [Optimizing Gates](#optimizing)\n",
    "\n",
    "\n",
    "6) [User Defined Topologies](#topology)\n",
    "\n",
    "\n",
    "7) [Passing Transpiled Circuits to Devices](#passing)"
   ]
  },
  {
   "cell_type": "code",
   "execution_count": 1,
   "metadata": {
    "ExecuteTime": {
     "end_time": "2019-09-29T10:06:24.460306Z",
     "start_time": "2019-09-29T10:06:19.971627Z"
    }
   },
   "outputs": [],
   "source": [
    "import numpy as np\n",
    "from qiskit import *\n",
    "from qiskit.visualization import plot_histogram, plot_gate_map, plot_circuit_layout\n",
    "from qiskit.tools.monitor import job_monitor\n",
    "import matplotlib.pyplot as plt\n",
    "%matplotlib inline"
   ]
  },
  {
   "cell_type": "code",
   "execution_count": 2,
   "metadata": {
    "ExecuteTime": {
     "end_time": "2019-09-29T10:06:27.026554Z",
     "start_time": "2019-09-29T10:06:24.461827Z"
    }
   },
   "outputs": [],
   "source": [
    "IBMQ.load_account()\n",
    "provider = IBMQ.get_provider(group='open')"
   ]
  },
  {
   "cell_type": "markdown",
   "metadata": {},
   "source": [
    "## Introduction <a name='introduction'></a>\n",
    "\n",
    "Consider the following circuit that creates a five-qubit GHZ state:"
   ]
  },
  {
   "cell_type": "code",
   "execution_count": 3,
   "metadata": {
    "ExecuteTime": {
     "end_time": "2019-09-29T10:06:27.048640Z",
     "start_time": "2019-09-29T10:06:27.028585Z"
    }
   },
   "outputs": [
    {
     "data": {
      "text/html": [
       "<pre style=\"word-wrap: normal;white-space: pre;background: #fff0;line-height: 1.1;font-family: &quot;Courier New&quot;,Courier,monospace\">        ┌───┐                     ░ ┌─┐            \n",
       "q_0: |0>┤ H ├──■────■────■────■───░─┤M├────────────\n",
       "        └───┘┌─┴─┐  │    │    │   ░ └╥┘┌─┐         \n",
       "q_1: |0>─────┤ X ├──┼────┼────┼───░──╫─┤M├─────────\n",
       "             └───┘┌─┴─┐  │    │   ░  ║ └╥┘┌─┐      \n",
       "q_2: |0>──────────┤ X ├──┼────┼───░──╫──╫─┤M├──────\n",
       "                  └───┘┌─┴─┐  │   ░  ║  ║ └╥┘┌─┐   \n",
       "q_3: |0>───────────────┤ X ├──┼───░──╫──╫──╫─┤M├───\n",
       "                       └───┘┌─┴─┐ ░  ║  ║  ║ └╥┘┌─┐\n",
       "q_4: |0>────────────────────┤ X ├─░──╫──╫──╫──╫─┤M├\n",
       "                            └───┘ ░  ║  ║  ║  ║ └╥┘\n",
       " c_0: 0 ═════════════════════════════╩══╬══╬══╬══╬═\n",
       "                                        ║  ║  ║  ║ \n",
       " c_1: 0 ════════════════════════════════╩══╬══╬══╬═\n",
       "                                           ║  ║  ║ \n",
       " c_2: 0 ═══════════════════════════════════╩══╬══╬═\n",
       "                                              ║  ║ \n",
       " c_3: 0 ══════════════════════════════════════╩══╬═\n",
       "                                                 ║ \n",
       " c_4: 0 ═════════════════════════════════════════╩═\n",
       "                                                   </pre>"
      ],
      "text/plain": [
       "<qiskit.visualization.text.TextDrawing at 0x1a1dfbe4d0>"
      ]
     },
     "execution_count": 3,
     "metadata": {},
     "output_type": "execute_result"
    }
   ],
   "source": [
    "ghz = QuantumCircuit(5, 5)\n",
    "ghz.h(0)\n",
    "for idx in range(1,5):\n",
    "    ghz.cx(0,idx)\n",
    "ghz.barrier(range(5))\n",
    "ghz.measure(range(5), range(5))\n",
    "ghz.draw()"
   ]
  },
  {
   "cell_type": "markdown",
   "metadata": {},
   "source": [
    "We would like to take this circuit and run it on an IBM Q quantum device.  However, in its original form, this circuit cannot be run.  This circuit, as is the case with most circuits, must undergo a series of transformations that make it compatible with a given target device, and optimize it to reduce the effects of noise on the resulting outcomes.\n",
    "\n",
    "As we will see, rewriting quantum circuits to match hardware constraints and optimize for performance can be far from trivial.  The flow of logic in the rewriting tool chain need not be linear, and can often have iterative sub-loops, conditional branches, and other complex behaviors.  That being said, the basic building blocks follow the structure given below."
   ]
  },
  {
   "cell_type": "markdown",
   "metadata": {
    "ExecuteTime": {
     "end_time": "2019-08-06T09:28:13.270334Z",
     "start_time": "2019-08-06T09:28:13.266618Z"
    }
   },
   "source": [
    "<img src=\"images/transpiling_core_steps.png\" style=\"width=auto;\"/>"
   ]
  },
  {
   "cell_type": "markdown",
   "metadata": {},
   "source": [
    "In what follows we highlight the key steps in this workflow, and show how they modifey circuits based on the value of keyword arguments passed to the `transpile` function.  The `transpile` function has many input arguments:\n"
   ]
  },
  {
   "cell_type": "code",
   "execution_count": 4,
   "metadata": {
    "ExecuteTime": {
     "end_time": "2019-09-29T10:06:27.055194Z",
     "start_time": "2019-09-29T10:06:27.050741Z"
    }
   },
   "outputs": [
    {
     "data": {
      "text/plain": [
       "<Signature (circuits, backend=None, basis_gates=None, coupling_map=None, backend_properties=None, initial_layout=None, seed_transpiler=None, optimization_level=None, pass_manager=None, callback=None, output_name=None)>"
      ]
     },
     "execution_count": 4,
     "metadata": {},
     "output_type": "execute_result"
    }
   ],
   "source": [
    "import inspect\n",
    "inspect.signature(transpile)"
   ]
  },
  {
   "cell_type": "markdown",
   "metadata": {},
   "source": [
    "Here we focus only on the most important ones: `basis_gates`, `initial_layout` `optimization_level` and `coupling_map'`."
   ]
  },
  {
   "cell_type": "markdown",
   "metadata": {},
   "source": [
    "## Basis Gates <a name='basis'></a>\n",
    "\n",
    "When writing a quantum circuit you are free to use any quantum gate (unitary operator) that you like, along with a collection of non-gate operations such as qubit measurements and reset operations.  However, when running a circuit on a real quantum device one no longer has this flexibility.  Due to limitations in, for example, the physical interactions between qubits, difficulty in implementing multi-qubit gates, control electronics etc, a quantum computing device can only natively support a handful of quantum gates and non-gate operations. In the present case of IBM Q devices, the native gate set can be found by querying the devices themselves, and looking for the corresponding attribute in their configuration:"
   ]
  },
  {
   "cell_type": "code",
   "execution_count": 5,
   "metadata": {
    "ExecuteTime": {
     "end_time": "2019-09-29T10:06:27.641421Z",
     "start_time": "2019-09-29T10:06:27.056972Z"
    }
   },
   "outputs": [
    {
     "data": {
      "text/plain": [
       "[<IBMQBackend('ibmqx2') from IBMQ(hub='ibm-q', group='open', project='main')>,\n",
       " <IBMQBackend('ibmq_16_melbourne') from IBMQ(hub='ibm-q', group='open', project='main')>,\n",
       " <IBMQBackend('ibmq_vigo') from IBMQ(hub='ibm-q', group='open', project='main')>,\n",
       " <IBMQBackend('ibmq_ourense') from IBMQ(hub='ibm-q', group='open', project='main')>]"
      ]
     },
     "execution_count": 5,
     "metadata": {},
     "output_type": "execute_result"
    }
   ],
   "source": [
    "provider = IBMQ.get_provider(group='open')\n",
    "provider.backends(simulator=False)"
   ]
  },
  {
   "cell_type": "code",
   "execution_count": 6,
   "metadata": {
    "ExecuteTime": {
     "end_time": "2019-09-29T10:06:27.647618Z",
     "start_time": "2019-09-29T10:06:27.642852Z"
    }
   },
   "outputs": [
    {
     "data": {
      "text/plain": [
       "['u1', 'u2', 'u3', 'cx', 'id']"
      ]
     },
     "execution_count": 6,
     "metadata": {},
     "output_type": "execute_result"
    }
   ],
   "source": [
    "backend = provider.get_backend('ibmqx2')\n",
    "backend.configuration().basis_gates"
   ]
  },
  {
   "cell_type": "markdown",
   "metadata": {
    "ExecuteTime": {
     "end_time": "2019-08-05T18:44:17.399097Z",
     "start_time": "2019-08-05T18:44:17.383113Z"
    }
   },
   "source": [
    "We see that the `ibmqx4` device supports five native gates: three single-qubit gates (`u1`, `u2`, `u3`, and `id`) and one two-qubit entangling gate `cx`.  In addition, the device supports qubit measurements (otherwise we can not read out an answer!).  Although we have queried only a single device, all IBM Q devices support this gate set.\n",
    "\n",
    "The `u*` gates represent arbitrary single-qubit rotations of one, two, and three angles.  The `u1` gates are single-parameter rotations that represent generalized phase gates of the form\n",
    "\n",
    "$$\n",
    "U_{1}(\\lambda) = \\begin{bmatrix}\n",
    "1 & 0 \\\\\n",
    "0 & e^{i\\lambda}\n",
    "\\end{bmatrix}\n",
    "$$\n",
    "\n",
    "This set includes common gates such as $Z$, $T$, $T^{\\dagger}$, $S$, and $S^{\\dagger}$.  It turns out that these gates do not actually need to be performed on hardware, but instead, can be implemented in software as \"virtual gates\".  These virtual gates are called \"frame changes\" and take zero time, and have no associated error; they are free gates on hardware.\n",
    "\n",
    "Two-angle rotations, $U_{2}(\\phi,\\lambda)$, are actually two frame changes with a single $X_{\\pi/2}$ gate in between them, and can be used to synthesize gates like the Hadamard ($U_{2}(0,\\pi)$) gate.  As the only actual gate performed is the $X_{\\pi/2}$ gate, the error and gate time associated with any $U_{2}$ gate is the same as an $X_{\\pi/2}$ gate.  Similarly, $U_{3}(\\theta,\\phi,\\lambda)$ gates are formed from three frame changes with two $X_{\\pi/2}$ gates in between them.  The errors and gate times are twice those of a single $X_{\\pi/2}$.  The identity gate, $id$, is straightforward, and is a placeholder gate with a fixed time-interval. \n",
    "\n",
    "The only entangling gate supported by the IBM Q devices is the CNOT gate (`cx`) that, in the computational basis, can be written as:\n",
    "\n",
    "$$\n",
    "\\mathrm{CNOT}(0,1) = \\begin{bmatrix}\n",
    "1 & 0 & 0 & 0 \\\\\n",
    "0 & 0 & 0 & 1 \\\\\n",
    "0 & 0 & 1 & 0 \\\\\n",
    "0 & 1 & 0 & 0\n",
    "\\end{bmatrix}\n",
    "$$,\n",
    "\n",
    "where we see that the matrix form follows from the specific bit-ordering convention used in Qiskit."
   ]
  },
  {
   "cell_type": "markdown",
   "metadata": {},
   "source": [
    "Every quantum circuit run on a IBM Q device must be expressed using only these basis gates.  For example, suppose one wants to run a simple phase estimation circuit:"
   ]
  },
  {
   "cell_type": "code",
   "execution_count": 7,
   "metadata": {
    "ExecuteTime": {
     "end_time": "2019-09-29T10:06:27.660755Z",
     "start_time": "2019-09-29T10:06:27.649342Z"
    }
   },
   "outputs": [
    {
     "data": {
      "text/html": [
       "<pre style=\"word-wrap: normal;white-space: pre;background: #fff0;line-height: 1.1;font-family: &quot;Courier New&quot;,Courier,monospace\">        ┌───┐       ┌───┐┌─┐\n",
       "q_0: |0>┤ H ├─■─────┤ H ├┤M├\n",
       "        ├───┤ │pi/4 └───┘└╥┘\n",
       "q_1: |0>┤ X ├─■───────────╫─\n",
       "        └───┘             ║ \n",
       " c_0: 0 ══════════════════╩═\n",
       "                            </pre>"
      ],
      "text/plain": [
       "<qiskit.visualization.text.TextDrawing at 0x1a200f2f50>"
      ]
     },
     "execution_count": 7,
     "metadata": {},
     "output_type": "execute_result"
    }
   ],
   "source": [
    "qc = QuantumCircuit(2, 1)\n",
    "\n",
    "qc.h(0)\n",
    "qc.x(1)\n",
    "qc.cu1(np.pi/4, 0, 1)\n",
    "qc.h(0)\n",
    "qc.measure([0], [0])\n",
    "qc.draw()"
   ]
  },
  {
   "cell_type": "markdown",
   "metadata": {},
   "source": [
    "We have $H$, $X$, and controlled-$U_{1}$ gates, all of which are not in our devices basis gate set, and must be expanded.  This expansion is taken care of for us in the `execute` function.  However, we can decompose the circuit to show what it would look like in the native gate set of the IBM Q devices"
   ]
  },
  {
   "cell_type": "code",
   "execution_count": 8,
   "metadata": {
    "ExecuteTime": {
     "end_time": "2019-09-29T10:06:27.676199Z",
     "start_time": "2019-09-29T10:06:27.664210Z"
    }
   },
   "outputs": [
    {
     "data": {
      "text/html": [
       "<pre style=\"word-wrap: normal;white-space: pre;background: #fff0;line-height: 1.1;font-family: &quot;Courier New&quot;,Courier,monospace\">          ┌──────────┐ ┌──────────┐                       ┌──────────┐┌─┐\n",
       "q_0: |0>──┤ U2(0,pi) ├─┤ U1(pi/8) ├──■─────────────────■──┤ U2(0,pi) ├┤M├\n",
       "        ┌─┴──────────┴┐└──────────┘┌─┴─┐┌───────────┐┌─┴─┐├──────────┤└╥┘\n",
       "q_1: |0>┤ U3(pi,0,pi) ├────────────┤ X ├┤ U1(-pi/8) ├┤ X ├┤ U1(pi/8) ├─╫─\n",
       "        └─────────────┘            └───┘└───────────┘└───┘└──────────┘ ║ \n",
       " c_0: 0 ═══════════════════════════════════════════════════════════════╩═\n",
       "                                                                         </pre>"
      ],
      "text/plain": [
       "<qiskit.visualization.text.TextDrawing at 0x10b161d90>"
      ]
     },
     "execution_count": 8,
     "metadata": {},
     "output_type": "execute_result"
    }
   ],
   "source": [
    "qc_basis = qc.decompose()\n",
    "qc_basis.draw()"
   ]
  },
  {
   "cell_type": "markdown",
   "metadata": {},
   "source": [
    "A few things to highlight.  One, as mentioned in [Part 4: Quantum Circuit Properties](4_quantum_circuit_properties.ipynb), the circuit has gotten longer with respect to the initial one.  This can be verified by checking the depth of the circuits:"
   ]
  },
  {
   "cell_type": "code",
   "execution_count": 9,
   "metadata": {
    "ExecuteTime": {
     "end_time": "2019-09-29T10:06:27.682686Z",
     "start_time": "2019-09-29T10:06:27.678196Z"
    }
   },
   "outputs": [
    {
     "name": "stdout",
     "output_type": "stream",
     "text": [
      "4 , 7\n"
     ]
    }
   ],
   "source": [
    "print(qc.depth(), ',', qc_basis.depth())"
   ]
  },
  {
   "cell_type": "markdown",
   "metadata": {},
   "source": [
    "Second, although we had a single controlled gate, the fact that it was not in the basis set means that, when expanded, it requires more than a single `cx` gate to implement. All said, unrolling to the basis set of gates leads to an increase in the depth of a quantum circuit and the number of gates.  It is important to highlight two special cases."
   ]
  },
  {
   "cell_type": "markdown",
   "metadata": {},
   "source": [
    "### SWAP Gate Decomposition\n",
    "\n",
    "A SWAP gate is not a native gate on the IBM Q devices, and must be decomposed into three CNOT gates:"
   ]
  },
  {
   "cell_type": "code",
   "execution_count": 10,
   "metadata": {
    "ExecuteTime": {
     "end_time": "2019-09-29T10:06:27.693624Z",
     "start_time": "2019-09-29T10:06:27.684643Z"
    }
   },
   "outputs": [
    {
     "data": {
      "text/html": [
       "<pre style=\"word-wrap: normal;white-space: pre;background: #fff0;line-height: 1.1;font-family: &quot;Courier New&quot;,Courier,monospace\">             ┌───┐     \n",
       "q_0: |0>──■──┤ X ├──■──\n",
       "        ┌─┴─┐└─┬─┘┌─┴─┐\n",
       "q_1: |0>┤ X ├──■──┤ X ├\n",
       "        └───┘     └───┘</pre>"
      ],
      "text/plain": [
       "<qiskit.visualization.text.TextDrawing at 0x1a2014afd0>"
      ]
     },
     "execution_count": 10,
     "metadata": {},
     "output_type": "execute_result"
    }
   ],
   "source": [
    "swap_circ = QuantumCircuit(2)\n",
    "swap_circ.swap(0, 1)\n",
    "swap_circ.decompose().draw()"
   ]
  },
  {
   "cell_type": "markdown",
   "metadata": {},
   "source": [
    "As a product of three CNOT gates, SWAP gates are expensive operations to perform on a noisy quantum devices.  However, such operations are usually necessary for embedding a circuit into the limited entangling gate connectivities of actual devices.  Thus, minimizing the number of SWAP gates in a circuit is a primary goal in the transpilation process."
   ]
  },
  {
   "cell_type": "markdown",
   "metadata": {},
   "source": [
    "### Toffoli Gate Decomposition\n",
    "\n",
    "A Toffoli, or controlled-controlled-not gate is a three qubit gate.  Given that our basis gate set includes only single- and two-qubit gates, it is obvious that this gate must be decomposed.  This decomposition is quite costly."
   ]
  },
  {
   "cell_type": "code",
   "execution_count": 11,
   "metadata": {
    "ExecuteTime": {
     "end_time": "2019-09-29T10:06:27.708838Z",
     "start_time": "2019-09-29T10:06:27.695454Z"
    }
   },
   "outputs": [
    {
     "data": {
      "text/html": [
       "<pre style=\"word-wrap: normal;white-space: pre;background: #fff0;line-height: 1.1;font-family: &quot;Courier New&quot;,Courier,monospace\">                                                          ┌───┐      \n",
       "q_0: |0>───────────────────■─────────────────────■────■───┤ T ├───■──\n",
       "                           │             ┌───┐   │  ┌─┴─┐┌┴───┴┐┌─┴─┐\n",
       "q_1: |0>───────■───────────┼─────────■───┤ T ├───┼──┤ X ├┤ Tdg ├┤ X ├\n",
       "        ┌───┐┌─┴─┐┌─────┐┌─┴─┐┌───┐┌─┴─┐┌┴───┴┐┌─┴─┐├───┤└┬───┬┘└───┘\n",
       "q_2: |0>┤ H ├┤ X ├┤ Tdg ├┤ X ├┤ T ├┤ X ├┤ Tdg ├┤ X ├┤ T ├─┤ H ├──────\n",
       "        └───┘└───┘└─────┘└───┘└───┘└───┘└─────┘└───┘└───┘ └───┘      </pre>"
      ],
      "text/plain": [
       "<qiskit.visualization.text.TextDrawing at 0x1a200bb950>"
      ]
     },
     "execution_count": 11,
     "metadata": {},
     "output_type": "execute_result"
    }
   ],
   "source": [
    "ccx_circ = QuantumCircuit(3)\n",
    "ccx_circ.ccx(0, 1, 2)\n",
    "ccx_circ.decompose().draw()"
   ]
  },
  {
   "cell_type": "markdown",
   "metadata": {},
   "source": [
    "For every Toffoli gate in a quantum circuit, the IBM Q hardware may execute up to six CNOT gates, and a handful of single-qubit gates.  From this example, it should be clear that any algorithm that makes use of multiple Toffoli gates will end up as a circuit with large depth and with therefore be appreciably affected by noise and gate errors."
   ]
  },
  {
   "cell_type": "markdown",
   "metadata": {},
   "source": [
    "## Initial Layout <a name='layout'></a>\n",
    "\n",
    "Quantum circuits are abstract entities whose qubits are \"virtual\" representations of actual qubits used in computations.  We need to be able to map these virtual qubits in a one-to-one manner to the \"physical\" qubits in an actual quantum device."
   ]
  },
  {
   "cell_type": "markdown",
   "metadata": {},
   "source": [
    "<img src=\"images/mapping.png\" style=\"width=auto;\">"
   ]
  },
  {
   "cell_type": "markdown",
   "metadata": {},
   "source": [
    "By default, qiskit will do this mapping for you.  The choice of mapping depends on the properties of the circuit, the particular device you are targeting, and the optimization level that is chosen.  The basic mapping strategies are the following:\n",
    "\n",
    "- **Trivial layout**: Map virtual qubits to the same numbered physical qubit on the device, i.e. `[0,1,2,3,4]` -> `[0,1,2,3,4]` (default in `optimization_level=0`).\n",
    "\n",
    "\n",
    "- **Dense layout**: Find the sub-graph of the device with same number of qubits as the circuit with the greatest connectivity (default in `optimization_level=1`).\n",
    "\n",
    "\n",
    "- **Noise adaptive layout**: Uses the noise properties of the device, in concert with the circuit properties, to generate the layout with the best noise properties (default in `optimization_level=2` and `optimization_level=3`).\n",
    "\n",
    "The choice of initial layout is extremely important when:\n",
    "\n",
    "1) Computing the number of SWAP operations needed to map the input circuit onto the device topology.\n",
    "\n",
    "2) Taking into account the noise properties of the device.\n",
    "\n",
    "As we will see, the choice of `initial_layout` can mean the difference between getting a result, and getting nothing but noise.\n",
    "\n",
    "To begin, lets see what layouts are automatically picked at various optimization levels.  The modified circuits returned by `transpile` have this initial layout information in them, and we can view this layout selection graphically using `plot_circuit_layout`.  Let us pick the `ibmq_16_melbourne` device:"
   ]
  },
  {
   "cell_type": "code",
   "execution_count": 12,
   "metadata": {
    "ExecuteTime": {
     "end_time": "2019-09-29T10:06:27.885298Z",
     "start_time": "2019-09-29T10:06:27.710410Z"
    }
   },
   "outputs": [
    {
     "data": {
      "image/png": "[encoded data removed]",
      "text/plain": [
       "<Figure size 648x216 with 1 Axes>"
      ]
     },
     "execution_count": 12,
     "metadata": {},
     "output_type": "execute_result"
    }
   ],
   "source": [
    "backend = provider.get_backend('ibmq_16_melbourne')\n",
    "plot_gate_map(backend, plot_directed=True)"
   ]
  },
  {
   "cell_type": "markdown",
   "metadata": {},
   "source": [
    "### Layout using `optimization_level=0`"
   ]
  },
  {
   "cell_type": "code",
   "execution_count": 13,
   "metadata": {
    "ExecuteTime": {
     "end_time": "2019-09-29T10:06:28.606700Z",
     "start_time": "2019-09-29T10:06:27.886935Z"
    }
   },
   "outputs": [
    {
     "data": {
      "image/png": "[encoded data removed]",
      "text/plain": [
       "<Figure size 648x216 with 1 Axes>"
      ]
     },
     "execution_count": 13,
     "metadata": {},
     "output_type": "execute_result"
    }
   ],
   "source": [
    "backend = provider.get_backend('ibmq_16_melbourne')\n",
    "new_circ_lv0 = transpile(ghz, backend=backend, optimization_level=0)\n",
    "\n",
    "plot_circuit_layout(new_circ_lv0, backend)"
   ]
  },
  {
   "cell_type": "markdown",
   "metadata": {},
   "source": [
    "### Layout using `optimization_level=3`"
   ]
  },
  {
   "cell_type": "code",
   "execution_count": 14,
   "metadata": {
    "ExecuteTime": {
     "end_time": "2019-09-29T10:06:28.862709Z",
     "start_time": "2019-09-29T10:06:28.608692Z"
    }
   },
   "outputs": [
    {
     "name": "stdout",
     "output_type": "stream",
     "text": [
      "Depth: 13\n"
     ]
    },
    {
     "data": {
      "image/png": "[encoded data removed]",
      "text/plain": [
       "<Figure size 648x216 with 1 Axes>"
      ]
     },
     "execution_count": 14,
     "metadata": {},
     "output_type": "execute_result"
    }
   ],
   "source": [
    "from qiskit.visualization import plot_circuit_layout\n",
    "\n",
    "backend = provider.get_backend('ibmq_16_melbourne')\n",
    "new_circ_lv3 = transpile(ghz, backend=backend, optimization_level=3)\n",
    "\n",
    "print('Depth:', new_circ_lv3.depth())\n",
    "plot_circuit_layout(new_circ_lv3, backend)"
   ]
  },
  {
   "cell_type": "markdown",
   "metadata": {},
   "source": [
    "Let us now execute this level 3 circuit, and get the counts.  Note that the circuit has already been rewritten to match the target backend.  Therefore, the circuit will go unmodified by `execute` and be directly packaged and sent to the device."
   ]
  },
  {
   "cell_type": "code",
   "execution_count": 15,
   "metadata": {
    "ExecuteTime": {
     "end_time": "2019-09-29T10:27:25.109300Z",
     "start_time": "2019-09-29T10:06:28.864859Z"
    }
   },
   "outputs": [
    {
     "name": "stdout",
     "output_type": "stream",
     "text": [
      "Job Status: job has successfully run\n"
     ]
    }
   ],
   "source": [
    "job1 = execute(new_circ_lv3, backend)\n",
    "job_monitor(job1)"
   ]
  },
  {
   "cell_type": "markdown",
   "metadata": {},
   "source": [
    "### Specifying an Initial Layout\n",
    "\n",
    "It is completely possible to specify your own initial layout.  To do so we can pass a list of integers to `transpile` via the `initial_layout` keyword argument, where the index labels the virtual qubit in the circuit and the corresponding value is the label for the physical qubit to map onto.  For example, lets map our GHZ circuit onto `ibmq_16_melbourne` in two different ways results:"
   ]
  },
  {
   "cell_type": "markdown",
   "metadata": {},
   "source": [
    "#### Good choice"
   ]
  },
  {
   "cell_type": "code",
   "execution_count": 16,
   "metadata": {
    "ExecuteTime": {
     "end_time": "2019-09-29T10:27:25.289964Z",
     "start_time": "2019-09-29T10:27:25.111962Z"
    }
   },
   "outputs": [
    {
     "name": "stdout",
     "output_type": "stream",
     "text": [
      "Depth: 13\n"
     ]
    },
    {
     "data": {
      "image/png": "[encoded data removed]",
      "text/plain": [
       "<Figure size 648x216 with 1 Axes>"
      ]
     },
     "execution_count": 16,
     "metadata": {},
     "output_type": "execute_result"
    }
   ],
   "source": [
    "# Virtual -> physical\n",
    "#    0    ->    11\n",
    "#    1    ->    12\n",
    "#    2    ->    10\n",
    "#    3    ->    2\n",
    "#    4    ->    4\n",
    "\n",
    "good_ghz = transpile(ghz, backend, initial_layout=[11,12,10,2,4])\n",
    "print('Depth:', good_ghz.depth())\n",
    "plot_circuit_layout(good_ghz, backend)"
   ]
  },
  {
   "cell_type": "code",
   "execution_count": 17,
   "metadata": {
    "ExecuteTime": {
     "end_time": "2019-09-29T10:29:07.199070Z",
     "start_time": "2019-09-29T10:27:25.291545Z"
    }
   },
   "outputs": [
    {
     "name": "stdout",
     "output_type": "stream",
     "text": [
      "Job Status: job has successfully run\n"
     ]
    }
   ],
   "source": [
    "job2 = execute(good_ghz, backend)\n",
    "job_monitor(job2)"
   ]
  },
  {
   "cell_type": "markdown",
   "metadata": {},
   "source": [
    "#### Bad choice"
   ]
  },
  {
   "cell_type": "code",
   "execution_count": 18,
   "metadata": {
    "ExecuteTime": {
     "end_time": "2019-09-29T10:29:07.526047Z",
     "start_time": "2019-09-29T10:29:07.200991Z"
    }
   },
   "outputs": [
    {
     "name": "stdout",
     "output_type": "stream",
     "text": [
      "Depth: 39\n"
     ]
    },
    {
     "data": {
      "image/png": "[encoded data removed]",
      "text/plain": [
       "<Figure size 648x216 with 1 Axes>"
      ]
     },
     "execution_count": 18,
     "metadata": {},
     "output_type": "execute_result"
    }
   ],
   "source": [
    "# Virtual -> physical\n",
    "#    0    ->    0\n",
    "#    1    ->    6\n",
    "#    2    ->    10\n",
    "#    3    ->    13\n",
    "#    4    ->    7\n",
    "\n",
    "bad_ghz = transpile(ghz, backend, initial_layout=[0,6,10,13,7])\n",
    "print('Depth:', bad_ghz.depth())\n",
    "plot_circuit_layout(bad_ghz, backend)"
   ]
  },
  {
   "cell_type": "code",
   "execution_count": 19,
   "metadata": {
    "ExecuteTime": {
     "end_time": "2019-09-29T10:30:49.031971Z",
     "start_time": "2019-09-29T10:29:07.528299Z"
    }
   },
   "outputs": [
    {
     "name": "stdout",
     "output_type": "stream",
     "text": [
      "Job Status: job has successfully run\n"
     ]
    }
   ],
   "source": [
    "job3 = execute(bad_ghz, backend)\n",
    "job_monitor(job3)"
   ]
  },
  {
   "cell_type": "code",
   "execution_count": 20,
   "metadata": {
    "ExecuteTime": {
     "end_time": "2019-09-29T10:30:51.343200Z",
     "start_time": "2019-09-29T10:30:49.034421Z"
    }
   },
   "outputs": [],
   "source": [
    "counts1 = job1.result().get_counts()\n",
    "counts2 = job2.result().get_counts()\n",
    "counts3 = job3.result().get_counts()"
   ]
  },
  {
   "cell_type": "code",
   "execution_count": 21,
   "metadata": {
    "ExecuteTime": {
     "end_time": "2019-09-29T10:30:51.926280Z",
     "start_time": "2019-09-29T10:30:51.344784Z"
    }
   },
   "outputs": [
    {
     "data": {
      "image/png": "[encoded data removed]",
      "text/plain": [
       "<Figure size 1080x432 with 1 Axes>"
      ]
     },
     "execution_count": 21,
     "metadata": {},
     "output_type": "execute_result"
    }
   ],
   "source": [
    "plot_histogram([counts1, counts2, counts3],\n",
    "               figsize=(15,6),\n",
    "               legend=['level3', 'good', 'bad'])"
   ]
  },
  {
   "cell_type": "markdown",
   "metadata": {},
   "source": [
    "From the figure it is clear that the choice of initial layout is an extremely important step, and can mean the difference between a good answer and one dominated by noise.  Although the 'good' circuit has a smaller depth, the level 3 circuit generated results are are more in line with the expected answer.  This is because our manual layout selection did not take into account the noise properties of the device.  Noise affects each qubit differently, and qubit measurement errors can also corrupt the answer.  The noise adaptive layout in `optimization_level=2` and `optimization_level=3` takes this into account, and the benefits are obvious."
   ]
  },
  {
   "cell_type": "markdown",
   "metadata": {},
   "source": [
    "### Being a bit Smarter\n",
    "\n",
    "Picking a good `initial_layout` is critical, but it is not the only step in optimizing a circuit on a quantum device.  Often it is beneficial to rewrite a circuit, with the goal of targeting a specific device.  Our GHZ circuit can be perfectly mapped to the `ibmq_16_melbourne` device provided that we reformulate the gate sequence as:"
   ]
  },
  {
   "cell_type": "code",
   "execution_count": 22,
   "metadata": {
    "ExecuteTime": {
     "end_time": "2019-09-29T10:30:51.940305Z",
     "start_time": "2019-09-29T10:30:51.928182Z"
    }
   },
   "outputs": [
    {
     "data": {
      "text/html": [
       "<pre style=\"word-wrap: normal;white-space: pre;background: #fff0;line-height: 1.1;font-family: &quot;Courier New&quot;,Courier,monospace\">                  ┌───┐      ░ ┌─┐            \n",
       "q_0: |0>──────────┤ X ├──────░─┤M├────────────\n",
       "             ┌───┐└─┬─┘      ░ └╥┘┌─┐         \n",
       "q_1: |0>─────┤ X ├──■────────░──╫─┤M├─────────\n",
       "        ┌───┐└─┬─┘           ░  ║ └╥┘┌─┐      \n",
       "q_2: |0>┤ H ├──■────■────────░──╫──╫─┤M├──────\n",
       "        └───┘     ┌─┴─┐      ░  ║  ║ └╥┘┌─┐   \n",
       "q_3: |0>──────────┤ X ├──■───░──╫──╫──╫─┤M├───\n",
       "                  └───┘┌─┴─┐ ░  ║  ║  ║ └╥┘┌─┐\n",
       "q_4: |0>───────────────┤ X ├─░──╫──╫──╫──╫─┤M├\n",
       "                       └───┘ ░  ║  ║  ║  ║ └╥┘\n",
       " c_0: 0 ════════════════════════╩══╬══╬══╬══╬═\n",
       "                                   ║  ║  ║  ║ \n",
       " c_1: 0 ═══════════════════════════╩══╬══╬══╬═\n",
       "                                      ║  ║  ║ \n",
       " c_2: 0 ══════════════════════════════╩══╬══╬═\n",
       "                                         ║  ║ \n",
       " c_3: 0 ═════════════════════════════════╩══╬═\n",
       "                                            ║ \n",
       " c_4: 0 ════════════════════════════════════╩═\n",
       "                                              </pre>"
      ],
      "text/plain": [
       "<qiskit.visualization.text.TextDrawing at 0x1a216c39d0>"
      ]
     },
     "execution_count": 22,
     "metadata": {},
     "output_type": "execute_result"
    }
   ],
   "source": [
    "ghz2 = QuantumCircuit(5, 5)\n",
    "ghz2.h(2)\n",
    "ghz2.cx(2, 1)\n",
    "ghz2.cx(1, 0)\n",
    "ghz2.cx(2, 3)\n",
    "ghz2.cx(3, 4)\n",
    "ghz2.barrier(range(5))\n",
    "ghz2.measure(range(5), range(5))\n",
    "ghz2.draw()"
   ]
  },
  {
   "cell_type": "markdown",
   "metadata": {},
   "source": [
    "This circuit can now be mapped exactly onto the device topology using `initial_layout=[10,4,5,6,8]`.  This can be verified by once again computing the depth."
   ]
  },
  {
   "cell_type": "code",
   "execution_count": 23,
   "metadata": {
    "ExecuteTime": {
     "end_time": "2019-09-29T10:30:52.020598Z",
     "start_time": "2019-09-29T10:30:51.944588Z"
    }
   },
   "outputs": [
    {
     "name": "stdout",
     "output_type": "stream",
     "text": [
      "Depth: 5\n"
     ]
    },
    {
     "data": {
      "image/png": "[encoded data removed]",
      "text/plain": [
       "<Figure size 648x216 with 1 Axes>"
      ]
     },
     "execution_count": 23,
     "metadata": {},
     "output_type": "execute_result"
    }
   ],
   "source": [
    "exact_ghz = transpile(ghz2, backend, initial_layout=[10,4,5,6,8])\n",
    "print('Depth:', exact_ghz.depth())\n",
    "plot_circuit_layout(exact_ghz, backend)"
   ]
  },
  {
   "cell_type": "code",
   "execution_count": 24,
   "metadata": {
    "ExecuteTime": {
     "end_time": "2019-09-29T10:32:26.693705Z",
     "start_time": "2019-09-29T10:30:52.023829Z"
    }
   },
   "outputs": [
    {
     "name": "stdout",
     "output_type": "stream",
     "text": [
      "Job Status: job has successfully run\n"
     ]
    }
   ],
   "source": [
    "job4 = execute(exact_ghz, backend)\n",
    "job_monitor(job4)"
   ]
  },
  {
   "cell_type": "code",
   "execution_count": 25,
   "metadata": {
    "ExecuteTime": {
     "end_time": "2019-09-29T10:32:28.038345Z",
     "start_time": "2019-09-29T10:32:26.696312Z"
    }
   },
   "outputs": [
    {
     "data": {
      "image/png": "[encoded data removed]",
      "text/plain": [
       "<Figure size 1080x432 with 1 Axes>"
      ]
     },
     "execution_count": 25,
     "metadata": {},
     "output_type": "execute_result"
    }
   ],
   "source": [
    "counts4 = job4.result().get_counts()\n",
    "plot_histogram([counts1, counts4],\n",
    "               figsize=(15,6),\n",
    "               legend=['level3', 'exact'])"
   ]
  },
  {
   "cell_type": "markdown",
   "metadata": {},
   "source": [
    "## Mapping Circuits to Hardware Topology <a name='mapping'></a>\n",
    "\n",
    "Our original GHZ circuit consists of a single qubit (`0`) coupled to the others via CNOT gates.  If implemented directly, this would require hardware that has a single qubit coupled to four other qubits.  Looking at the gate maps of the public IBM Q hardware we see that there are two devices that fit this description."
   ]
  },
  {
   "cell_type": "code",
   "execution_count": 26,
   "metadata": {
    "ExecuteTime": {
     "end_time": "2019-09-29T10:32:28.088857Z",
     "start_time": "2019-09-29T10:32:28.039739Z"
    }
   },
   "outputs": [
    {
     "data": {
      "image/png": "[encoded data removed]",
      "text/plain": [
       "<Figure size 360x360 with 1 Axes>"
      ]
     },
     "execution_count": 26,
     "metadata": {},
     "output_type": "execute_result"
    }
   ],
   "source": [
    "backend = provider.get_backend('ibmqx2')\n",
    "plot_gate_map(backend)"
   ]
  },
  {
   "cell_type": "markdown",
   "metadata": {},
   "source": [
    "and one that does not:"
   ]
  },
  {
   "cell_type": "code",
   "execution_count": 27,
   "metadata": {
    "ExecuteTime": {
     "end_time": "2019-09-29T10:32:28.171552Z",
     "start_time": "2019-09-29T10:32:28.090430Z"
    }
   },
   "outputs": [
    {
     "data": {
      "image/png": "[encoded data removed]",
      "text/plain": [
       "<Figure size 648x216 with 1 Axes>"
      ]
     },
     "execution_count": 27,
     "metadata": {},
     "output_type": "execute_result"
    }
   ],
   "source": [
    "backend = provider.get_backend('ibmq_16_melbourne')\n",
    "plot_gate_map(backend, plot_directed=True)"
   ]
  },
  {
   "cell_type": "markdown",
   "metadata": {},
   "source": [
    "It seems our circuit is a good match to the `ibmqx2` topology provided that we map virtual qubit `0` to physical qubit `2`.  The arrows on the graphs above indicate that CNOT gates are only allowed in one direction.  However, flipping the direction of a CNOT gate is relatively trivial, and does not greatly affect the fidelity of the computation."
   ]
  },
  {
   "cell_type": "markdown",
   "metadata": {},
   "source": [
    "`ibmq_16_melbourne` represents a problem.  There is no qubit anywhere that is connected to four others via CNOT gates.  In order to implement a CNOT gate between qubits that are not directly connected, one or more SWAP gates must be inserted into the circuit to move the qubit states around until they are adjacent on the device gate map.  Our choice of `initial_layout` in `job3` above was purposely designed to take many SWAP gates to make adjacent. As we have seen previously, each SWAP gate is decomposed into three CNOT gates on the IBM Q devices, and represents an expensive and noisy operation to perform.  Thus, finding the minimum number of SWAP gates needed to map a circuit onto a given device, is an important step (if not the most important) in the whole execution process.\n",
    "\n",
    "As with many important things in life, finding the optimal SWAP mapping is hard.  In fact it is in a class of problems called NP-Hard, and is thus is prohibitively expensive to compute for all but the smallest quantum devices and input circuits.  To get around this, by default Qiskit uses a stochastic heuristic algorithm called `StochasticSwap` to compute a good, but not necessarily minimal SWAP count.  The use of a stochastic method means the circuits generated by `transpile` (or `execute` that calls `transpile` internally) are not guaranteed to be the same over repeated runs.  Indeed, running the same circuit repeatedly will in general result in a distribution of circuit depths and gate counts at the output.\n",
    "\n",
    "In order to highlight this, we run the GHZ circuit 100 times, using the \"bad\" (disconnected) `initial_layout` from the previous section:"
   ]
  },
  {
   "cell_type": "code",
   "execution_count": 28,
   "metadata": {
    "ExecuteTime": {
     "end_time": "2019-09-29T10:32:34.789031Z",
     "start_time": "2019-09-29T10:32:28.173268Z"
    }
   },
   "outputs": [],
   "source": [
    "bad_circs = transpile([ghz]*100, backend, initial_layout=[0,6,10,13,7])"
   ]
  },
  {
   "cell_type": "code",
   "execution_count": 29,
   "metadata": {
    "ExecuteTime": {
     "end_time": "2019-09-29T10:32:34.972545Z",
     "start_time": "2019-09-29T10:32:34.791744Z"
    }
   },
   "outputs": [
    {
     "data": {
      "image/png": "[encoded data removed]",
      "text/plain": [
       "<Figure size 576x432 with 1 Axes>"
      ]
     },
     "metadata": {
      "needs_background": "light"
     },
     "output_type": "display_data"
    }
   ],
   "source": [
    "depths = [circ.depth() for circ in bad_circs]\n",
    "plt.figure(figsize=(8,6))\n",
    "plt.hist(depths, bins=list(range(39,56)), align='left', color='#648fff')\n",
    "plt.xlabel('Depth', fontsize=14)\n",
    "plt.ylabel('Counts', fontsize=14);"
   ]
  },
  {
   "cell_type": "markdown",
   "metadata": {},
   "source": [
    "This distribution is quite wide, signaling the difficultly the SWAP mapper is having in computing the best mapping.  Most circuits will have a distribution of depths, perhaps not as wide as this one, due to the stochastic nature of the default SWAP mapper.  Of course, we want the best circuit we can get, especially in cases where the depth is critical to success or failure.  In cases like this, it is best to `transpile` a circuit several times, e.g. 10, and take the one with the lowest depth.  The `transpile` function will automatically run in parallel mode, making this procedure relatively speedy in most cases.\n",
    "\n",
    "Just to highlight the difference when running on a different device, we show the same distribution when using the `ibmqx2` backend with the default settings:"
   ]
  },
  {
   "cell_type": "code",
   "execution_count": 30,
   "metadata": {
    "ExecuteTime": {
     "end_time": "2019-09-29T10:32:36.475449Z",
     "start_time": "2019-09-29T10:32:34.974341Z"
    }
   },
   "outputs": [],
   "source": [
    "backend = provider.get_backend('ibmqx2')\n",
    "qx4_circs = transpile([ghz]*100, backend)"
   ]
  },
  {
   "cell_type": "code",
   "execution_count": 31,
   "metadata": {
    "ExecuteTime": {
     "end_time": "2019-09-29T10:32:36.615442Z",
     "start_time": "2019-09-29T10:32:36.477964Z"
    }
   },
   "outputs": [
    {
     "data": {
      "image/png": "[encoded data removed]",
      "text/plain": [
       "<Figure size 576x432 with 1 Axes>"
      ]
     },
     "metadata": {
      "needs_background": "light"
     },
     "output_type": "display_data"
    }
   ],
   "source": [
    "depths = [circ.depth() for circ in qx4_circs]\n",
    "plt.figure(figsize=(8,6))\n",
    "plt.hist(depths, bins=list(range(12,22)), align='left', color='#648fff')\n",
    "plt.xlabel('Depth', fontsize=14)\n",
    "plt.ylabel('Counts', fontsize=14);"
   ]
  },
  {
   "cell_type": "markdown",
   "metadata": {},
   "source": [
    "## Optimizing Single- and Multi-Qubit Gates\n",
    "\n",
    "Decomposing quantum circuits into the basis gate set of the IBM Q devices, and the addition of SWAP gates needed to match hardware topology, conspire to increase the depth and gate count of quantum circuits.  Fortunately many routines for optimizing circuits by combining or eliminating gates exist.  In some cases these methods are so effective the output circuits have lower depth than the inputs.  In other cases, not much can be done, and the computation may be difficult to perform on noisy devices.  Different gate optimizations are turned on with different `optimization_level` values.  Below shows the benefits gained from setting the optimization level higher:"
   ]
  },
  {
   "cell_type": "markdown",
   "metadata": {},
   "source": [
    "<div class=\"alert alert-block alert-success\">\n",
    "    <b>Remember:</b> The output from <code>transpile</code> varies due to the stochastic swap mapper.  So the numbers below will likely change each time you run the code.\n",
    "</div>"
   ]
  },
  {
   "cell_type": "code",
   "execution_count": 32,
   "metadata": {
    "ExecuteTime": {
     "end_time": "2019-09-29T10:32:36.619909Z",
     "start_time": "2019-09-29T10:32:36.616848Z"
    }
   },
   "outputs": [],
   "source": [
    "backend = provider.get_backend('ibmq_16_melbourne')"
   ]
  },
  {
   "cell_type": "code",
   "execution_count": 33,
   "metadata": {
    "ExecuteTime": {
     "end_time": "2019-09-29T10:32:36.703189Z",
     "start_time": "2019-09-29T10:32:36.621542Z"
    }
   },
   "outputs": [
    {
     "name": "stdout",
     "output_type": "stream",
     "text": [
      "Depth: 23\n",
      "Gate counts: OrderedDict([('u2', 17), ('cx', 13), ('measure', 5), ('barrier', 1)])\n"
     ]
    }
   ],
   "source": [
    "circ0 = transpile(ghz, backend, optimization_level=0)\n",
    "print('Depth:', circ0.depth())\n",
    "print('Gate counts:', circ0.count_ops())"
   ]
  },
  {
   "cell_type": "code",
   "execution_count": 34,
   "metadata": {
    "ExecuteTime": {
     "end_time": "2019-09-29T10:32:36.817113Z",
     "start_time": "2019-09-29T10:32:36.704767Z"
    }
   },
   "outputs": [
    {
     "name": "stdout",
     "output_type": "stream",
     "text": [
      "Depth: 21\n",
      "Gate counts: OrderedDict([('u2', 19), ('cx', 14), ('measure', 5), ('barrier', 1)])\n"
     ]
    }
   ],
   "source": [
    "circ1 = transpile(ghz, backend, optimization_level=1)\n",
    "print('Depth:', circ1.depth())\n",
    "print('Gate counts:', circ1.count_ops())"
   ]
  },
  {
   "cell_type": "code",
   "execution_count": 35,
   "metadata": {
    "ExecuteTime": {
     "end_time": "2019-09-29T10:32:36.930170Z",
     "start_time": "2019-09-29T10:32:36.818701Z"
    }
   },
   "outputs": [
    {
     "name": "stdout",
     "output_type": "stream",
     "text": [
      "Depth: 9\n",
      "Gate counts: OrderedDict([('u2', 9), ('cx', 7), ('measure', 5), ('barrier', 1)])\n"
     ]
    }
   ],
   "source": [
    "circ2 = transpile(ghz, backend, optimization_level=2)\n",
    "print('Depth:', circ2.depth())\n",
    "print('Gate counts:', circ2.count_ops())"
   ]
  },
  {
   "cell_type": "code",
   "execution_count": 36,
   "metadata": {
    "ExecuteTime": {
     "end_time": "2019-09-29T10:32:37.116939Z",
     "start_time": "2019-09-29T10:32:36.931947Z"
    }
   },
   "outputs": [
    {
     "name": "stdout",
     "output_type": "stream",
     "text": [
      "Depth: 9\n",
      "Gate counts: OrderedDict([('u2', 9), ('cx', 7), ('measure', 5), ('barrier', 1)])\n"
     ]
    }
   ],
   "source": [
    "circ3 = transpile(ghz, backend, optimization_level=3)\n",
    "print('Depth:', circ3.depth())\n",
    "print('Gate counts:', circ3.count_ops())"
   ]
  },
  {
   "cell_type": "markdown",
   "metadata": {},
   "source": [
    "## Transpiling for User Defined Topologies <a name='topology'></a>"
   ]
  },
  {
   "cell_type": "markdown",
   "metadata": {},
   "source": [
    "Up to now, we have focused on rewriting and optimizing circuits for the IBM Q set of devices.  However, `transpile` is much more general than that, and can be used to map circuits onto user defined device topologies.  The topology is encoded in what qiskit calls the `coupling_map`, and the coupling map for a device can be obtained from its `configuration`:"
   ]
  },
  {
   "cell_type": "code",
   "execution_count": 37,
   "metadata": {
    "ExecuteTime": {
     "end_time": "2019-09-29T10:32:37.123322Z",
     "start_time": "2019-09-29T10:32:37.118790Z"
    }
   },
   "outputs": [
    {
     "data": {
      "text/plain": [
       "[[0, 1],\n",
       " [0, 2],\n",
       " [1, 0],\n",
       " [1, 2],\n",
       " [2, 0],\n",
       " [2, 1],\n",
       " [2, 3],\n",
       " [2, 4],\n",
       " [3, 2],\n",
       " [3, 4],\n",
       " [4, 2],\n",
       " [4, 3]]"
      ]
     },
     "execution_count": 37,
     "metadata": {},
     "output_type": "execute_result"
    }
   ],
   "source": [
    "backend = provider.get_backend('ibmqx2')\n",
    "backend.configuration().coupling_map"
   ]
  },
  {
   "cell_type": "markdown",
   "metadata": {},
   "source": [
    "the elements of this list are `[control, target]` pairs that indicate that a CNOT gate can be performed using those qubits.  The coupling map is in essence an adjacency matrix characterizing the entangling gate coupling of the device:"
   ]
  },
  {
   "cell_type": "code",
   "execution_count": 38,
   "metadata": {
    "ExecuteTime": {
     "end_time": "2019-09-29T10:32:37.202238Z",
     "start_time": "2019-09-29T10:32:37.124833Z"
    }
   },
   "outputs": [
    {
     "data": {
      "image/png": "[encoded data removed]",
      "text/plain": [
       "<Figure size 432x288 with 1 Axes>"
      ]
     },
     "metadata": {
      "needs_background": "light"
     },
     "output_type": "display_data"
    }
   ],
   "source": [
    "from scipy.sparse import coo_matrix\n",
    "cmap = backend.configuration().coupling_map\n",
    "rows = [c[0] for c in cmap]\n",
    "cols = [c[1] for c in cmap]\n",
    "data = np.ones_like(rows)\n",
    "adj_matrix = coo_matrix((data,(rows,cols)),shape=(5,5))\n",
    "plt.spy(adj_matrix);"
   ]
  },
  {
   "cell_type": "markdown",
   "metadata": {},
   "source": [
    "If it is possible to perform CNOT gates in both directions on all pairs of qubits, then this matrix is symmetric.\n",
    "\n",
    "We are free to construct our own device topology by defining our own `coupling_map` and using it in `transpile`.  For example, a five qubit linear nearest-neighbor (LNN) topology supporting bi-direction CNOT gates is written as:"
   ]
  },
  {
   "cell_type": "code",
   "execution_count": 39,
   "metadata": {
    "ExecuteTime": {
     "end_time": "2019-09-29T10:32:37.207819Z",
     "start_time": "2019-09-29T10:32:37.204052Z"
    }
   },
   "outputs": [],
   "source": [
    "lnn5 = [[0,1], [1,0], [1,2], [2,1], [2,3], [3,2], [3,4], [4,3]]"
   ]
  },
  {
   "cell_type": "code",
   "execution_count": 40,
   "metadata": {
    "ExecuteTime": {
     "end_time": "2019-09-29T10:32:37.284077Z",
     "start_time": "2019-09-29T10:32:37.209840Z"
    }
   },
   "outputs": [
    {
     "data": {
      "image/png": "[encoded data removed]",
      "text/plain": [
       "<Figure size 432x288 with 1 Axes>"
      ]
     },
     "metadata": {
      "needs_background": "light"
     },
     "output_type": "display_data"
    }
   ],
   "source": [
    "rows = [c[0] for c in lnn5]\n",
    "cols = [c[1] for c in lnn5]\n",
    "data = np.ones_like(rows)\n",
    "adj_matrix = coo_matrix((data,(rows,cols)),shape=(5,5))\n",
    "plt.spy(adj_matrix);"
   ]
  },
  {
   "cell_type": "markdown",
   "metadata": {},
   "source": [
    "We can then use this `coupling_map` in place of an actual backend as follows:"
   ]
  },
  {
   "cell_type": "code",
   "execution_count": 41,
   "metadata": {
    "ExecuteTime": {
     "end_time": "2019-09-29T10:32:37.329737Z",
     "start_time": "2019-09-29T10:32:37.286084Z"
    }
   },
   "outputs": [
    {
     "data": {
      "text/html": [
       "<pre style=\"word-wrap: normal;white-space: pre;background: #fff0;line-height: 1.1;font-family: &quot;Courier New&quot;,Courier,monospace\">          ┌───┐┌───┐                               ░    ┌─┐         \n",
       "(q0) q0|0>┤ H ├┤ X ├──■────────────────────────────░────┤M├─────────\n",
       "          └───┘└─┬─┘┌─┴─┐┌───┐                     ░    └╥┘┌─┐      \n",
       "(q1) q1|0>───────■──┤ X ├┤ X ├──■──────────────────░─────╫─┤M├──────\n",
       "                    └───┘└─┬─┘┌─┴─┐┌───┐           ░     ║ └╥┘┌─┐   \n",
       "(q2) q2|0>─────────────────■──┤ X ├┤ X ├──■────────░─────╫──╫─┤M├───\n",
       "                              └───┘└─┬─┘┌─┴─┐      ░ ┌─┐ ║  ║ └╥┘   \n",
       "(q3) q3|0>───────────────────────────■──┤ X ├──■───░─┤M├─╫──╫──╫────\n",
       "                                        └───┘┌─┴─┐ ░ └╥┘ ║  ║  ║ ┌─┐\n",
       "(q4) q4|0>───────────────────────────────────┤ X ├─░──╫──╫──╫──╫─┤M├\n",
       "                                             └───┘ ░  ║  ║  ║  ║ └╥┘\n",
       "   c_0: 0 ════════════════════════════════════════════╩══╬══╬══╬══╬═\n",
       "                                                         ║  ║  ║  ║ \n",
       "   c_1: 0 ═══════════════════════════════════════════════╩══╬══╬══╬═\n",
       "                                                            ║  ║  ║ \n",
       "   c_2: 0 ══════════════════════════════════════════════════╩══╬══╬═\n",
       "                                                               ║  ║ \n",
       "   c_3: 0 ═════════════════════════════════════════════════════╩══╬═\n",
       "                                                                  ║ \n",
       "   c_4: 0 ════════════════════════════════════════════════════════╩═\n",
       "                                                                    </pre>"
      ],
      "text/plain": [
       "<qiskit.visualization.text.TextDrawing at 0x1a22516ed0>"
      ]
     },
     "execution_count": 41,
     "metadata": {},
     "output_type": "execute_result"
    }
   ],
   "source": [
    "lnn5_circ = transpile(ghz, backend=None, coupling_map=lnn5)\n",
    "lnn5_circ.draw()"
   ]
  },
  {
   "cell_type": "markdown",
   "metadata": {},
   "source": [
    "Or we can write a directional five qubit '+' shaped topology, with all directional CNOT gates pointing to the center as:"
   ]
  },
  {
   "cell_type": "code",
   "execution_count": 42,
   "metadata": {
    "ExecuteTime": {
     "end_time": "2019-09-29T10:32:37.334514Z",
     "start_time": "2019-09-29T10:32:37.331511Z"
    }
   },
   "outputs": [],
   "source": [
    "plus = [[0,2], [1,2], [3,2], [4,2]]"
   ]
  },
  {
   "cell_type": "code",
   "execution_count": 43,
   "metadata": {
    "ExecuteTime": {
     "end_time": "2019-09-29T10:32:37.412897Z",
     "start_time": "2019-09-29T10:32:37.336465Z"
    }
   },
   "outputs": [
    {
     "data": {
      "image/png": "[encoded data removed]",
      "text/plain": [
       "<Figure size 432x288 with 1 Axes>"
      ]
     },
     "metadata": {
      "needs_background": "light"
     },
     "output_type": "display_data"
    }
   ],
   "source": [
    "rows = [c[0] for c in plus]\n",
    "cols = [c[1] for c in plus]\n",
    "data = np.ones_like(rows)\n",
    "adj_matrix = coo_matrix((data,(rows,cols)),shape=(5,5))\n",
    "plt.spy(adj_matrix);"
   ]
  },
  {
   "cell_type": "code",
   "execution_count": 44,
   "metadata": {
    "ExecuteTime": {
     "end_time": "2019-09-29T10:32:37.485936Z",
     "start_time": "2019-09-29T10:32:37.414781Z"
    }
   },
   "outputs": [
    {
     "data": {
      "text/html": [
       "<pre style=\"word-wrap: normal;white-space: pre;background: #fff0;line-height: 1.1;font-family: &quot;Courier New&quot;,Courier,monospace\">             ┌───┐         ┌──────────┐     ┌──────────┐     ┌──────────┐     »\n",
       "(q0) q0|0>───┤ H ├──────■──┤ U2(0,pi) ├──■──┤ U2(0,pi) ├──■──┤ U2(0,pi) ├─────»\n",
       "          ┌──┴───┴───┐  │  └──────────┘  │  └──────────┘  │  └──────────┘     »\n",
       "(q1) q1|0>┤ U2(0,pi) ├──┼────────────────┼────────────────┼────────────────■──»\n",
       "          └──────────┘┌─┴─┐┌──────────┐┌─┴─┐┌──────────┐┌─┴─┐┌──────────┐┌─┴─┐»\n",
       "(q2) q2|0>────────────┤ X ├┤ U2(0,pi) ├┤ X ├┤ U2(0,pi) ├┤ X ├┤ U2(0,pi) ├┤ X ├»\n",
       "          ┌──────────┐└───┘└──────────┘└───┘└──────────┘└───┘└──────────┘└───┘»\n",
       "(q3) q3|0>┤ U2(0,pi) ├────────────────────────────────────────────────────────»\n",
       "          ├──────────┤                                                        »\n",
       "(q4) q4|0>┤ U2(0,pi) ├────────────────────────────────────────────────────────»\n",
       "          └──────────┘                                                        »\n",
       "   c_0: 0 ════════════════════════════════════════════════════════════════════»\n",
       "                                                                              »\n",
       "   c_1: 0 ════════════════════════════════════════════════════════════════════»\n",
       "                                                                              »\n",
       "   c_2: 0 ════════════════════════════════════════════════════════════════════»\n",
       "                                                                              »\n",
       "   c_3: 0 ════════════════════════════════════════════════════════════════════»\n",
       "                                                                              »\n",
       "   c_4: 0 ════════════════════════════════════════════════════════════════════»\n",
       "                                                                              »\n",
       "«                        ┌──────────┐                              ░       ┌─┐»\n",
       "«(q0) q0──■──────────────┤ U2(0,pi) ├──────────────────────────────░───────┤M├»\n",
       "«         │  ┌──────────┐└──────────┘                              ░    ┌─┐└╥┘»\n",
       "«(q1) q1──┼──┤ U2(0,pi) ├──────────────────────────────────────────░────┤M├─╫─»\n",
       "«       ┌─┴─┐└──────────┘   ┌───┐    ┌───┐            ┌──────────┐ ░ ┌─┐└╥┘ ║ »\n",
       "«(q2) q2┤ X ├───────────────┤ X ├────┤ X ├────────────┤ U2(0,pi) ├─░─┤M├─╫──╫─»\n",
       "«       └───┘               └─┬─┘    └─┬─┘┌──────────┐└──────────┘ ░ └╥┘ ║  ║ »\n",
       "«(q3) q3──────────────────────■────────┼──┤ U2(0,pi) ├─────────────░──╫──╫──╫─»\n",
       "«                                      │  └──────────┘┌──────────┐ ░  ║  ║  ║ »\n",
       "«(q4) q4───────────────────────────────■──────────────┤ U2(0,pi) ├─░──╫──╫──╫─»\n",
       "«                                                     └──────────┘ ░  ║  ║  ║ »\n",
       "«  c_0: ══════════════════════════════════════════════════════════════╩══╬══╬═»\n",
       "«                                                                        ║  ║ »\n",
       "«  c_1: ═════════════════════════════════════════════════════════════════╩══╬═»\n",
       "«                                                                           ║ »\n",
       "«  c_2: ════════════════════════════════════════════════════════════════════╩═»\n",
       "«                                                                             »\n",
       "«  c_3: ══════════════════════════════════════════════════════════════════════»\n",
       "«                                                                             »\n",
       "«  c_4: ══════════════════════════════════════════════════════════════════════»\n",
       "«                                                                             »\n",
       "«             \n",
       "«(q0) q0──────\n",
       "«             \n",
       "«(q1) q1──────\n",
       "«             \n",
       "«(q2) q2──────\n",
       "«       ┌─┐   \n",
       "«(q3) q3┤M├───\n",
       "«       └╥┘┌─┐\n",
       "«(q4) q4─╫─┤M├\n",
       "«        ║ └╥┘\n",
       "«  c_0: ═╬══╬═\n",
       "«        ║  ║ \n",
       "«  c_1: ═╬══╬═\n",
       "«        ║  ║ \n",
       "«  c_2: ═╬══╬═\n",
       "«        ║  ║ \n",
       "«  c_3: ═╩══╬═\n",
       "«           ║ \n",
       "«  c_4: ════╩═\n",
       "«             </pre>"
      ],
      "text/plain": [
       "<qiskit.visualization.text.TextDrawing at 0x1a23463c90>"
      ]
     },
     "execution_count": 44,
     "metadata": {},
     "output_type": "execute_result"
    }
   ],
   "source": [
    "plus_circ = transpile(ghz, backend=None, coupling_map=plus)\n",
    "plus_circ.draw()"
   ]
  },
  {
   "cell_type": "markdown",
   "metadata": {},
   "source": [
    "In the above examples we can see that a Hadamard gate is still in the circuit.  This is because with `backend=None` we also need to specify the `basis_gates` if we want a specific gate set at the end."
   ]
  },
  {
   "cell_type": "markdown",
   "metadata": {},
   "source": [
    "## Passing Transpiled Circuits to a Backend <a name='passing'></a>\n",
    "\n",
    "Now that we have transpiled circuits, the final step is to pass them to a backend for execution.  There are two ways of doing this:\n",
    "\n",
    "1) Pass the circuits to `execute` as done before.\n",
    "\n",
    "2) Use the `assemble` function to package them, and then call the backend directly."
   ]
  },
  {
   "cell_type": "markdown",
   "metadata": {},
   "source": [
    "### Using `execute` with transpiled circuits\n",
    "\n",
    "Typically one is interested in transpiling circuits for the same backend that they intend to run their circuits on.  In this case, the circuits have already been mapped to the backend and optimized so calling:\n",
    "\n",
    "```\n",
    "job = execute(transpiled_circuits, backend, **kwargs)\n",
    "```\n",
    "Will simply package the circuits up, and send them to the target backend.  The exeception to this rule is if the level of optimization is different than what the circuits were originally transpiled with.  That is to say setting `optimization_level=3` in `execute` while passing circuits transpiled under `optimization_level=1` (the default) will undergo further optimization before being sent to the device."
   ]
  },
  {
   "cell_type": "markdown",
   "metadata": {},
   "source": [
    "### Packaging Circuits with `assemble`\n",
    "\n",
    "It is also possible to skip the `execute` function and bundle the transpiled circuits using the `assemble` function.  The `assemble` function is designed to take both circuits and pulse schedules and has lots of input arguments:"
   ]
  },
  {
   "cell_type": "code",
   "execution_count": 45,
   "metadata": {
    "ExecuteTime": {
     "end_time": "2019-09-29T10:32:37.492568Z",
     "start_time": "2019-09-29T10:32:37.488036Z"
    }
   },
   "outputs": [
    {
     "data": {
      "text/plain": [
       "<Signature (experiments, backend=None, qobj_id=None, qobj_header=None, shots=1024, memory=False, max_credits=None, seed_simulator=None, qubit_lo_freq=None, meas_lo_freq=None, qubit_lo_range=None, meas_lo_range=None, schedule_los=None, meas_level=2, meas_return='avg', meas_map=None, memory_slot_size=100, rep_time=None, parameter_binds=None, **run_config)>"
      ]
     },
     "execution_count": 45,
     "metadata": {},
     "output_type": "execute_result"
    }
   ],
   "source": [
    "inspect.signature(assemble)"
   ]
  },
  {
   "cell_type": "markdown",
   "metadata": {},
   "source": [
    "but many of them overlap with those in `execute`.  Here `experiments` is the circuit or list of circuits to be run, and `backend` is of course the backend you are targeting.  The other important ones are:\n",
    "\n",
    "- **shots** - Number of times to execute each circuit.\n",
    "\n",
    "- **memory** - Return the resulting bitstring for each shot rather than collecting counts.\n",
    "\n",
    "A standard call to `assemble` would look like:\n",
    "\n",
    "```\n",
    "qobj = assemble(transpiled_circuits, backend, shots=2048)\n",
    "```\n",
    "\n",
    "where `qobj` is the container format used in sending circuits (and pulse experiments) to the devices.  This `qobj` can be run by calling the `backend` directly:\n",
    "\n",
    "```\n",
    "job = backend.run(qobj)\n",
    "```\n",
    "\n",
    "that will return a `job` just like `execute`."
   ]
  },
  {
   "cell_type": "code",
   "execution_count": 46,
   "metadata": {
    "ExecuteTime": {
     "end_time": "2019-09-29T10:32:37.549626Z",
     "start_time": "2019-09-29T10:32:37.494512Z"
    }
   },
   "outputs": [
    {
     "data": {
      "text/html": [
       "<h3>Version Information</h3><table><tr><th>Qiskit Software</th><th>Version</th></tr><tr><td>Qiskit</td><td>None</td></tr><tr><td>Terra</td><td>0.10.0</td></tr><tr><td>Aer</td><td>0.3.0</td></tr><tr><td>Ignis</td><td>0.2.0</td></tr><tr><td>Aqua</td><td>0.6.0</td></tr><tr><td>IBM Q Provider</td><td>0.3.3rc1</td></tr><tr><th>System information</th></tr><tr><td>Python</td><td>3.7.4 (default, Aug 13 2019, 15:17:50) \n",
       "[Clang 4.0.1 (tags/RELEASE_401/final)]</td></tr><tr><td>OS</td><td>Darwin</td></tr><tr><td>CPUs</td><td>4</td></tr><tr><td>Memory (Gb)</td><td>16.0</td></tr><tr><td colspan='2'>Sun Sep 29 06:32:37 2019 EDT</td></tr></table>"
      ],
      "text/plain": [
       "<IPython.core.display.HTML object>"
      ]
     },
     "metadata": {},
     "output_type": "display_data"
    },
    {
     "data": {
      "text/html": [
       "<div style='width: 100%; background-color:#d5d9e0;padding-left: 10px; padding-bottom: 10px; padding-right: 10px; padding-top: 5px'><h3>This code is a part of Qiskit</h3><p>&copy; Copyright IBM 2017, 2019.</p><p>This code is licensed under the Apache License, Version 2.0. You may<br>obtain a copy of this license in the LICENSE.txt file in the root directory<br> of this source tree or at http://www.apache.org/licenses/LICENSE-2.0.<p>Any modifications or derivative works of this code must retain this<br>copyright notice, and modified files need to carry a notice indicating<br>that they have been altered from the originals.</p></div>"
      ],
      "text/plain": [
       "<IPython.core.display.HTML object>"
      ]
     },
     "metadata": {},
     "output_type": "display_data"
    }
   ],
   "source": [
    "import qiskit.tools.jupyter\n",
    "%qiskit_version_table\n",
    "%qiskit_copyright"
   ]
  },
  {
   "cell_type": "code",
   "execution_count": null,
   "metadata": {},
   "outputs": [],
   "source": []
  }
 ],
 "metadata": {
  "kernelspec": {
   "display_name": "Python 3",
   "language": "python",
   "name": "python3"
  },
  "language_info": {
   "codemirror_mode": {
    "name": "ipython",
    "version": 3
   },
   "file_extension": ".py",
   "mimetype": "text/x-python",
   "name": "python",
   "nbconvert_exporter": "python",
   "pygments_lexer": "ipython3",
   "version": "3.7.4"
  },
  "varInspector": {
   "cols": {
    "lenName": 16,
    "lenType": 16,
    "lenVar": 40
   },
   "kernels_config": {
    "python": {
     "delete_cmd_postfix": "",
     "delete_cmd_prefix": "del ",
     "library": "var_list.py",
     "varRefreshCmd": "print(var_dic_list())"
    },
    "r": {
     "delete_cmd_postfix": ") ",
     "delete_cmd_prefix": "rm(",
     "library": "var_list.r",
     "varRefreshCmd": "cat(var_dic_list()) "
    }
   },
   "types_to_exclude": [
    "module",
    "function",
    "builtin_function_or_method",
    "instance",
    "_Feature"
   ],
   "window_display": false
  }
 },
 "nbformat": 4,
 "nbformat_minor": 2
}
