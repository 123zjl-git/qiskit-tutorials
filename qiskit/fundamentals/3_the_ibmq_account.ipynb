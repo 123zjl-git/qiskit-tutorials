{
 "cells": [
  {
   "cell_type": "markdown",
   "metadata": {},
   "source": [
    "<img src=\"../../images/qiskit_header.png\" alt=\"Note: In order for images to show up in this jupyter notebook you need to select File => Trusted Notebook\" align=\"middle\">"
   ]
  },
  {
   "cell_type": "markdown",
   "metadata": {},
   "source": [
    "# The IBM Q Account"
   ]
  },
  {
   "cell_type": "markdown",
   "metadata": {},
   "source": [
    "In Qiskit we have an interface for backends and jobs that is useful for running circuits and extending to third-party backends. In this tutorial, we will review the core components of Qiskit’s base backend framework, using the IBM Q account as an example.\n",
    "\n",
    "The interface has four main components: the account, providers, backends, and jobs:\n",
    "\n",
    "- **account**: Gives access to one or more ‘providers’ based on the account's permissions.\n",
    "\n",
    "- **provider**: Provides access to quantum devices and simulators, collectively called ‘backends’, and additional services tailored to a specific backend instance.\n",
    "\n",
    "- **backend**: A quantum device or simulator capable of running quantum circuits or pulse schedules.\n",
    "\n",
    "- **job**: A local reference to a collection of quantum circuits or pulse schedules submitted to a given backend."
   ]
  },
  {
   "cell_type": "markdown",
   "metadata": {
    "ExecuteTime": {
     "end_time": "2019-08-10T11:26:18.728475Z",
     "start_time": "2019-08-10T11:26:18.724151Z"
    }
   },
   "source": [
    "## Table of contents\n",
    "\n",
    "1) [The Account](#account)\n",
    "\n",
    "\n",
    "2) [The Provider](#provider)\n",
    "\n",
    "\n",
    "3) [Backends](#backends)\n",
    "    \n",
    "    \n",
    "4) [Jobs](#jobs)\n",
    "\n",
    "\n",
    "5) [Updating from previous versions](#updating)"
   ]
  },
  {
   "cell_type": "markdown",
   "metadata": {},
   "source": [
    "## The Account <a name='account'></a>\n",
    "\n",
    "The Qiskit `IBMQ` account object is the local reference for accessing your IBM Q account, and all of the providers, backends, etc, that are available to you.\n",
    "\n",
    "The `IBMQ` account has functions for handling administrative tasks. The credentials can be saved to disk, or used in a session and never saved.\n",
    "\n",
    "- `enable_account(TOKEN)`: Enable your account in the current session.\n",
    "- `save_account(TOKEN)`: Save your account to disk for future use.\n",
    "- `load_account()`: Load account using stored credentials.\n",
    "- `disable_account()`: Disable your account in the current session.\n",
    "- `stored_account()`: List the account stored to disk.\n",
    "- `active_account()`: List the account currently in the session.\n",
    "- `delete_account()`: Delete the saved account from disk.\n",
    "\n",
    "\n",
    "\n",
    "In order to access quantum devices, simulators, or other services, you must specify the source of these items by selecting a provider. To see all the providers available do the following:"
   ]
  },
  {
   "cell_type": "code",
   "execution_count": 1,
   "metadata": {
    "ExecuteTime": {
     "end_time": "2019-08-10T09:32:08.428757Z",
     "start_time": "2019-08-10T09:32:00.431046Z"
    }
   },
   "outputs": [
    {
     "data": {
      "text/plain": [
       "[<AccountProvider for IBMQ(hub='ibm-q', group='open', project='main')>]"
      ]
     },
     "execution_count": 1,
     "metadata": {},
     "output_type": "execute_result"
    }
   ],
   "source": [
    "from qiskit import IBMQ\n",
    "\n",
    "IBMQ.load_account() # Load account from disk\n",
    "IBMQ.providers()    # List all available providers"
   ]
  },
  {
   "cell_type": "markdown",
   "metadata": {},
   "source": [
    "where we have assumed that the user has stored their IBMQ account information locally ahead of time using `IBMQ.save_account(TOKEN)`.\n",
    "\n",
    "<div class=\"alert alert-block alert-info\">\n",
    "<b>Note:</b> The use of `provider` instances is the default way of retrieving backends from Qiskit 0.11 onwards - if you have been using earlier versions of Qiskit, check the <a href=\"#updating\">\"Updating from previous versions\"</a> section for more detailed instructions on updating and using the different options.</div>\n",
    "</div>\n",
    "\n",
    "The above example shows two different providers. All `IBMQ` providers are specified by a `hub`, `group`, and `project`. The provider given by `hub='ibm-q', group='open', project='main'` is the provider that gives access to the public IBM Q devices available to all IQX users. The second is an example of a provider that is only unlocked for a specific set of users. Members of the IBM Q network may see one or more providers (with names different than those shown above) depending on the access level granted to them."
   ]
  },
  {
   "cell_type": "markdown",
   "metadata": {},
   "source": [
    "To access a given provider one should use the `get_provider()` method of the `IBMQ` account, filtering by `hub`, `group`, or `project`:"
   ]
  },
  {
   "cell_type": "code",
   "execution_count": 2,
   "metadata": {
    "ExecuteTime": {
     "end_time": "2019-08-10T09:34:10.585597Z",
     "start_time": "2019-08-10T09:34:10.581126Z"
    }
   },
   "outputs": [
    {
     "data": {
      "text/plain": [
       "<AccountProvider for IBMQ(hub='ibm-q', group='open', project='main')>"
      ]
     },
     "execution_count": 2,
     "metadata": {},
     "output_type": "execute_result"
    }
   ],
   "source": [
    "IBMQ.get_provider(hub='ibm-q')"
   ]
  },
  {
   "cell_type": "code",
   "execution_count": 3,
   "metadata": {
    "ExecuteTime": {
     "end_time": "2019-08-10T09:34:32.437442Z",
     "start_time": "2019-08-10T09:34:32.432869Z"
    }
   },
   "outputs": [
    {
     "data": {
      "text/plain": [
       "<AccountProvider for IBMQ(hub='ibm-q', group='open', project='main')>"
      ]
     },
     "execution_count": 3,
     "metadata": {},
     "output_type": "execute_result"
    }
   ],
   "source": [
    "IBMQ.get_provider(project='main')"
   ]
  },
  {
   "cell_type": "markdown",
   "metadata": {},
   "source": [
    "Finally, as a convenience, calling `IBMQ.load_account()` or `IBMQ.enable_account()` will return the default public provider instance `<AccountProvider for IBMQ(hub='ibm-q', group='open', project='main')>`."
   ]
  },
  {
   "cell_type": "markdown",
   "metadata": {},
   "source": [
    "## The Provider <a name='provider'></a>\n",
    "\n",
    "Providers accessed via the `IBMQ` account provide access to a group of different backends (for example, backends available through the IBM Q Experience or IBM Q Network quantum cloud services).\n",
    "\n",
    "A provider inherits from `BaseProvider` and implements the methods:\n",
    "\n",
    "- `backends()`: Returns all backend objects known to the provider.\n",
    "- `get_backend(NAME)`: Returns the named backend.\n",
    "\n",
    "Using the public provider instance from above:"
   ]
  },
  {
   "cell_type": "code",
   "execution_count": 4,
   "metadata": {
    "ExecuteTime": {
     "end_time": "2019-08-10T09:36:23.193295Z",
     "start_time": "2019-08-10T09:36:22.760961Z"
    }
   },
   "outputs": [
    {
     "data": {
      "text/plain": [
       "[<IBMQSimulator('ibmq_qasm_simulator') from IBMQ(hub='ibm-q', group='open', project='main')>,\n",
       " <IBMQBackend('ibmqx2') from IBMQ(hub='ibm-q', group='open', project='main')>,\n",
       " <IBMQBackend('ibmq_16_melbourne') from IBMQ(hub='ibm-q', group='open', project='main')>,\n",
       " <IBMQBackend('ibmq_vigo') from IBMQ(hub='ibm-q', group='open', project='main')>,\n",
       " <IBMQBackend('ibmq_ourense') from IBMQ(hub='ibm-q', group='open', project='main')>,\n",
       " <IBMQBackend('ibmq_london') from IBMQ(hub='ibm-q', group='open', project='main')>,\n",
       " <IBMQBackend('ibmq_burlington') from IBMQ(hub='ibm-q', group='open', project='main')>,\n",
       " <IBMQBackend('ibmq_essex') from IBMQ(hub='ibm-q', group='open', project='main')>]"
      ]
     },
     "execution_count": 4,
     "metadata": {},
     "output_type": "execute_result"
    }
   ],
   "source": [
    "provider = IBMQ.get_provider(hub='ibm-q')\n",
    "provider.backends()"
   ]
  },
  {
   "cell_type": "markdown",
   "metadata": {},
   "source": [
    "Selecting a backend is done by name using the `get_backend(NAME)` method:"
   ]
  },
  {
   "cell_type": "code",
   "execution_count": 5,
   "metadata": {
    "ExecuteTime": {
     "end_time": "2019-08-10T09:37:09.637775Z",
     "start_time": "2019-08-10T09:37:09.633565Z"
    }
   },
   "outputs": [
    {
     "data": {
      "text/plain": [
       "<IBMQBackend('ibmq_16_melbourne') from IBMQ(hub='ibm-q', group='open', project='main')>"
      ]
     },
     "execution_count": 5,
     "metadata": {},
     "output_type": "execute_result"
    }
   ],
   "source": [
    "backend = provider.get_backend('ibmq_16_melbourne')\n",
    "backend"
   ]
  },
  {
   "cell_type": "markdown",
   "metadata": {},
   "source": [
    "### Filtering the Backends\n",
    "\n",
    "You may also optionally filter the set of returned backends, by passing arguments that query the backend’s `configuration`, `status`, or `properties`. The filters are passed by conditions and, for more general filters, you can make advanced functions using a lambda function.\n",
    "\n",
    "As a first example lets return only those backends that are real quantum devices, and that are currently operational:"
   ]
  },
  {
   "cell_type": "code",
   "execution_count": 6,
   "metadata": {
    "ExecuteTime": {
     "end_time": "2019-08-10T09:39:00.685464Z",
     "start_time": "2019-08-10T09:38:59.837398Z"
    }
   },
   "outputs": [
    {
     "data": {
      "text/plain": [
       "[<IBMQBackend('ibmqx2') from IBMQ(hub='ibm-q', group='open', project='main')>,\n",
       " <IBMQBackend('ibmq_16_melbourne') from IBMQ(hub='ibm-q', group='open', project='main')>,\n",
       " <IBMQBackend('ibmq_vigo') from IBMQ(hub='ibm-q', group='open', project='main')>,\n",
       " <IBMQBackend('ibmq_ourense') from IBMQ(hub='ibm-q', group='open', project='main')>,\n",
       " <IBMQBackend('ibmq_london') from IBMQ(hub='ibm-q', group='open', project='main')>,\n",
       " <IBMQBackend('ibmq_burlington') from IBMQ(hub='ibm-q', group='open', project='main')>,\n",
       " <IBMQBackend('ibmq_essex') from IBMQ(hub='ibm-q', group='open', project='main')>]"
      ]
     },
     "execution_count": 6,
     "metadata": {},
     "output_type": "execute_result"
    }
   ],
   "source": [
    "provider.backends(simulator=False, operational=True)"
   ]
  },
  {
   "cell_type": "markdown",
   "metadata": {},
   "source": [
    "Or, only those backends that are real devices, have more than 10 qubits, and are operational"
   ]
  },
  {
   "cell_type": "code",
   "execution_count": 7,
   "metadata": {
    "ExecuteTime": {
     "end_time": "2019-08-10T09:40:18.300155Z",
     "start_time": "2019-08-10T09:40:17.775145Z"
    }
   },
   "outputs": [
    {
     "data": {
      "text/plain": [
       "[<IBMQBackend('ibmq_16_melbourne') from IBMQ(hub='ibm-q', group='open', project='main')>]"
      ]
     },
     "execution_count": 7,
     "metadata": {},
     "output_type": "execute_result"
    }
   ],
   "source": [
    "provider.backends(filters=lambda x: x.configuration().n_qubits >= 10\n",
    "                                    and not x.configuration().simulator\n",
    "                                    and x.status().operational==True)"
   ]
  },
  {
   "cell_type": "markdown",
   "metadata": {},
   "source": [
    "Lastly, show the least busy 5 qubit device (in terms of the number of jobs pending in the queue)"
   ]
  },
  {
   "cell_type": "code",
   "execution_count": 8,
   "metadata": {
    "ExecuteTime": {
     "end_time": "2019-08-10T09:41:49.653822Z",
     "start_time": "2019-08-10T09:41:48.210193Z"
    }
   },
   "outputs": [
    {
     "data": {
      "text/plain": [
       "<IBMQBackend('ibmq_vigo') from IBMQ(hub='ibm-q', group='open', project='main')>"
      ]
     },
     "execution_count": 8,
     "metadata": {},
     "output_type": "execute_result"
    }
   ],
   "source": [
    "from qiskit.providers.ibmq import least_busy\n",
    "\n",
    "small_devices = provider.backends(filters=lambda x: x.configuration().n_qubits == 5\n",
    "                                   and not x.configuration().simulator)\n",
    "least_busy(small_devices)"
   ]
  },
  {
   "cell_type": "markdown",
   "metadata": {},
   "source": [
    "The above filters can be combined as desired."
   ]
  },
  {
   "cell_type": "markdown",
   "metadata": {},
   "source": [
    "## Backends <a name='backends'></a>"
   ]
  },
  {
   "cell_type": "markdown",
   "metadata": {},
   "source": [
    "Backends represent either a simulator or a real quantum computer, and are responsible for running quantum circuits and/or pulse schedules and returning results. They have a `run` method which takes in a `qobj` as input, the Qiskit API serialization format, and returns a `BaseJob` object. This object allows asynchronous running of jobs for retrieving results from a backend when the job is completed.\n",
    "\n",
    "\n",
    "At a minimum, backends use the following methods, inherited from `BaseBackend`:\n",
    "\n",
    "- `provider()`: Returns the provider of the backend.\n",
    "- `name()`: Returns the name of the backend.\n",
    "- `status()`: Returns the current status of the backend.\n",
    "- `configuration()`: Returns the backend configuration.\n",
    "- `properties()`: Returns the backend properties.\n",
    "- `run(QOBJ, **kwargs)`: Runs a qobj on the backend.\n"
   ]
  },
  {
   "cell_type": "markdown",
   "metadata": {},
   "source": [
    "For remote backends they must support the additional methods:\n",
    "\n",
    "- `jobs()`: Returns a list of previous jobs executed on this backend through the current provider instance.\n",
    "- `retrieve_job(JOB_ID)`:  Returns a job by a job_id.\n",
    "\n",
    "On a per device basis, the following commands may be supported:\n",
    "\n",
    "- `defaults()`: Gives a data structure of typical default parameters.\n",
    "- `schema()`: Gets a schema for the backend.\n",
    "\n",
    "There are some \"IBM Q backend\"-only attributes:\n",
    "\n",
    "- `hub`: The IBMQ hub for this backend.\n",
    "- `group`:  The IBMQ group for this backend.\n",
    "- `project`: The IBMQ project for this backend.\n"
   ]
  },
  {
   "cell_type": "markdown",
   "metadata": {},
   "source": [
    "Lets load up the least busy backend from the `small_devices` filtered above:"
   ]
  },
  {
   "cell_type": "code",
   "execution_count": 9,
   "metadata": {
    "ExecuteTime": {
     "end_time": "2019-08-10T11:07:57.819917Z",
     "start_time": "2019-08-10T11:07:56.480877Z"
    }
   },
   "outputs": [],
   "source": [
    "backend = least_busy(small_devices)"
   ]
  },
  {
   "cell_type": "markdown",
   "metadata": {},
   "source": [
    "Several examples using commands are:"
   ]
  },
  {
   "cell_type": "code",
   "execution_count": 10,
   "metadata": {
    "ExecuteTime": {
     "end_time": "2019-08-10T11:08:14.218624Z",
     "start_time": "2019-08-10T11:08:14.214377Z"
    }
   },
   "outputs": [
    {
     "data": {
      "text/plain": [
       "<AccountProvider for IBMQ(hub='ibm-q', group='open', project='main')>"
      ]
     },
     "execution_count": 10,
     "metadata": {},
     "output_type": "execute_result"
    }
   ],
   "source": [
    "backend.provider()"
   ]
  },
  {
   "cell_type": "code",
   "execution_count": 11,
   "metadata": {
    "ExecuteTime": {
     "end_time": "2019-08-10T11:08:30.907490Z",
     "start_time": "2019-08-10T11:08:30.902985Z"
    }
   },
   "outputs": [
    {
     "data": {
      "text/plain": [
       "'ibmq_vigo'"
      ]
     },
     "execution_count": 11,
     "metadata": {},
     "output_type": "execute_result"
    }
   ],
   "source": [
    "backend.name()"
   ]
  },
  {
   "cell_type": "code",
   "execution_count": 12,
   "metadata": {
    "ExecuteTime": {
     "end_time": "2019-08-10T11:09:31.014122Z",
     "start_time": "2019-08-10T11:09:30.529121Z"
    }
   },
   "outputs": [
    {
     "data": {
      "text/plain": [
       "BackendStatus(backend_name='ibmq_vigo', backend_version='1.0.1', operational=True, pending_jobs=0, status_msg='active')"
      ]
     },
     "execution_count": 12,
     "metadata": {},
     "output_type": "execute_result"
    }
   ],
   "source": [
    "backend.status()"
   ]
  },
  {
   "cell_type": "markdown",
   "metadata": {},
   "source": [
    "Here we see the name of the backend, the software version it is running, along with its operational status, number of jobs pending in the backends queue, and a more detailed status message.\n",
    "\n",
    "Next we look at the backend configuration and properties:"
   ]
  },
  {
   "cell_type": "code",
   "execution_count": 13,
   "metadata": {
    "ExecuteTime": {
     "end_time": "2019-08-10T11:10:52.506038Z",
     "start_time": "2019-08-10T11:10:52.502010Z"
    },
    "scrolled": true
   },
   "outputs": [
    {
     "data": {
      "text/plain": [
       "QasmBackendConfiguration(allow_object_storage=True, allow_q_circuit=False, allow_q_object=True, backend_name='ibmq_vigo', backend_version='1.0.1', basis_gates=['u1', 'u2', 'u3', 'cx', 'id'], conditional=False, coupling_map=[[0, 1], [1, 0], [1, 2], [1, 3], [2, 1], [3, 1], [3, 4], [4, 3]], credits_required=True, description='5 qubit device Vigo', gates=[GateConfig(coupling_map=[[0], [1], [2], [3], [4]], name='id', parameters=[], qasm_def='gate id q { U(0,0,0) q; }'), GateConfig(coupling_map=[[0], [1], [2], [3], [4]], name='u1', parameters=['lambda'], qasm_def='gate u1(lambda) q { U(0,0,lambda) q; }'), GateConfig(coupling_map=[[0], [1], [2], [3], [4]], name='u2', parameters=['phi', 'lambda'], qasm_def='gate u2(phi,lambda) q { U(pi/2,phi,lambda) q; }'), GateConfig(coupling_map=[[0], [1], [2], [3], [4]], name='u3', parameters=['theta', 'phi', 'lambda'], qasm_def='gate u3(theta,phi,lambda) q { U(theta,phi,lambda) q; }'), GateConfig(coupling_map=[[0, 1], [1, 0], [1, 2], [1, 3], [2, 1], [3, 1], [3, 4], [4, 3]], name='cx', parameters=[], qasm_def='gate cx q1,q2 { CX q1,q2; }')], local=False, max_experiments=75, max_shots=8192, memory=True, n_qubits=5, n_registers=1, online_date=datetime.datetime(2019, 7, 3, 4, 0, tzinfo=datetime.timezone.utc), open_pulse=False, quantum_volume=16, sample_name='Giraffe', simulator=False, url='None')"
      ]
     },
     "execution_count": 13,
     "metadata": {},
     "output_type": "execute_result"
    }
   ],
   "source": [
    "backend.configuration()"
   ]
  },
  {
   "cell_type": "code",
   "execution_count": 14,
   "metadata": {
    "ExecuteTime": {
     "end_time": "2019-08-10T11:11:08.272105Z",
     "start_time": "2019-08-10T11:11:08.267125Z"
    }
   },
   "outputs": [
    {
     "data": {
      "text/plain": [
       "BackendProperties(_gates={'id': {(0,): {'gate_error': (0.0004992375753938592, datetime.datetime(2019, 10, 30, 6, 9, 45, tzinfo=datetime.timezone.utc)), 'gate_length': (3.555555555555556e-08, datetime.datetime(2019, 10, 30, 6, 31, 38, tzinfo=datetime.timezone.utc))}, (1,): {'gate_error': (0.0005629498592469651, datetime.datetime(2019, 10, 30, 6, 9, 45, tzinfo=datetime.timezone.utc)), 'gate_length': (3.555555555555556e-08, datetime.datetime(2019, 10, 30, 6, 31, 38, tzinfo=datetime.timezone.utc))}, (2,): {'gate_error': (0.000679677345863642, datetime.datetime(2019, 10, 30, 6, 9, 45, tzinfo=datetime.timezone.utc)), 'gate_length': (3.555555555555556e-08, datetime.datetime(2019, 10, 30, 6, 31, 38, tzinfo=datetime.timezone.utc))}, (3,): {'gate_error': (0.0004425344349593553, datetime.datetime(2019, 10, 30, 6, 9, 45, tzinfo=datetime.timezone.utc)), 'gate_length': (3.555555555555556e-08, datetime.datetime(2019, 10, 30, 6, 31, 38, tzinfo=datetime.timezone.utc))}, (4,): {'gate_error': (0.0005632732249500103, datetime.datetime(2019, 10, 30, 6, 9, 45, tzinfo=datetime.timezone.utc)), 'gate_length': (3.555555555555556e-08, datetime.datetime(2019, 10, 30, 6, 31, 38, tzinfo=datetime.timezone.utc))}}, 'u1': {(0,): {'gate_error': (0.0, datetime.datetime(2019, 10, 30, 6, 9, 45, tzinfo=datetime.timezone.utc)), 'gate_length': (0.0, datetime.datetime(2019, 10, 30, 6, 31, 38, tzinfo=datetime.timezone.utc))}, (1,): {'gate_error': (0.0, datetime.datetime(2019, 10, 30, 6, 9, 45, tzinfo=datetime.timezone.utc)), 'gate_length': (0.0, datetime.datetime(2019, 10, 30, 6, 31, 38, tzinfo=datetime.timezone.utc))}, (2,): {'gate_error': (0.0, datetime.datetime(2019, 10, 30, 6, 9, 45, tzinfo=datetime.timezone.utc)), 'gate_length': (0.0, datetime.datetime(2019, 10, 30, 6, 31, 38, tzinfo=datetime.timezone.utc))}, (3,): {'gate_error': (0.0, datetime.datetime(2019, 10, 30, 6, 9, 45, tzinfo=datetime.timezone.utc)), 'gate_length': (0.0, datetime.datetime(2019, 10, 30, 6, 31, 38, tzinfo=datetime.timezone.utc))}, (4,): {'gate_error': (0.0, datetime.datetime(2019, 10, 30, 6, 9, 45, tzinfo=datetime.timezone.utc)), 'gate_length': (0.0, datetime.datetime(2019, 10, 30, 6, 31, 38, tzinfo=datetime.timezone.utc))}}, 'u2': {(0,): {'gate_error': (0.0004992375753938592, datetime.datetime(2019, 10, 30, 6, 9, 45, tzinfo=datetime.timezone.utc)), 'gate_length': (3.555555555555556e-08, datetime.datetime(2019, 10, 30, 6, 31, 38, tzinfo=datetime.timezone.utc))}, (1,): {'gate_error': (0.0005629498592469651, datetime.datetime(2019, 10, 30, 6, 9, 45, tzinfo=datetime.timezone.utc)), 'gate_length': (3.555555555555556e-08, datetime.datetime(2019, 10, 30, 6, 31, 38, tzinfo=datetime.timezone.utc))}, (2,): {'gate_error': (0.000679677345863642, datetime.datetime(2019, 10, 30, 6, 9, 45, tzinfo=datetime.timezone.utc)), 'gate_length': (3.555555555555556e-08, datetime.datetime(2019, 10, 30, 6, 31, 38, tzinfo=datetime.timezone.utc))}, (3,): {'gate_error': (0.0004425344349593553, datetime.datetime(2019, 10, 30, 6, 9, 45, tzinfo=datetime.timezone.utc)), 'gate_length': (3.555555555555556e-08, datetime.datetime(2019, 10, 30, 6, 31, 38, tzinfo=datetime.timezone.utc))}, (4,): {'gate_error': (0.0005632732249500103, datetime.datetime(2019, 10, 30, 6, 9, 45, tzinfo=datetime.timezone.utc)), 'gate_length': (3.555555555555556e-08, datetime.datetime(2019, 10, 30, 6, 31, 38, tzinfo=datetime.timezone.utc))}}, 'u3': {(0,): {'gate_error': (0.0009984751507877184, datetime.datetime(2019, 10, 30, 6, 9, 45, tzinfo=datetime.timezone.utc)), 'gate_length': (7.111111111111112e-08, datetime.datetime(2019, 10, 30, 6, 31, 38, tzinfo=datetime.timezone.utc))}, (1,): {'gate_error': (0.0011258997184939302, datetime.datetime(2019, 10, 30, 6, 9, 45, tzinfo=datetime.timezone.utc)), 'gate_length': (7.111111111111112e-08, datetime.datetime(2019, 10, 30, 6, 31, 38, tzinfo=datetime.timezone.utc))}, (2,): {'gate_error': (0.001359354691727284, datetime.datetime(2019, 10, 30, 6, 9, 45, tzinfo=datetime.timezone.utc)), 'gate_length': (7.111111111111112e-08, datetime.datetime(2019, 10, 30, 6, 31, 38, tzinfo=datetime.timezone.utc))}, (3,): {'gate_error': (0.0008850688699187106, datetime.datetime(2019, 10, 30, 6, 9, 45, tzinfo=datetime.timezone.utc)), 'gate_length': (7.111111111111112e-08, datetime.datetime(2019, 10, 30, 6, 31, 38, tzinfo=datetime.timezone.utc))}, (4,): {'gate_error': (0.0011265464499000206, datetime.datetime(2019, 10, 30, 6, 9, 45, tzinfo=datetime.timezone.utc)), 'gate_length': (7.111111111111112e-08, datetime.datetime(2019, 10, 30, 6, 31, 38, tzinfo=datetime.timezone.utc))}}, 'cx': {(0, 1): {'gate_error': (0.011508658489967183, datetime.datetime(2019, 10, 30, 6, 12, 59, tzinfo=datetime.timezone.utc)), 'gate_length': (3.484444444444444e-07, datetime.datetime(2019, 10, 30, 6, 31, 38, tzinfo=datetime.timezone.utc))}, (1, 0): {'gate_error': (0.011508658489967183, datetime.datetime(2019, 10, 30, 6, 12, 59, tzinfo=datetime.timezone.utc)), 'gate_length': (3.484444444444444e-07, datetime.datetime(2019, 10, 30, 6, 31, 38, tzinfo=datetime.timezone.utc))}, (1, 2): {'gate_error': (0.011857219337121694, datetime.datetime(2019, 10, 30, 6, 17, 17, tzinfo=datetime.timezone.utc)), 'gate_length': (2.2755555555555555e-07, datetime.datetime(2019, 10, 30, 6, 31, 38, tzinfo=datetime.timezone.utc))}, (1, 3): {'gate_error': (0.013209611977025748, datetime.datetime(2019, 10, 30, 6, 21, 35, tzinfo=datetime.timezone.utc)), 'gate_length': (4.622222222222222e-07, datetime.datetime(2019, 10, 30, 6, 31, 38, tzinfo=datetime.timezone.utc))}, (2, 1): {'gate_error': (0.011857219337121694, datetime.datetime(2019, 10, 30, 6, 17, 17, tzinfo=datetime.timezone.utc)), 'gate_length': (2.2755555555555555e-07, datetime.datetime(2019, 10, 30, 6, 31, 38, tzinfo=datetime.timezone.utc))}, (3, 1): {'gate_error': (0.013209611977025748, datetime.datetime(2019, 10, 30, 6, 21, 35, tzinfo=datetime.timezone.utc)), 'gate_length': (4.622222222222222e-07, datetime.datetime(2019, 10, 30, 6, 31, 38, tzinfo=datetime.timezone.utc))}, (3, 4): {'gate_error': (0.007194871114451967, datetime.datetime(2019, 10, 30, 6, 31, 38, tzinfo=datetime.timezone.utc)), 'gate_length': (2.702222222222222e-07, datetime.datetime(2019, 10, 30, 6, 31, 38, tzinfo=datetime.timezone.utc))}, (4, 3): {'gate_error': (0.007194871114451967, datetime.datetime(2019, 10, 30, 6, 31, 38, tzinfo=datetime.timezone.utc)), 'gate_length': (2.702222222222222e-07, datetime.datetime(2019, 10, 30, 6, 31, 38, tzinfo=datetime.timezone.utc))}}}, _qubits={0: {'T1': (0.00012767808010697454, datetime.datetime(2019, 10, 30, 6, 7, 13, tzinfo=datetime.timezone.utc)), 'T2': (1.2732041894855987e-05, datetime.datetime(2019, 10, 29, 6, 8, 58, tzinfo=datetime.timezone.utc)), 'frequency': (4795941699.9108515, datetime.datetime(2019, 10, 30, 6, 31, 38, tzinfo=datetime.timezone.utc)), 'readout_error': (0.07099999999999995, datetime.datetime(2019, 10, 30, 6, 6, 45, tzinfo=datetime.timezone.utc)), 'prob_meas0_prep1': (0.062, datetime.datetime(2019, 10, 30, 6, 6, 45, tzinfo=datetime.timezone.utc)), 'prob_meas1_prep0': (0.07999999999999996, datetime.datetime(2019, 10, 30, 6, 6, 45, tzinfo=datetime.timezone.utc))}, 1: {'T1': (6.612040478139712e-05, datetime.datetime(2019, 10, 30, 6, 7, 13, tzinfo=datetime.timezone.utc)), 'T2': (6.994103801603627e-05, datetime.datetime(2019, 10, 30, 6, 8, 55, tzinfo=datetime.timezone.utc)), 'frequency': (4940047193.587734, datetime.datetime(2019, 10, 30, 6, 31, 38, tzinfo=datetime.timezone.utc)), 'readout_error': (0.016000000000000014, datetime.datetime(2019, 10, 30, 6, 6, 45, tzinfo=datetime.timezone.utc)), 'prob_meas0_prep1': (0.028000000000000025, datetime.datetime(2019, 10, 30, 6, 6, 45, tzinfo=datetime.timezone.utc)), 'prob_meas1_prep0': (0.004, datetime.datetime(2019, 10, 30, 6, 6, 45, tzinfo=datetime.timezone.utc))}, 2: {'T1': (0.0001083797462112373, datetime.datetime(2019, 10, 29, 6, 8, 6, tzinfo=datetime.timezone.utc)), 'T2': (2.468795624019979e-05, datetime.datetime(2019, 10, 30, 6, 8, 7, tzinfo=datetime.timezone.utc)), 'frequency': (4833255824.872383, datetime.datetime(2019, 10, 30, 6, 31, 38, tzinfo=datetime.timezone.utc)), 'readout_error': (0.01200000000000001, datetime.datetime(2019, 10, 30, 6, 6, 45, tzinfo=datetime.timezone.utc)), 'prob_meas0_prep1': (0.02400000000000002, datetime.datetime(2019, 10, 30, 6, 6, 45, tzinfo=datetime.timezone.utc)), 'prob_meas1_prep0': (0.0, datetime.datetime(2019, 10, 30, 6, 6, 45, tzinfo=datetime.timezone.utc))}, 3: {'T1': (9.709935952285562e-05, datetime.datetime(2019, 10, 27, 6, 5, 28, tzinfo=datetime.timezone.utc)), 'T2': (5.848938975758616e-05, datetime.datetime(2019, 10, 30, 6, 8, 7, tzinfo=datetime.timezone.utc)), 'frequency': (4807994004.997733, datetime.datetime(2019, 10, 30, 6, 31, 38, tzinfo=datetime.timezone.utc)), 'readout_error': (0.02400000000000002, datetime.datetime(2019, 10, 30, 6, 6, 45, tzinfo=datetime.timezone.utc)), 'prob_meas0_prep1': (0.030000000000000027, datetime.datetime(2019, 10, 30, 6, 6, 45, tzinfo=datetime.timezone.utc)), 'prob_meas1_prep0': (0.018, datetime.datetime(2019, 10, 30, 6, 6, 45, tzinfo=datetime.timezone.utc))}, 4: {'T1': (0.00012139611902932213, datetime.datetime(2019, 10, 30, 6, 7, 13, tzinfo=datetime.timezone.utc)), 'T2': (4.5872942706641926e-05, datetime.datetime(2019, 10, 30, 6, 8, 55, tzinfo=datetime.timezone.utc)), 'frequency': (4749898489.806672, datetime.datetime(2019, 10, 30, 6, 31, 38, tzinfo=datetime.timezone.utc)), 'readout_error': (0.02200000000000002, datetime.datetime(2019, 10, 30, 6, 6, 45, tzinfo=datetime.timezone.utc)), 'prob_meas0_prep1': (0.03200000000000003, datetime.datetime(2019, 10, 30, 6, 6, 45, tzinfo=datetime.timezone.utc)), 'prob_meas1_prep0': (0.012, datetime.datetime(2019, 10, 30, 6, 6, 45, tzinfo=datetime.timezone.utc))}}, backend_name='ibmq_vigo', backend_version='1.0.1', gates=[Gate(gate='id', name='id_0', parameters=[Nduv(date=datetime.datetime(2019, 10, 30, 6, 9, 45, tzinfo=datetime.timezone.utc), name='gate_error', unit='', value=0.0004992375753938592), Nduv(date=datetime.datetime(2019, 10, 30, 6, 31, 38, tzinfo=datetime.timezone.utc), name='gate_length', unit='ns', value=35.55555555555556)], qubits=[0]), Gate(gate='u1', name='u1_0', parameters=[Nduv(date=datetime.datetime(2019, 10, 30, 6, 9, 45, tzinfo=datetime.timezone.utc), name='gate_error', unit='', value=0.0), Nduv(date=datetime.datetime(2019, 10, 30, 6, 31, 38, tzinfo=datetime.timezone.utc), name='gate_length', unit='ns', value=0.0)], qubits=[0]), Gate(gate='u2', name='u2_0', parameters=[Nduv(date=datetime.datetime(2019, 10, 30, 6, 9, 45, tzinfo=datetime.timezone.utc), name='gate_error', unit='', value=0.0004992375753938592), Nduv(date=datetime.datetime(2019, 10, 30, 6, 31, 38, tzinfo=datetime.timezone.utc), name='gate_length', unit='ns', value=35.55555555555556)], qubits=[0]), Gate(gate='u3', name='u3_0', parameters=[Nduv(date=datetime.datetime(2019, 10, 30, 6, 9, 45, tzinfo=datetime.timezone.utc), name='gate_error', unit='', value=0.0009984751507877184), Nduv(date=datetime.datetime(2019, 10, 30, 6, 31, 38, tzinfo=datetime.timezone.utc), name='gate_length', unit='ns', value=71.11111111111111)], qubits=[0]), Gate(gate='id', name='id_1', parameters=[Nduv(date=datetime.datetime(2019, 10, 30, 6, 9, 45, tzinfo=datetime.timezone.utc), name='gate_error', unit='', value=0.0005629498592469651), Nduv(date=datetime.datetime(2019, 10, 30, 6, 31, 38, tzinfo=datetime.timezone.utc), name='gate_length', unit='ns', value=35.55555555555556)], qubits=[1]), Gate(gate='u1', name='u1_1', parameters=[Nduv(date=datetime.datetime(2019, 10, 30, 6, 9, 45, tzinfo=datetime.timezone.utc), name='gate_error', unit='', value=0.0), Nduv(date=datetime.datetime(2019, 10, 30, 6, 31, 38, tzinfo=datetime.timezone.utc), name='gate_length', unit='ns', value=0.0)], qubits=[1]), Gate(gate='u2', name='u2_1', parameters=[Nduv(date=datetime.datetime(2019, 10, 30, 6, 9, 45, tzinfo=datetime.timezone.utc), name='gate_error', unit='', value=0.0005629498592469651), Nduv(date=datetime.datetime(2019, 10, 30, 6, 31, 38, tzinfo=datetime.timezone.utc), name='gate_length', unit='ns', value=35.55555555555556)], qubits=[1]), Gate(gate='u3', name='u3_1', parameters=[Nduv(date=datetime.datetime(2019, 10, 30, 6, 9, 45, tzinfo=datetime.timezone.utc), name='gate_error', unit='', value=0.0011258997184939302), Nduv(date=datetime.datetime(2019, 10, 30, 6, 31, 38, tzinfo=datetime.timezone.utc), name='gate_length', unit='ns', value=71.11111111111111)], qubits=[1]), Gate(gate='id', name='id_2', parameters=[Nduv(date=datetime.datetime(2019, 10, 30, 6, 9, 45, tzinfo=datetime.timezone.utc), name='gate_error', unit='', value=0.000679677345863642), Nduv(date=datetime.datetime(2019, 10, 30, 6, 31, 38, tzinfo=datetime.timezone.utc), name='gate_length', unit='ns', value=35.55555555555556)], qubits=[2]), Gate(gate='u1', name='u1_2', parameters=[Nduv(date=datetime.datetime(2019, 10, 30, 6, 9, 45, tzinfo=datetime.timezone.utc), name='gate_error', unit='', value=0.0), Nduv(date=datetime.datetime(2019, 10, 30, 6, 31, 38, tzinfo=datetime.timezone.utc), name='gate_length', unit='ns', value=0.0)], qubits=[2]), Gate(gate='u2', name='u2_2', parameters=[Nduv(date=datetime.datetime(2019, 10, 30, 6, 9, 45, tzinfo=datetime.timezone.utc), name='gate_error', unit='', value=0.000679677345863642), Nduv(date=datetime.datetime(2019, 10, 30, 6, 31, 38, tzinfo=datetime.timezone.utc), name='gate_length', unit='ns', value=35.55555555555556)], qubits=[2]), Gate(gate='u3', name='u3_2', parameters=[Nduv(date=datetime.datetime(2019, 10, 30, 6, 9, 45, tzinfo=datetime.timezone.utc), name='gate_error', unit='', value=0.001359354691727284), Nduv(date=datetime.datetime(2019, 10, 30, 6, 31, 38, tzinfo=datetime.timezone.utc), name='gate_length', unit='ns', value=71.11111111111111)], qubits=[2]), Gate(gate='id', name='id_3', parameters=[Nduv(date=datetime.datetime(2019, 10, 30, 6, 9, 45, tzinfo=datetime.timezone.utc), name='gate_error', unit='', value=0.0004425344349593553), Nduv(date=datetime.datetime(2019, 10, 30, 6, 31, 38, tzinfo=datetime.timezone.utc), name='gate_length', unit='ns', value=35.55555555555556)], qubits=[3]), Gate(gate='u1', name='u1_3', parameters=[Nduv(date=datetime.datetime(2019, 10, 30, 6, 9, 45, tzinfo=datetime.timezone.utc), name='gate_error', unit='', value=0.0), Nduv(date=datetime.datetime(2019, 10, 30, 6, 31, 38, tzinfo=datetime.timezone.utc), name='gate_length', unit='ns', value=0.0)], qubits=[3]), Gate(gate='u2', name='u2_3', parameters=[Nduv(date=datetime.datetime(2019, 10, 30, 6, 9, 45, tzinfo=datetime.timezone.utc), name='gate_error', unit='', value=0.0004425344349593553), Nduv(date=datetime.datetime(2019, 10, 30, 6, 31, 38, tzinfo=datetime.timezone.utc), name='gate_length', unit='ns', value=35.55555555555556)], qubits=[3]), Gate(gate='u3', name='u3_3', parameters=[Nduv(date=datetime.datetime(2019, 10, 30, 6, 9, 45, tzinfo=datetime.timezone.utc), name='gate_error', unit='', value=0.0008850688699187106), Nduv(date=datetime.datetime(2019, 10, 30, 6, 31, 38, tzinfo=datetime.timezone.utc), name='gate_length', unit='ns', value=71.11111111111111)], qubits=[3]), Gate(gate='id', name='id_4', parameters=[Nduv(date=datetime.datetime(2019, 10, 30, 6, 9, 45, tzinfo=datetime.timezone.utc), name='gate_error', unit='', value=0.0005632732249500103), Nduv(date=datetime.datetime(2019, 10, 30, 6, 31, 38, tzinfo=datetime.timezone.utc), name='gate_length', unit='ns', value=35.55555555555556)], qubits=[4]), Gate(gate='u1', name='u1_4', parameters=[Nduv(date=datetime.datetime(2019, 10, 30, 6, 9, 45, tzinfo=datetime.timezone.utc), name='gate_error', unit='', value=0.0), Nduv(date=datetime.datetime(2019, 10, 30, 6, 31, 38, tzinfo=datetime.timezone.utc), name='gate_length', unit='ns', value=0.0)], qubits=[4]), Gate(gate='u2', name='u2_4', parameters=[Nduv(date=datetime.datetime(2019, 10, 30, 6, 9, 45, tzinfo=datetime.timezone.utc), name='gate_error', unit='', value=0.0005632732249500103), Nduv(date=datetime.datetime(2019, 10, 30, 6, 31, 38, tzinfo=datetime.timezone.utc), name='gate_length', unit='ns', value=35.55555555555556)], qubits=[4]), Gate(gate='u3', name='u3_4', parameters=[Nduv(date=datetime.datetime(2019, 10, 30, 6, 9, 45, tzinfo=datetime.timezone.utc), name='gate_error', unit='', value=0.0011265464499000206), Nduv(date=datetime.datetime(2019, 10, 30, 6, 31, 38, tzinfo=datetime.timezone.utc), name='gate_length', unit='ns', value=71.11111111111111)], qubits=[4]), Gate(gate='cx', name='cx0_1', parameters=[Nduv(date=datetime.datetime(2019, 10, 30, 6, 12, 59, tzinfo=datetime.timezone.utc), name='gate_error', unit='', value=0.011508658489967183), Nduv(date=datetime.datetime(2019, 10, 30, 6, 31, 38, tzinfo=datetime.timezone.utc), name='gate_length', unit='ns', value=348.4444444444444)], qubits=[0, 1]), Gate(gate='cx', name='cx1_0', parameters=[Nduv(date=datetime.datetime(2019, 10, 30, 6, 12, 59, tzinfo=datetime.timezone.utc), name='gate_error', unit='', value=0.011508658489967183), Nduv(date=datetime.datetime(2019, 10, 30, 6, 31, 38, tzinfo=datetime.timezone.utc), name='gate_length', unit='ns', value=348.4444444444444)], qubits=[1, 0]), Gate(gate='cx', name='cx1_2', parameters=[Nduv(date=datetime.datetime(2019, 10, 30, 6, 17, 17, tzinfo=datetime.timezone.utc), name='gate_error', unit='', value=0.011857219337121694), Nduv(date=datetime.datetime(2019, 10, 30, 6, 31, 38, tzinfo=datetime.timezone.utc), name='gate_length', unit='ns', value=227.55555555555554)], qubits=[1, 2]), Gate(gate='cx', name='cx1_3', parameters=[Nduv(date=datetime.datetime(2019, 10, 30, 6, 21, 35, tzinfo=datetime.timezone.utc), name='gate_error', unit='', value=0.013209611977025748), Nduv(date=datetime.datetime(2019, 10, 30, 6, 31, 38, tzinfo=datetime.timezone.utc), name='gate_length', unit='ns', value=462.2222222222222)], qubits=[1, 3]), Gate(gate='cx', name='cx2_1', parameters=[Nduv(date=datetime.datetime(2019, 10, 30, 6, 17, 17, tzinfo=datetime.timezone.utc), name='gate_error', unit='', value=0.011857219337121694), Nduv(date=datetime.datetime(2019, 10, 30, 6, 31, 38, tzinfo=datetime.timezone.utc), name='gate_length', unit='ns', value=227.55555555555554)], qubits=[2, 1]), Gate(gate='cx', name='cx3_1', parameters=[Nduv(date=datetime.datetime(2019, 10, 30, 6, 21, 35, tzinfo=datetime.timezone.utc), name='gate_error', unit='', value=0.013209611977025748), Nduv(date=datetime.datetime(2019, 10, 30, 6, 31, 38, tzinfo=datetime.timezone.utc), name='gate_length', unit='ns', value=462.2222222222222)], qubits=[3, 1]), Gate(gate='cx', name='cx3_4', parameters=[Nduv(date=datetime.datetime(2019, 10, 30, 6, 31, 38, tzinfo=datetime.timezone.utc), name='gate_error', unit='', value=0.007194871114451967), Nduv(date=datetime.datetime(2019, 10, 30, 6, 31, 38, tzinfo=datetime.timezone.utc), name='gate_length', unit='ns', value=270.22222222222223)], qubits=[3, 4]), Gate(gate='cx', name='cx4_3', parameters=[Nduv(date=datetime.datetime(2019, 10, 30, 6, 31, 38, tzinfo=datetime.timezone.utc), name='gate_error', unit='', value=0.007194871114451967), Nduv(date=datetime.datetime(2019, 10, 30, 6, 31, 38, tzinfo=datetime.timezone.utc), name='gate_length', unit='ns', value=270.22222222222223)], qubits=[4, 3])], general=[], last_update_date=datetime.datetime(2019, 10, 30, 6, 31, 38, tzinfo=datetime.timezone.utc), qubits=[[Nduv(date=datetime.datetime(2019, 10, 30, 6, 7, 13, tzinfo=datetime.timezone.utc), name='T1', unit='µs', value=127.67808010697453), Nduv(date=datetime.datetime(2019, 10, 29, 6, 8, 58, tzinfo=datetime.timezone.utc), name='T2', unit='µs', value=12.732041894855987), Nduv(date=datetime.datetime(2019, 10, 30, 6, 31, 38, tzinfo=datetime.timezone.utc), name='frequency', unit='GHz', value=4.795941699910852), Nduv(date=datetime.datetime(2019, 10, 30, 6, 6, 45, tzinfo=datetime.timezone.utc), name='readout_error', unit='', value=0.07099999999999995), Nduv(date=datetime.datetime(2019, 10, 30, 6, 6, 45, tzinfo=datetime.timezone.utc), name='prob_meas0_prep1', unit='', value=0.062), Nduv(date=datetime.datetime(2019, 10, 30, 6, 6, 45, tzinfo=datetime.timezone.utc), name='prob_meas1_prep0', unit='', value=0.07999999999999996)], [Nduv(date=datetime.datetime(2019, 10, 30, 6, 7, 13, tzinfo=datetime.timezone.utc), name='T1', unit='µs', value=66.12040478139713), Nduv(date=datetime.datetime(2019, 10, 30, 6, 8, 55, tzinfo=datetime.timezone.utc), name='T2', unit='µs', value=69.94103801603627), Nduv(date=datetime.datetime(2019, 10, 30, 6, 31, 38, tzinfo=datetime.timezone.utc), name='frequency', unit='GHz', value=4.940047193587734), Nduv(date=datetime.datetime(2019, 10, 30, 6, 6, 45, tzinfo=datetime.timezone.utc), name='readout_error', unit='', value=0.016000000000000014), Nduv(date=datetime.datetime(2019, 10, 30, 6, 6, 45, tzinfo=datetime.timezone.utc), name='prob_meas0_prep1', unit='', value=0.028000000000000025), Nduv(date=datetime.datetime(2019, 10, 30, 6, 6, 45, tzinfo=datetime.timezone.utc), name='prob_meas1_prep0', unit='', value=0.004)], [Nduv(date=datetime.datetime(2019, 10, 29, 6, 8, 6, tzinfo=datetime.timezone.utc), name='T1', unit='µs', value=108.3797462112373), Nduv(date=datetime.datetime(2019, 10, 30, 6, 8, 7, tzinfo=datetime.timezone.utc), name='T2', unit='µs', value=24.687956240199792), Nduv(date=datetime.datetime(2019, 10, 30, 6, 31, 38, tzinfo=datetime.timezone.utc), name='frequency', unit='GHz', value=4.833255824872383), Nduv(date=datetime.datetime(2019, 10, 30, 6, 6, 45, tzinfo=datetime.timezone.utc), name='readout_error', unit='', value=0.01200000000000001), Nduv(date=datetime.datetime(2019, 10, 30, 6, 6, 45, tzinfo=datetime.timezone.utc), name='prob_meas0_prep1', unit='', value=0.02400000000000002), Nduv(date=datetime.datetime(2019, 10, 30, 6, 6, 45, tzinfo=datetime.timezone.utc), name='prob_meas1_prep0', unit='', value=0.0)], [Nduv(date=datetime.datetime(2019, 10, 27, 6, 5, 28, tzinfo=datetime.timezone.utc), name='T1', unit='µs', value=97.09935952285562), Nduv(date=datetime.datetime(2019, 10, 30, 6, 8, 7, tzinfo=datetime.timezone.utc), name='T2', unit='µs', value=58.48938975758616), Nduv(date=datetime.datetime(2019, 10, 30, 6, 31, 38, tzinfo=datetime.timezone.utc), name='frequency', unit='GHz', value=4.807994004997733), Nduv(date=datetime.datetime(2019, 10, 30, 6, 6, 45, tzinfo=datetime.timezone.utc), name='readout_error', unit='', value=0.02400000000000002), Nduv(date=datetime.datetime(2019, 10, 30, 6, 6, 45, tzinfo=datetime.timezone.utc), name='prob_meas0_prep1', unit='', value=0.030000000000000027), Nduv(date=datetime.datetime(2019, 10, 30, 6, 6, 45, tzinfo=datetime.timezone.utc), name='prob_meas1_prep0', unit='', value=0.018)], [Nduv(date=datetime.datetime(2019, 10, 30, 6, 7, 13, tzinfo=datetime.timezone.utc), name='T1', unit='µs', value=121.39611902932214), Nduv(date=datetime.datetime(2019, 10, 30, 6, 8, 55, tzinfo=datetime.timezone.utc), name='T2', unit='µs', value=45.87294270664193), Nduv(date=datetime.datetime(2019, 10, 30, 6, 31, 38, tzinfo=datetime.timezone.utc), name='frequency', unit='GHz', value=4.749898489806672), Nduv(date=datetime.datetime(2019, 10, 30, 6, 6, 45, tzinfo=datetime.timezone.utc), name='readout_error', unit='', value=0.02200000000000002), Nduv(date=datetime.datetime(2019, 10, 30, 6, 6, 45, tzinfo=datetime.timezone.utc), name='prob_meas0_prep1', unit='', value=0.03200000000000003), Nduv(date=datetime.datetime(2019, 10, 30, 6, 6, 45, tzinfo=datetime.timezone.utc), name='prob_meas1_prep0', unit='', value=0.012)]])"
      ]
     },
     "execution_count": 14,
     "metadata": {},
     "output_type": "execute_result"
    }
   ],
   "source": [
    "backend.properties()"
   ]
  },
  {
   "cell_type": "markdown",
   "metadata": {},
   "source": [
    "To see the last five jobs run on this backend:"
   ]
  },
  {
   "cell_type": "code",
   "execution_count": 15,
   "metadata": {
    "ExecuteTime": {
     "end_time": "2019-08-10T11:11:39.833317Z",
     "start_time": "2019-08-10T11:11:39.352617Z"
    }
   },
   "outputs": [
    {
     "name": "stdout",
     "output_type": "stream",
     "text": [
      "5db3c14bfe9a250011ecb52c JobStatus.DONE\n",
      "5db3b8fb277999001a7716e1 JobStatus.DONE\n",
      "5db3b0f3277999001a7716ab JobStatus.DONE\n",
      "5db3a899df5c960012245476 JobStatus.DONE\n",
      "5db3a058d21d340019919604 JobStatus.DONE\n"
     ]
    }
   ],
   "source": [
    "for ran_job in backend.jobs(limit=5):\n",
    "    print(str(ran_job.job_id()) + \" \" + str(ran_job.status()))"
   ]
  },
  {
   "cell_type": "markdown",
   "metadata": {},
   "source": [
    "A `job` can be retrieved using the `retrieve_job(JOB_ID)` method:"
   ]
  },
  {
   "cell_type": "code",
   "execution_count": 17,
   "metadata": {
    "ExecuteTime": {
     "end_time": "2019-08-10T11:12:16.082047Z",
     "start_time": "2019-08-10T11:12:15.712249Z"
    }
   },
   "outputs": [],
   "source": [
    "job = backend.retrieve_job(ran_job.job_id())"
   ]
  },
  {
   "cell_type": "markdown",
   "metadata": {},
   "source": [
    "## Jobs <a name='jobs'></a>\n",
    "\n",
    "Job instances can be thought of as the “ticket” for a submitted job. They find out the execution state at a given point in time (for example, if the job is queued, running, or has failed), and also allow control over the job. They have the following methods:\n",
    "\n",
    "- `status()`: Returns the status of the job.\n",
    "- `backend()`: Returns the backend the job was run on.\n",
    "- `job_id()`: Gets the job_id.\n",
    "- `cancel()`: Cancels the job.\n",
    "- `result()`: Gets the results from the circuit run.\n",
    "\n",
    "\"IBM Q job\"-only functions include:\n",
    "\n",
    "- `creation_date()`: Gives the date at which the job was created.\n",
    "- `queue_position()`: Returns the position of the job in the queue.\n",
    "- `error_message()`: The error message of failed jobs, if any."
   ]
  },
  {
   "cell_type": "markdown",
   "metadata": {},
   "source": [
    "Let's start with the `status()`. This returns the job status and a message:"
   ]
  },
  {
   "cell_type": "code",
   "execution_count": 18,
   "metadata": {
    "ExecuteTime": {
     "end_time": "2019-08-10T11:14:57.844723Z",
     "start_time": "2019-08-10T11:14:57.840769Z"
    }
   },
   "outputs": [
    {
     "data": {
      "text/plain": [
       "<JobStatus.DONE: 'job has successfully run'>"
      ]
     },
     "execution_count": 18,
     "metadata": {},
     "output_type": "execute_result"
    }
   ],
   "source": [
    "job.status()"
   ]
  },
  {
   "cell_type": "markdown",
   "metadata": {},
   "source": [
    "To get a backend object from the job, use the `backend()` method:"
   ]
  },
  {
   "cell_type": "code",
   "execution_count": 19,
   "metadata": {
    "ExecuteTime": {
     "end_time": "2019-08-10T11:15:02.835298Z",
     "start_time": "2019-08-10T11:15:02.831250Z"
    }
   },
   "outputs": [
    {
     "data": {
      "text/plain": [
       "<IBMQBackend('ibmq_vigo') from IBMQ(hub='ibm-q', group='open', project='main')>"
      ]
     },
     "execution_count": 19,
     "metadata": {},
     "output_type": "execute_result"
    }
   ],
   "source": [
    "backend_temp = job.backend()\n",
    "backend_temp"
   ]
  },
  {
   "cell_type": "markdown",
   "metadata": {},
   "source": [
    "To get the job_id use the `job_id()` method:"
   ]
  },
  {
   "cell_type": "code",
   "execution_count": 20,
   "metadata": {
    "ExecuteTime": {
     "end_time": "2019-08-10T11:15:13.419833Z",
     "start_time": "2019-08-10T11:15:13.415394Z"
    }
   },
   "outputs": [
    {
     "data": {
      "text/plain": [
       "'5db3a058d21d340019919604'"
      ]
     },
     "execution_count": 20,
     "metadata": {},
     "output_type": "execute_result"
    }
   ],
   "source": [
    "job.job_id()"
   ]
  },
  {
   "cell_type": "markdown",
   "metadata": {},
   "source": [
    "To get the result from the job, use the `result()` method:"
   ]
  },
  {
   "cell_type": "code",
   "execution_count": 21,
   "metadata": {
    "ExecuteTime": {
     "end_time": "2019-08-10T11:15:21.634977Z",
     "start_time": "2019-08-10T11:15:21.326797Z"
    }
   },
   "outputs": [
    {
     "name": "stdout",
     "output_type": "stream",
     "text": [
      "{'010': 60, '001': 67, '011': 225, '110': 158, '000': 225, '100': 59, '111': 42, '101': 188}\n"
     ]
    }
   ],
   "source": [
    "result = job.result()\n",
    "counts = result.get_counts()\n",
    "print(counts)"
   ]
  },
  {
   "cell_type": "markdown",
   "metadata": {},
   "source": [
    "If you want to check the creation date, use `creation_date()`:"
   ]
  },
  {
   "cell_type": "code",
   "execution_count": 22,
   "metadata": {
    "ExecuteTime": {
     "end_time": "2019-08-10T11:15:27.404142Z",
     "start_time": "2019-08-10T11:15:27.400446Z"
    }
   },
   "outputs": [
    {
     "data": {
      "text/plain": [
       "datetime.datetime(2019, 10, 26, 1, 24, 40, 74000, tzinfo=datetime.timezone.utc)"
      ]
     },
     "execution_count": 22,
     "metadata": {},
     "output_type": "execute_result"
    }
   ],
   "source": [
    "job.creation_date()"
   ]
  },
  {
   "cell_type": "markdown",
   "metadata": {},
   "source": [
    "Let's make an active example."
   ]
  },
  {
   "cell_type": "code",
   "execution_count": 23,
   "metadata": {
    "ExecuteTime": {
     "end_time": "2019-08-10T11:15:39.196145Z",
     "start_time": "2019-08-10T11:15:39.192833Z"
    }
   },
   "outputs": [],
   "source": [
    "from qiskit import *\n",
    "from qiskit.compiler import transpile, assemble"
   ]
  },
  {
   "cell_type": "code",
   "execution_count": 24,
   "metadata": {
    "ExecuteTime": {
     "end_time": "2019-08-10T11:15:39.490894Z",
     "start_time": "2019-08-10T11:15:39.484033Z"
    }
   },
   "outputs": [
    {
     "data": {
      "text/plain": [
       "<qiskit.circuit.instructionset.InstructionSet at 0x7f224dc155f8>"
      ]
     },
     "execution_count": 24,
     "metadata": {},
     "output_type": "execute_result"
    }
   ],
   "source": [
    "qr = QuantumRegister(3)\n",
    "cr = ClassicalRegister(3)\n",
    "circuit = QuantumCircuit(qr, cr)\n",
    "circuit.x(qr[0])\n",
    "circuit.x(qr[1])\n",
    "circuit.ccx(qr[0], qr[1], qr[2])\n",
    "circuit.cx(qr[0], qr[1])\n",
    "circuit.measure(qr, cr)"
   ]
  },
  {
   "cell_type": "markdown",
   "metadata": {},
   "source": [
    "To pass this circuit to the backend, we must first map it onto the backend, package it, and send to the device.  This is all done for you by the `execute` function:"
   ]
  },
  {
   "cell_type": "code",
   "execution_count": 25,
   "metadata": {
    "ExecuteTime": {
     "end_time": "2019-08-10T11:17:47.611651Z",
     "start_time": "2019-08-10T11:17:47.546750Z"
    }
   },
   "outputs": [],
   "source": [
    "job = execute(circuit, backend)"
   ]
  },
  {
   "cell_type": "markdown",
   "metadata": {},
   "source": [
    "Alternatively, you can map the circuit yourself using the `transpile` function, package it using `assemble`, and then send it from the `backend` instance itself:"
   ]
  },
  {
   "cell_type": "code",
   "execution_count": 26,
   "metadata": {
    "ExecuteTime": {
     "end_time": "2019-08-10T11:18:59.534966Z",
     "start_time": "2019-08-10T11:18:59.489290Z"
    }
   },
   "outputs": [],
   "source": [
    "mapped_circuit = transpile(circuit, backend=backend)\n",
    "qobj = assemble(mapped_circuit, backend=backend, shots=1024)\n",
    "job = backend.run(qobj)"
   ]
  },
  {
   "cell_type": "markdown",
   "metadata": {},
   "source": [
    "This second method is discussed in more detail in [Part 5: Using the Transpiler](5_using_the_transpiler.ipynb)."
   ]
  },
  {
   "cell_type": "markdown",
   "metadata": {},
   "source": [
    "## Updating from previous versions <a name='updating'></a>\n",
    "\n",
    "Since `Qiskit` version `0.11`, the IBM Q account defaults to using the new [IBM Q Experience](https://quantum-computing.ibm.com), which supersedes the legacy Quantum Experience and Q-console.\n",
    "\n",
    "If you have credentials for the legacy Quantum Experience or Q-console stored in disk, you can make use of the `IBMQ.update_account()` helper function that converts legacy credentials to the new APIv2 format:"
   ]
  },
  {
   "cell_type": "code",
   "execution_count": 1,
   "metadata": {},
   "outputs": [],
   "source": [
    "# IBMQ.update_account()"
   ]
  },
  {
   "cell_type": "markdown",
   "metadata": {},
   "source": [
    "You can find more information on how to update your programs in the [README.md](https://github.com/Qiskit/qiskit-ibmq-provider/blob/master/README.md#updating-to-the-new-ibm-q-experience) file in the provider repository."
   ]
  },
  {
   "cell_type": "code",
   "execution_count": 27,
   "metadata": {
    "ExecuteTime": {
     "end_time": "2019-08-10T11:28:28.529479Z",
     "start_time": "2019-08-10T11:28:28.521774Z"
    }
   },
   "outputs": [
    {
     "data": {
      "text/html": [
       "<h3>Version Information</h3><table><tr><th>Qiskit Software</th><th>Version</th></tr><tr><td>Qiskit</td><td>0.12.1</td></tr><tr><td>Terra</td><td>0.11.0.dev0+cb5287d</td></tr><tr><td>Aer</td><td>0.4.0</td></tr><tr><td>Ignis</td><td>0.3.0.dev0+4dbcef2</td></tr><tr><td>Aqua</td><td>0.7.0.dev0+0a9e3df</td></tr><tr><td>IBM Q Provider</td><td>0.4.0rc1</td></tr><tr><th>System information</th></tr><tr><td>Python</td><td>3.6.8 (default, Oct  7 2019, 12:59:55) \n",
       "[GCC 8.3.0]</td></tr><tr><td>OS</td><td>Linux</td></tr><tr><td>CPUs</td><td>4</td></tr><tr><td>Memory (Gb)</td><td>7.770122528076172</td></tr><tr><td colspan='2'>Wed Oct 30 10:44:29 2019 MDT</td></tr></table>"
      ],
      "text/plain": [
       "<IPython.core.display.HTML object>"
      ]
     },
     "metadata": {},
     "output_type": "display_data"
    },
    {
     "data": {
      "text/html": [
       "<div style='width: 100%; background-color:#d5d9e0;padding-left: 10px; padding-bottom: 10px; padding-right: 10px; padding-top: 5px'><h3>This code is a part of Qiskit</h3><p>&copy; Copyright IBM 2017, 2019.</p><p>This code is licensed under the Apache License, Version 2.0. You may<br>obtain a copy of this license in the LICENSE.txt file in the root directory<br> of this source tree or at http://www.apache.org/licenses/LICENSE-2.0.<p>Any modifications or derivative works of this code must retain this<br>copyright notice, and modified files need to carry a notice indicating<br>that they have been altered from the originals.</p></div>"
      ],
      "text/plain": [
       "<IPython.core.display.HTML object>"
      ]
     },
     "metadata": {},
     "output_type": "display_data"
    }
   ],
   "source": [
    "import qiskit.tools.jupyter\n",
    "%qiskit_version_table\n",
    "%qiskit_copyright"
   ]
  },
  {
   "cell_type": "code",
   "execution_count": null,
   "metadata": {},
   "outputs": [],
   "source": []
  }
 ],
 "metadata": {
  "anaconda-cloud": {},
  "kernelspec": {
   "display_name": "Python 3",
   "language": "python",
   "name": "python3"
  },
  "language_info": {
   "codemirror_mode": {
    "name": "ipython",
    "version": 3
   },
   "file_extension": ".py",
   "mimetype": "text/x-python",
   "name": "python",
   "nbconvert_exporter": "python",
   "pygments_lexer": "ipython3",
   "version": "3.6.8"
  },
  "varInspector": {
   "cols": {
    "lenName": 16,
    "lenType": 16,
    "lenVar": 40
   },
   "kernels_config": {
    "python": {
     "delete_cmd_postfix": "",
     "delete_cmd_prefix": "del ",
     "library": "var_list.py",
     "varRefreshCmd": "print(var_dic_list())"
    },
    "r": {
     "delete_cmd_postfix": ") ",
     "delete_cmd_prefix": "rm(",
     "library": "var_list.r",
     "varRefreshCmd": "cat(var_dic_list()) "
    }
   },
   "types_to_exclude": [
    "module",
    "function",
    "builtin_function_or_method",
    "instance",
    "_Feature"
   ],
   "window_display": false
  }
 },
 "nbformat": 4,
 "nbformat_minor": 2
}
