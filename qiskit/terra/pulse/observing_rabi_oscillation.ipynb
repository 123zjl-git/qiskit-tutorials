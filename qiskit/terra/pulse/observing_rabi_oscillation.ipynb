{
 "cells": [
  {
   "cell_type": "markdown",
   "metadata": {},
   "source": [
    "<img src=\"../../../images/qiskit-heading.gif\" alt=\"Note: In order for images to show up in this jupyter notebook you need to select File => Trusted Notebook\" width=\"500 px\" align=\"left\">"
   ]
  },
  {
   "cell_type": "markdown",
   "metadata": {
    "slideshow": {
     "slide_type": "slide"
    }
   },
   "source": [
    "# Observing Rabi Oscillation"
   ]
  },
  {
   "cell_type": "code",
   "execution_count": 1,
   "metadata": {},
   "outputs": [],
   "source": [
    "import numpy as np\n",
    "import matplotlib.pyplot as plt\n",
    "from scipy.optimize import curve_fit\n",
    "\n",
    "from qiskit import pulse\n",
    "from qiskit import execute_schedules"
   ]
  },
  {
   "cell_type": "markdown",
   "metadata": {
    "slideshow": {
     "slide_type": "subslide"
    }
   },
   "source": [
    "### Loading pulse backend\n",
    "To run OpenPulse experiment, at first we need to load a backend with `open_pulse = True` in the configuration. `DeviceSpecification` class creates a device configuration from backend. You can extract all information from the instanse to create pulse schedule object.\n",
    "\n",
    "- `device.q` : Returns a list of qubits. Each qubit has `.drive`, `.control`, `.measure` and `.acquire` channels. \n",
    "- `device.c` : Returns a list of registers.\n",
    "- `device.m` : Returns a list of memory slots."
   ]
  },
  {
   "cell_type": "code",
   "execution_count": 2,
   "metadata": {
    "slideshow": {
     "slide_type": "subslide"
    }
   },
   "outputs": [],
   "source": [
    "from qiskit import IBMQ\n",
    "\n",
    "IBMQ.load_accounts()\n",
    "backend_name = 'ibmq_poughkeepsie'\n",
    "backend = IBMQ.get_backend(backend_name)\n",
    "\n",
    "device = pulse.DeviceSpecification.create_from(backend)"
   ]
  },
  {
   "cell_type": "markdown",
   "metadata": {},
   "source": [
    "### Create pulses"
   ]
  },
  {
   "cell_type": "markdown",
   "metadata": {
    "slideshow": {
     "slide_type": "subslide"
    }
   },
   "source": [
    "Complex pulse enveropes can be defined by using `pulse.function` decorator. A python function which returns an `array_like` object can create any user-defined pulses. The first argument of the function should be `duration` specifing number of data points. The pulses are sent to an arbitrary waveform generator and applied to a quantum bit after mixed with a microwave signal from local oscillators (LO)."
   ]
  },
  {
   "cell_type": "code",
   "execution_count": 3,
   "metadata": {
    "slideshow": {
     "slide_type": "subslide"
    }
   },
   "outputs": [],
   "source": [
    "@pulse.function\n",
    "def gaussian_pulse(duration, amp, sigma=None, sigmawide=4):\n",
    "    if sigma is None:\n",
    "        if duration == 0:\n",
    "            sigma = 1\n",
    "        else:\n",
    "            sigma = float(duration) / float(sigmawide)\n",
    "    xvals = np.arange(0, duration, dtype='d')\n",
    "    cen = float(duration - 1) / 2\n",
    "    func = lambda x: amp * np.exp(-(x - cen)**2/(2 * sigma * sigma))\n",
    "    return func(xvals) - func(-1)\n",
    "\n",
    "\n",
    "@pulse.function\n",
    "def gaussian_square_pulse(duration, amp, sigma, risefall=2):\n",
    "\n",
    "    if duration == 0:\n",
    "        return np.array([], dtype=complex)\n",
    "\n",
    "    xvals = np.arange(0, 2 * risefall * sigma, dtype='d')\n",
    "    cen = (float(2 * risefall * sigma) - 1)/2\n",
    "\n",
    "    func_gauss = lambda x: np.exp(-(x - cen)**2/(2 * sigma * sigma))\n",
    "    pulserise = amp * (func_gauss(xvals)[0:(int(np.floor(cen)))] - func_gauss(-1))/(func_gauss(cen) - func_gauss(-1))\n",
    "    if duration - 2 * int(np.floor(cen)) < 0:\n",
    "        pulse_shape = np.concatenate((pulserise[(len(pulserise) - int(np.floor(duration / 2.)) - (int(duration) % 2)):],\n",
    "                                      pulserise[:(len(pulserise) - int(np.floor(duration / 2.)) - 1):-1]))\n",
    "        pulse_shape -= np.min(pulse_shape)\n",
    "    else:\n",
    "        pulse_shape = np.concatenate((pulserise,\n",
    "                                      amp * np.ones(int(duration - 2 * np.floor(cen))),\n",
    "                                      pulserise[::-1]))\n",
    "    return pulse_shape"
   ]
  },
  {
   "cell_type": "code",
   "execution_count": 4,
   "metadata": {},
   "outputs": [],
   "source": [
    "# Calculate amplitude from complex signal\n",
    "def get_amplitude(vec):\n",
    "    i_signal = np.imag(vec)\n",
    "    r_signal = np.real(vec)\n",
    "\n",
    "    mvec = [np.mean(r_signal), np.mean(i_signal)]\n",
    "\n",
    "    src_mat = np.vstack((r_signal - mvec[0], i_signal - mvec[1])).T\n",
    "    (_, _, v_mat) = np.linalg.svd(src_mat)\n",
    "\n",
    "    dvec = v_mat[0, 0:2]\n",
    "\n",
    "    if dvec.dot(mvec) < 0:\n",
    "        dvec = -dvec\n",
    "\n",
    "    return src_mat.dot(dvec)"
   ]
  },
  {
   "cell_type": "markdown",
   "metadata": {
    "slideshow": {
     "slide_type": "slide"
    }
   },
   "source": [
    "## _Running Rabi Experiment_"
   ]
  },
  {
   "cell_type": "markdown",
   "metadata": {
    "slideshow": {
     "slide_type": "subslide"
    }
   },
   "source": [
    "In this experiment, we apply Rabi drive pulse to qubit0 and measure a signal from the qubit by changing the amplitude of the pulse (`drive_amps`) from 0 to 0.05. Returned signal is integrated and averaged over 512 shot. A `boxcar` kernel is used to process measurement data (**note**: currently the hardware overrides this specification, to be implemented in future versions). The result is stored in `memory_slot[0]`."
   ]
  },
  {
   "cell_type": "code",
   "execution_count": 5,
   "metadata": {
    "slideshow": {
     "slide_type": "subslide"
    }
   },
   "outputs": [],
   "source": [
    "exps = 64\n",
    "rabi_shots = 512\n",
    "\n",
    "# Rabi pulse\n",
    "drive_amps = np.linspace(0, 0.05, exps)\n",
    "drive_samples = 128\n",
    "drive_sigma = 32\n",
    "\n",
    "# Measurement pulse\n",
    "meas_amp = 0.025\n",
    "meas_samples = 1200\n",
    "meas_sigma = 4\n",
    "meas_risefall = 25\n",
    "\n",
    "# Measurement pulse (common for all experiment)\n",
    "meas_pulse = gaussian_square_pulse(duration=meas_samples, name='meas_pulse', amp=meas_amp,\n",
    "                                   sigma=meas_sigma, risefall=meas_risefall)\n",
    "\n",
    "# Measurement kernel (common for all experiment)\n",
    "kernel = pulse.Kernel(name='boxcar', start_window=0, stop_window=1200)"
   ]
  },
  {
   "cell_type": "markdown",
   "metadata": {
    "slideshow": {
     "slide_type": "subslide"
    }
   },
   "source": [
    "Pulses are registered to `Schedule`s with information of `channel` and `start_time`. The chanel information is provided by `DeviceSpecification` . `AcquireChannel` is a special type of channels which triggers a digitizer and we cannot add pulses to this type of channels except for `Acquire` commands. Created `Schedule`s can be combined into a single job."
   ]
  },
  {
   "cell_type": "code",
   "execution_count": 6,
   "metadata": {
    "slideshow": {
     "slide_type": "subslide"
    }
   },
   "outputs": [],
   "source": [
    "# Create schedule\n",
    "schedules = []\n",
    "for ii, drive_amp in enumerate(drive_amps):\n",
    "    # drive pulse\n",
    "    rabi_pulse = gaussian_pulse(duration=drive_samples, name='rabi_pulse_%d' % ii, amp=drive_amp, sigma=drive_sigma)\n",
    "    \n",
    "    # add commands to schedule\n",
    "    schedule = pulse.Schedule(device, name='Rabi Experiment at drive amp = %s' % drive_amp)\n",
    "    \n",
    "    schedule.insert(start_time=0,\n",
    "                    command=rabi_pulse,\n",
    "                    channel=device.q[0].drive)\n",
    "    schedule.insert(start_time=drive_samples,\n",
    "                    command=meas_pulse,\n",
    "                    channel=device.q[0].measure)\n",
    "    schedule.insert(start_time=drive_samples,\n",
    "                    command=pulse.Acquire(duration=meas_samples, kernel=kernel),\n",
    "                    channel=device.q[0].acquire)\n",
    "\n",
    "    schedules.append(schedule)"
   ]
  },
  {
   "cell_type": "markdown",
   "metadata": {
    "slideshow": {
     "slide_type": "subslide"
    }
   },
   "source": [
    "After `Schedule`s are configured, we can pass a list of them to the backend with job options prepared as a python dict."
   ]
  },
  {
   "cell_type": "code",
   "execution_count": 7,
   "metadata": {
    "slideshow": {
     "slide_type": "subslide"
    }
   },
   "outputs": [],
   "source": [
    "opts = {\n",
    "    'shots': rabi_shots,\n",
    "    'meas_level': 1,\n",
    "    'meas_return': 'avg',\n",
    "    'memory_slot_size': 1\n",
    "}\n",
    "\n",
    "# Run on the real backend\n",
    "job = execute_schedules(schedules, backend, **opts)"
   ]
  },
  {
   "cell_type": "code",
   "execution_count": 8,
   "metadata": {
    "slideshow": {
     "slide_type": "skip"
    }
   },
   "outputs": [
    {
     "data": {
      "text/plain": [
       "'5c9dc3b142058d0056290c2b'"
      ]
     },
     "execution_count": 8,
     "metadata": {},
     "output_type": "execute_result"
    }
   ],
   "source": [
    "job.job_id()"
   ]
  },
  {
   "cell_type": "code",
   "execution_count": 11,
   "metadata": {},
   "outputs": [
    {
     "data": {
      "text/plain": [
       "<JobStatus.DONE: 'job has successfully run'>"
      ]
     },
     "execution_count": 11,
     "metadata": {},
     "output_type": "execute_result"
    }
   ],
   "source": [
    "job.status()"
   ]
  },
  {
   "cell_type": "code",
   "execution_count": 12,
   "metadata": {
    "slideshow": {
     "slide_type": "subslide"
    }
   },
   "outputs": [],
   "source": [
    "rabi_result = job.result(timeout=3600)"
   ]
  },
  {
   "cell_type": "markdown",
   "metadata": {
    "slideshow": {
     "slide_type": "slide"
    }
   },
   "source": [
    "### Analyze the result"
   ]
  },
  {
   "cell_type": "markdown",
   "metadata": {
    "slideshow": {
     "slide_type": "subslide"
    }
   },
   "source": [
    "The result is stored in `memory_slot[0]` as integreted values of complex signal averaged over shots. By calculating the amplitude of the values, we can observe ocillation of signal amplitude over drive amplitude."
   ]
  },
  {
   "cell_type": "code",
   "execution_count": 13,
   "metadata": {
    "slideshow": {
     "slide_type": "subslide"
    }
   },
   "outputs": [],
   "source": [
    "scale_factor=1e-10\n",
    "\n",
    "results = rabi_result.results\n",
    "\n",
    "results_memory = []\n",
    "for result in results:\n",
    "    results_memory.append(np.asarray(list(map(lambda x: scale_factor*complex(*x), result.data.memory))))\n",
    "results_memory = np.asarray(results_memory)[:, 0]"
   ]
  },
  {
   "cell_type": "code",
   "execution_count": 14,
   "metadata": {
    "slideshow": {
     "slide_type": "subslide"
    }
   },
   "outputs": [
    {
     "name": "stdout",
     "output_type": "stream",
     "text": [
      "Pi Amplitude 0.011085\n"
     ]
    },
    {
     "data": {
      "image/png": "[encoded data removed]",
      "text/plain": [
       "<Figure size 432x288 with 1 Axes>"
      ]
     },
     "metadata": {
      "needs_background": "light"
     },
     "output_type": "display_data"
    }
   ],
   "source": [
    "rabi_amp_data = get_amplitude(results_memory)\n",
    "\n",
    "fit_func = lambda x,A,B,T,phi: (A*np.cos(2*np.pi*x/T+phi)+B)\n",
    "\n",
    "#Fit the data\n",
    "fitparams, conv = curve_fit(fit_func, drive_amps, rabi_amp_data, [1.0,0.0,0.02,0])\n",
    "\n",
    "#get the pi amplitude\n",
    "pi_amp = (np.pi-fitparams[3])*fitparams[2]/2/np.pi\n",
    "\n",
    "plt.scatter(drive_amps, get_amplitude(results_memory))\n",
    "plt.plot(drive_amps, fit_func(drive_amps, *fitparams), color='red')\n",
    "plt.plot(np.ones(len(drive_amps))*pi_amp, np.linspace(-2,2,len(drive_amps)), color='black', linestyle='dashed')\n",
    "plt.xlim(0, 0.05)\n",
    "plt.ylim(-2, 2)\n",
    "plt.xlabel('Pulse amplitude, a.u.', fontsize=20)\n",
    "plt.ylabel('Signal, a.u.', fontsize=20)\n",
    "plt.title('Rough Pi Amplitude Calibration', fontsize=20)\n",
    "\n",
    "print('Pi Amplitude %f'%(pi_amp))"
   ]
  },
  {
   "cell_type": "markdown",
   "metadata": {},
   "source": [
    "## _Measuring the IQ Distribution from the 0 and 1 States_"
   ]
  },
  {
   "cell_type": "markdown",
   "metadata": {},
   "source": [
    "In this experiment, we observe a change of measured signals depending on a quantum state of qubit0. By setting `drive_amp` to `pi_amp` we previously obtained, we can apply $\\pi$-pulse to the qubit0. To observe a distribution on the IQ plane, we set `meas_return` to `single` ."
   ]
  },
  {
   "cell_type": "code",
   "execution_count": 17,
   "metadata": {},
   "outputs": [],
   "source": [
    "# Create schedule\n",
    "schedules = []\n",
    "\n",
    "# Pi-pulse\n",
    "drive_amp = pi_amp\n",
    "\n",
    "for ii in [0,1]:\n",
    "    # drive pulse\n",
    "    rabi_pulse = gaussian_pulse(duration=drive_samples, name='rabi_pulse_%d' % ii, amp=drive_amp, sigma=drive_sigma)\n",
    "    \n",
    "    # add commands to schedule\n",
    "    schedule = pulse.Schedule(device, name='%d State Cal' % ii)\n",
    "    \n",
    "    if ii:\n",
    "        schedule.insert(start_time=0,\n",
    "                        command=rabi_pulse,\n",
    "                        channel=device.q[0].drive)\n",
    "    schedule.insert(start_time=drive_samples,\n",
    "                    command=meas_pulse,\n",
    "                    channel=device.q[0].measure)\n",
    "    schedule.insert(start_time=drive_samples,\n",
    "                    command=pulse.Acquire(duration=meas_samples, kernel=kernel),\n",
    "                    channel=device.q[0].acquire)\n",
    "    \n",
    "    schedules.append(schedule)"
   ]
  },
  {
   "cell_type": "code",
   "execution_count": 18,
   "metadata": {},
   "outputs": [],
   "source": [
    "opts = {\n",
    "    'shots': 3000,\n",
    "    'meas_level': 1,\n",
    "    'meas_return': 'single',\n",
    "    'memory_slot_size': 1\n",
    "}\n",
    "\n",
    "# Run on the real backend\n",
    "job = execute_schedules(schedules, backend, **opts)"
   ]
  },
  {
   "cell_type": "code",
   "execution_count": 19,
   "metadata": {
    "slideshow": {
     "slide_type": "skip"
    }
   },
   "outputs": [
    {
     "data": {
      "text/plain": [
       "'5c9dc4e4fbfd08005ce96249'"
      ]
     },
     "execution_count": 19,
     "metadata": {},
     "output_type": "execute_result"
    }
   ],
   "source": [
    "job.job_id()"
   ]
  },
  {
   "cell_type": "code",
   "execution_count": 33,
   "metadata": {},
   "outputs": [
    {
     "data": {
      "text/plain": [
       "<JobStatus.DONE: 'job has successfully run'>"
      ]
     },
     "execution_count": 33,
     "metadata": {},
     "output_type": "execute_result"
    }
   ],
   "source": [
    "job.status()"
   ]
  },
  {
   "cell_type": "code",
   "execution_count": 34,
   "metadata": {
    "slideshow": {
     "slide_type": "subslide"
    }
   },
   "outputs": [],
   "source": [
    "iq_result = job.result(timeout=3600)"
   ]
  },
  {
   "cell_type": "markdown",
   "metadata": {},
   "source": [
    "### Analyze the result"
   ]
  },
  {
   "cell_type": "code",
   "execution_count": 49,
   "metadata": {},
   "outputs": [],
   "source": [
    "scale_factor=1e-10\n",
    "\n",
    "results = iq_result.results\n",
    "\n",
    "results_memory = []\n",
    "for result in results:\n",
    "    shots = result.data.memory\n",
    "    tmp_memory = []\n",
    "    for shot in shots:\n",
    "       tmp_memory.append(np.asarray(list(map(lambda x: scale_factor*complex(*x), shot))))\n",
    "    results_memory.append(np.asarray(tmp_memory)[:, 0])"
   ]
  },
  {
   "cell_type": "code",
   "execution_count": 55,
   "metadata": {},
   "outputs": [
    {
     "data": {
      "text/plain": [
       "Text(0, 0.5, 'Q (a.u.)')"
      ]
     },
     "execution_count": 55,
     "metadata": {},
     "output_type": "execute_result"
    },
    {
     "data": {
      "image/png": "[encoded data removed]",
      "text/plain": [
       "<Figure size 432x288 with 1 Axes>"
      ]
     },
     "metadata": {
      "needs_background": "light"
     },
     "output_type": "display_data"
    }
   ],
   "source": [
    "ground_data = results_memory[0]\n",
    "excited_data = results_memory[1]\n",
    "\n",
    "plt.scatter(np.real(ground_data), np.imag(ground_data), s=5, cmap='viridis',c='blue',alpha=0.5, label='|0>')\n",
    "plt.scatter(np.real(excited_data), np.imag(excited_data), s=5, cmap='viridis',c='green',alpha=0.5, label='|1>')\n",
    "ground_center = np.mean(ground_data)\n",
    "excited_center = np.mean(excited_data)\n",
    "\n",
    "plt.scatter(np.real(ground_center), np.imag(ground_center), c='blue', s=200, alpha=1.0)\n",
    "plt.scatter(np.real(excited_center), np.imag(excited_center), c='green', s=200, alpha=1.0)\n",
    "\n",
    "plt.title('Kernel integrated I-Q scatter plot', fontsize=20)\n",
    "plt.legend(loc='upper right')\n",
    "plt.xlabel('I (a.u.)', fontsize=16)\n",
    "plt.ylabel('Q (a.u.)', fontsize=16)"
   ]
  },
  {
   "cell_type": "markdown",
   "metadata": {},
   "source": [
    "## _Running Rabi Experiment with Different Frequencies_"
   ]
  },
  {
   "cell_type": "markdown",
   "metadata": {},
   "source": [
    "Previous experiment is performed without specifying LO frequencies of qubit0. In this case, default drive frequencies from the backend configuration are automatically assigned. These values are calibrated to correspond with the qubit resonanse frequencies. In this experiment, we also change the LO frequencies of qubit0 and see what happens."
   ]
  },
  {
   "cell_type": "code",
   "execution_count": 56,
   "metadata": {},
   "outputs": [],
   "source": [
    "exps_amp = 64\n",
    "exps_freq = 21\n",
    "rabi_shots = 512\n",
    "scale_factor=1e-10\n",
    "\n",
    "# Rabi pulse\n",
    "drive_amps = np.linspace(0, 0.1, exps_amp)\n",
    "drive_samples = 128\n",
    "drive_sigma = 32\n",
    "\n",
    "# Measurement pulse\n",
    "meas_amp = 0.025\n",
    "meas_samples = 1200\n",
    "meas_sigma = 4\n",
    "meas_risefall = 25\n",
    "\n",
    "# LO Frequency\n",
    "drive_lo_freqs = np.linspace(-0.003, 0.003, exps_freq)\n",
    "\n",
    "# Measurement pulse (common for all experiment)\n",
    "meas_pulse = gaussian_square_pulse(duration=meas_samples, name='meas_pulse', amp=meas_amp,\n",
    "                                   sigma=meas_sigma, risefall=meas_risefall)\n",
    "\n",
    "# Measurement kernel (common for all experiment)\n",
    "kernel = pulse.Kernel(name='boxcar', start_window=0, stop_window=1200)\n",
    "\n",
    "# Backend options (common for all frequency sweep)\n",
    "opts = {\n",
    "    'shots': rabi_shots,\n",
    "    'meas_level': 1,\n",
    "    'meas_return': 'avg',\n",
    "    'memory_slot_size': 8192\n",
    "}"
   ]
  },
  {
   "cell_type": "code",
   "execution_count": 63,
   "metadata": {},
   "outputs": [],
   "source": [
    "freq_d0_default = device.q[0].drive.lo_frequency"
   ]
  },
  {
   "cell_type": "code",
   "execution_count": 64,
   "metadata": {},
   "outputs": [],
   "source": [
    "# Create schedule for each frequency\n",
    "my_jobs = []\n",
    "for jj, drive_lo_freq in enumerate(drive_lo_freqs):\n",
    "    freq_d0 = freq_d0_default + drive_lo_freq\n",
    "    schedules = []\n",
    "    for ii, drive_amp in enumerate(drive_amps):\n",
    "        # drive pulse\n",
    "        rabi_pulse = gaussian_pulse(duration=drive_samples, name='rabi_pulse_%d' % ii, amp=drive_amp, sigma=drive_sigma)\n",
    "        \n",
    "        # add commands to schedule\n",
    "        schedule = pulse.Schedule(device, name='Rabi Experiment at drive amp = %s' % drive_amp)\n",
    "\n",
    "        schedule.insert(start_time=0,\n",
    "                        command=rabi_pulse,\n",
    "                        channel=device.q[0].drive)\n",
    "        schedule.insert(start_time=drive_samples,\n",
    "                        command=meas_pulse,\n",
    "                        channel=device.q[0].measure)\n",
    "        schedule.insert(start_time=drive_samples,\n",
    "                        command=pulse.Acquire(duration=meas_samples, kernel=kernel),\n",
    "                        channel=device.q[0].acquire)        \n",
    "        \n",
    "        # set LO frequency\n",
    "        device.q[0].drive.set_lo_frequency(freq_d0)\n",
    "        schedules.append(schedule)\n",
    "    \n",
    "    # Run on the real backend\n",
    "    my_jobs.append(execute_schedules(schedules, backend, **opts))"
   ]
  },
  {
   "cell_type": "markdown",
   "metadata": {},
   "source": [
    "** Using job monitor is not recommended because bluemix will shutout your frequent inquiries and which make the provider to cause an error."
   ]
  },
  {
   "cell_type": "code",
   "execution_count": 28,
   "metadata": {},
   "outputs": [
    {
     "name": "stdout",
     "output_type": "stream",
     "text": [
      "0: JobStatus.DONE\n",
      "1: JobStatus.DONE\n",
      "2: JobStatus.DONE\n",
      "3: JobStatus.DONE\n",
      "4: JobStatus.DONE\n",
      "5: JobStatus.DONE\n",
      "6: JobStatus.DONE\n",
      "7: JobStatus.DONE\n",
      "8: JobStatus.DONE\n",
      "9: JobStatus.DONE\n",
      "10: JobStatus.DONE\n",
      "11: JobStatus.DONE\n",
      "12: JobStatus.DONE\n",
      "13: JobStatus.DONE\n",
      "14: JobStatus.DONE\n",
      "15: JobStatus.DONE\n",
      "16: JobStatus.DONE\n",
      "17: JobStatus.DONE\n",
      "18: JobStatus.DONE\n",
      "19: JobStatus.DONE\n",
      "20: JobStatus.DONE\n"
     ]
    }
   ],
   "source": [
    "for ii, job in enumerate(my_jobs):\n",
    "    print('%s: %s' % (ii, job.status()))"
   ]
  },
  {
   "cell_type": "markdown",
   "metadata": {},
   "source": [
    "### Analyze the result"
   ]
  },
  {
   "cell_type": "markdown",
   "metadata": {},
   "source": [
    "As in the same manner as the previous experiment, we calculate signal amplitude for each experiment. The result provides a 2 dimensional array of signal amplitude with respect to drive amplitude and frequency. This is called qubit chevron pattern and we can see the change of Rabi rate that comes with the detuning of drive frequency."
   ]
  },
  {
   "cell_type": "code",
   "execution_count": 29,
   "metadata": {},
   "outputs": [
    {
     "name": "stdout",
     "output_type": "stream",
     "text": [
      "5c9329572ef857005e163904\n",
      "5c9329577ee4cc006124eea7\n",
      "5c93295c9800620055cf8c5a\n",
      "5c932958c92a74005a0a7daf\n",
      "5c932958feea1b005483f0d3\n",
      "5c932959d15f3400576f6073\n",
      "5c93295fd15f3400576f6075\n",
      "5c93295a2ef857005e163906\n",
      "5c93295ac92a74005a0a7db1\n",
      "5c93295bea564b005d33f74d\n",
      "5c93295c2ef857005e163908\n",
      "5c9329629a0b650058724fb2\n",
      "5c93295d7ee4cc006124eea9\n",
      "5c93295f7ee4cc006124eeab\n",
      "5c93295eff7e880059474732\n",
      "5c93295eea564b005d33f74f\n",
      "5c932963a40a140056d1fa56\n",
      "5c93295f9800620055cf8c5c\n",
      "5c93295fc6f9a800624cb6b5\n",
      "5c9329609a0b650058724fb0\n",
      "5c932960ae77080053357620\n"
     ]
    }
   ],
   "source": [
    "results_memory = []\n",
    "\n",
    "for job in my_jobs:\n",
    "    print(job.job_id())\n",
    "    rabi_result = job.result()\n",
    "\n",
    "    # Add qubit0 results\n",
    "    results = rabi_result.results\n",
    "\n",
    "    tmp_memory = []\n",
    "    for result in results:\n",
    "        tmp_memory.append(np.asarray(list(map(lambda x: scale_factor*complex(*x), result.data.memory))))\n",
    "    tmp_memory = np.asarray(tmp_memory)\n",
    "    \n",
    "    results_memory.append(tmp_memory[:, 0])"
   ]
  },
  {
   "cell_type": "code",
   "execution_count": 30,
   "metadata": {},
   "outputs": [],
   "source": [
    "result_amps = np.asarray([get_amplitude(r) for r in results_memory]).T"
   ]
  },
  {
   "cell_type": "code",
   "execution_count": 31,
   "metadata": {},
   "outputs": [
    {
     "data": {
      "text/plain": [
       "Text(0, 0.5, 'Pulse amplitude, a.u.')"
      ]
     },
     "execution_count": 31,
     "metadata": {},
     "output_type": "execute_result"
    },
    {
     "data": {
      "image/png": "[encoded data removed]",
      "text/plain": [
       "<Figure size 432x288 with 2 Axes>"
      ]
     },
     "metadata": {
      "needs_background": "light"
     },
     "output_type": "display_data"
    }
   ],
   "source": [
    "plt.imshow(result_amps,\n",
    "           extent=[drive_lo_freqs.min() * 1e3, drive_lo_freqs.max() * 1e3, drive_amps.min(), drive_amps.max()],\n",
    "           cmap='jet',\n",
    "           vmin=-2, vmax=2,\n",
    "           origin='lowest', aspect='auto')\n",
    "plt.colorbar()\n",
    "plt.xlabel('Frequency detuning, MHz', fontsize=20)\n",
    "plt.ylabel('Pulse amplitude, a.u.', fontsize=20)"
   ]
  }
 ],
 "metadata": {
  "kernelspec": {
   "display_name": "Python 3",
   "language": "python",
   "name": "python3"
  },
  "language_info": {
   "codemirror_mode": {
    "name": "ipython",
    "version": 3
   },
   "file_extension": ".py",
   "mimetype": "text/x-python",
   "name": "python",
   "nbconvert_exporter": "python",
   "pygments_lexer": "ipython3",
   "version": "3.6.7"
  }
 },
 "nbformat": 4,
 "nbformat_minor": 2
}
